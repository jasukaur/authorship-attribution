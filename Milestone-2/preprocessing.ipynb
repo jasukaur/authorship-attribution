{
 "cells": [
  {
   "cell_type": "code",
   "execution_count": 156,
   "metadata": {},
   "outputs": [],
   "source": [
    "# %pip install pandas\n",
    "import pandas as pd\n",
    "import numpy as np"
   ]
  },
  {
   "cell_type": "code",
   "execution_count": null,
   "metadata": {},
   "outputs": [],
   "source": [
    "data_path = '/home/arsh/Jasleen/Spring 2023/NLP/Group Project/Authorship-Attribution-for-Neural-Text-Generation-master/data/'"
   ]
  },
  {
   "cell_type": "code",
   "execution_count": 157,
   "metadata": {},
   "outputs": [
    {
     "data": {
      "text/html": [
       "<div>\n",
       "<style scoped>\n",
       "    .dataframe tbody tr th:only-of-type {\n",
       "        vertical-align: middle;\n",
       "    }\n",
       "\n",
       "    .dataframe tbody tr th {\n",
       "        vertical-align: top;\n",
       "    }\n",
       "\n",
       "    .dataframe thead th {\n",
       "        text-align: right;\n",
       "    }\n",
       "</style>\n",
       "<table border=\"1\" class=\"dataframe\">\n",
       "  <thead>\n",
       "    <tr style=\"text-align: right;\">\n",
       "      <th></th>\n",
       "      <th>Unnamed: 0</th>\n",
       "      <th>Title</th>\n",
       "      <th>Generation</th>\n",
       "      <th>Unnamed: 3</th>\n",
       "    </tr>\n",
       "  </thead>\n",
       "  <tbody>\n",
       "    <tr>\n",
       "      <th>0</th>\n",
       "      <td>0</td>\n",
       "      <td>Latest Headlines on CNN Business</td>\n",
       "      <td>['1. US shale oil output set for biggest month...</td>\n",
       "      <td>NaN</td>\n",
       "    </tr>\n",
       "    <tr>\n",
       "      <th>1</th>\n",
       "      <td>1</td>\n",
       "      <td>China wants to take a victory lap over its han...</td>\n",
       "      <td>['.  China cannot take a victory lap over its ...</td>\n",
       "      <td>NaN</td>\n",
       "    </tr>\n",
       "    <tr>\n",
       "      <th>2</th>\n",
       "      <td>2</td>\n",
       "      <td>Coronavirus disinformation creates challenges ...</td>\n",
       "      <td>['The spread of disinformation about the coron...</td>\n",
       "      <td>NaN</td>\n",
       "    </tr>\n",
       "    <tr>\n",
       "      <th>3</th>\n",
       "      <td>3</td>\n",
       "      <td>China coronavirus: Eating wild animals made il...</td>\n",
       "      <td>['In an effort to prevent the spread of the no...</td>\n",
       "      <td>NaN</td>\n",
       "    </tr>\n",
       "    <tr>\n",
       "      <th>4</th>\n",
       "      <td>4</td>\n",
       "      <td>China's economy could shrink for the first tim...</td>\n",
       "      <td>['pandemic. The outbreak has caused factories ...</td>\n",
       "      <td>NaN</td>\n",
       "    </tr>\n",
       "  </tbody>\n",
       "</table>\n",
       "</div>"
      ],
      "text/plain": [
       "   Unnamed: 0                                              Title  \\\n",
       "0           0                   Latest Headlines on CNN Business   \n",
       "1           1  China wants to take a victory lap over its han...   \n",
       "2           2  Coronavirus disinformation creates challenges ...   \n",
       "3           3  China coronavirus: Eating wild animals made il...   \n",
       "4           4  China's economy could shrink for the first tim...   \n",
       "\n",
       "                                          Generation Unnamed: 3  \n",
       "0  ['1. US shale oil output set for biggest month...        NaN  \n",
       "1  ['.  China cannot take a victory lap over its ...        NaN  \n",
       "2  ['The spread of disinformation about the coron...        NaN  \n",
       "3  ['In an effort to prevent the spread of the no...        NaN  \n",
       "4  ['pandemic. The outbreak has caused factories ...        NaN  "
      ]
     },
     "execution_count": 157,
     "metadata": {},
     "output_type": "execute_result"
    }
   ],
   "source": [
    "gpt3data=pd.read_csv(\"/home/arsh/Jasleen/Spring 2023/NLP/Group Project/Authorship-Attribution-for-Neural-Text-Generation-master/data/GPT3_curieData.csv\")\n",
    "gpt3data.head()\n",
    "instructgpt = pd.read_csv(\"/home/arsh/Jasleen/Spring 2023/NLP/Group Project/Authorship-Attribution-for-Neural-Text-Generation-master/data/InstructGPT.csv\")\n",
    "instructgpt.head()"
   ]
  },
  {
   "cell_type": "code",
   "execution_count": 158,
   "metadata": {},
   "outputs": [
    {
     "data": {
      "text/plain": [
       "Index(['Unnamed: 0', 'Title', 'Generation', 'Unnamed: 3'], dtype='object')"
      ]
     },
     "execution_count": 158,
     "metadata": {},
     "output_type": "execute_result"
    }
   ],
   "source": [
    "gpt3data.columns"
   ]
  },
  {
   "cell_type": "code",
   "execution_count": 159,
   "metadata": {},
   "outputs": [
    {
     "data": {
      "text/plain": [
       "Index(['Unnamed: 0', 'Title', 'Generation', 'Unnamed: 3'], dtype='object')"
      ]
     },
     "execution_count": 159,
     "metadata": {},
     "output_type": "execute_result"
    }
   ],
   "source": [
    "instructgpt.columns"
   ]
  },
  {
   "cell_type": "code",
   "execution_count": 160,
   "metadata": {},
   "outputs": [
    {
     "data": {
      "text/html": [
       "<div>\n",
       "<style scoped>\n",
       "    .dataframe tbody tr th:only-of-type {\n",
       "        vertical-align: middle;\n",
       "    }\n",
       "\n",
       "    .dataframe tbody tr th {\n",
       "        vertical-align: top;\n",
       "    }\n",
       "\n",
       "    .dataframe thead th {\n",
       "        text-align: right;\n",
       "    }\n",
       "</style>\n",
       "<table border=\"1\" class=\"dataframe\">\n",
       "  <thead>\n",
       "    <tr style=\"text-align: right;\">\n",
       "      <th></th>\n",
       "      <th>Title</th>\n",
       "      <th>Generation</th>\n",
       "    </tr>\n",
       "  </thead>\n",
       "  <tbody>\n",
       "    <tr>\n",
       "      <th>0</th>\n",
       "      <td>Latest Headlines on CNN Business</td>\n",
       "      <td>['1. US shale oil output set for biggest month...</td>\n",
       "    </tr>\n",
       "    <tr>\n",
       "      <th>1</th>\n",
       "      <td>China wants to take a victory lap over its han...</td>\n",
       "      <td>['.  China cannot take a victory lap over its ...</td>\n",
       "    </tr>\n",
       "    <tr>\n",
       "      <th>2</th>\n",
       "      <td>Coronavirus disinformation creates challenges ...</td>\n",
       "      <td>['The spread of disinformation about the coron...</td>\n",
       "    </tr>\n",
       "    <tr>\n",
       "      <th>3</th>\n",
       "      <td>China coronavirus: Eating wild animals made il...</td>\n",
       "      <td>['In an effort to prevent the spread of the no...</td>\n",
       "    </tr>\n",
       "    <tr>\n",
       "      <th>4</th>\n",
       "      <td>China's economy could shrink for the first tim...</td>\n",
       "      <td>['pandemic. The outbreak has caused factories ...</td>\n",
       "    </tr>\n",
       "  </tbody>\n",
       "</table>\n",
       "</div>"
      ],
      "text/plain": [
       "                                               Title  \\\n",
       "0                   Latest Headlines on CNN Business   \n",
       "1  China wants to take a victory lap over its han...   \n",
       "2  Coronavirus disinformation creates challenges ...   \n",
       "3  China coronavirus: Eating wild animals made il...   \n",
       "4  China's economy could shrink for the first tim...   \n",
       "\n",
       "                                          Generation  \n",
       "0  ['1. US shale oil output set for biggest month...  \n",
       "1  ['.  China cannot take a victory lap over its ...  \n",
       "2  ['The spread of disinformation about the coron...  \n",
       "3  ['In an effort to prevent the spread of the no...  \n",
       "4  ['pandemic. The outbreak has caused factories ...  "
      ]
     },
     "execution_count": 160,
     "metadata": {},
     "output_type": "execute_result"
    }
   ],
   "source": [
    "df_gpt3=gpt3data[['Title','Generation']]\n",
    "df_instructgpt = instructgpt[['Title','Generation']]\n",
    "df_instructgpt.head()"
   ]
  },
  {
   "cell_type": "code",
   "execution_count": 161,
   "metadata": {},
   "outputs": [
    {
     "data": {
      "text/plain": [
       "'[\\'The Chinese economy could shrink for the first time in decades because of the coronavirus, according to a report by the International Monetary Fund. The virus has killed more than 1,000 people in Saudi Arabia, Qatar, and Bahrain and is believed to be causing respiratory illnesses there. The IMF warns that the economies of those countries could be stunted, as well as other countries in the region. Chinese exports to the three countries could shrink by around 10% due to the virus, the IMF said., the country\\'s top economic planner said Wednesday.  The economy could contract by up to 3 percent this year and by another 1 or 2 percent in 2016 if the coronavirus continues to spread, said Deputy Premier Zhu Guangyao.  \"The Chinese economy is not just based on the growth of exports and investment, but also domestic consumption,\" Zhu said in a speech in Beijing. \"If the consumption side suffers a setback, the growth of exports and investment will also decline.\"  Zhu said the Chinese government was taking \"all possible measures\" to contain the virus, which has caused a global health emergency.  The deputy premier\\'s comments are the first time a senior government official has publicly warned of the possible economic consequences of the coronavirus.  The World Health Organization has said the virus could cause up to $5 billion in economic losses this year, and more if the virus spreads to other countries.  Zhu\\'s comments suggest that Beijing is already taking the economic risks of a pandemic into account as it plans its response.  China has been a top donor of medical aid to the WHO and has dispatched teams of health experts to help contain the virus.  The Chinese government has also said it will provide financial aid to people affected by the virus.  Zhu\\'s comments come as the WHO issues an update on the global response to the pandemic.  The WHO says the number of confirmed cases of the coronavirus has reached 10,000, with more than 4,000 people dead.  The WHO is urging countries to ramp up their response to the pandemic and has called for more funding to help fight it.\\']'"
      ]
     },
     "execution_count": 161,
     "metadata": {},
     "output_type": "execute_result"
    }
   ],
   "source": [
    "df_gpt3.iloc[4]['Generation']"
   ]
  },
  {
   "cell_type": "code",
   "execution_count": 162,
   "metadata": {},
   "outputs": [],
   "source": [
    "# %pip install neattext\n",
    "import neattext as nt\n",
    "import neattext.functions as nfx"
   ]
  },
  {
   "cell_type": "code",
   "execution_count": 163,
   "metadata": {},
   "outputs": [],
   "source": [
    "s=df_gpt3.iloc[0]['Generation']\n",
    "docx=nt.TextFrame(s)"
   ]
  },
  {
   "cell_type": "code",
   "execution_count": 164,
   "metadata": {},
   "outputs": [
    {
     "name": "stdout",
     "output_type": "stream",
     "text": [
      "Key      Value          \n",
      "Length  : 2267           \n",
      "vowels  : 678            \n",
      "consonants: 1098           \n",
      "stopwords: 106            \n",
      "punctuations: 56             \n",
      "special_char: 63             \n",
      "tokens(whitespace): 360            \n",
      "tokens(words): 370            \n"
     ]
    }
   ],
   "source": [
    "docx.describe()"
   ]
  },
  {
   "cell_type": "code",
   "execution_count": 165,
   "metadata": {},
   "outputs": [
    {
     "data": {
      "text/plain": [
       "\"['1. \""
      ]
     },
     "execution_count": 165,
     "metadata": {},
     "output_type": "execute_result"
    }
   ],
   "source": [
    "docx.head()"
   ]
  },
  {
   "cell_type": "code",
   "execution_count": 166,
   "metadata": {},
   "outputs": [
    {
     "data": {
      "text/plain": [
       "\"inesses.']\""
      ]
     },
     "execution_count": 166,
     "metadata": {},
     "output_type": "execute_result"
    }
   ],
   "source": [
    "docx.tail(10)"
   ]
  },
  {
   "cell_type": "code",
   "execution_count": 167,
   "metadata": {},
   "outputs": [
    {
     "data": {
      "text/plain": [
       "\"['1. United Technologies shares fall company misses earnings estimates 2. Chipotle sell shares raise money 3. Goldman Sachs drops insurance investment 4. Sears files Chapter 11 bankruptcy 5. Tesla shares fall SEC charges company securities fraud 1) Trump orders review existing trade deals 2) Airlines brace increased fuel prices 3) China announces new tariffs goods 4) Sears files bankruptcy protection 5) Uber reaches settlement regulators California 1. economy booming, workers struggling 2. Amazon's robots stealing jobs 3. Tax hikes mean money businesses 4. Tech companies retooling strategies stay afloat 5. Airlines struggling baggage fees -Amazon expected announce $13.7 billion cash infusion today -IBM expected report earnings quarter tomorrow -Apple expected report earnings quarter tomorrow 1. Uber Completes Acquisition Jump biking $250 Million 2. Yahoo! Reportedly Considering Sale core business 3. Snap Inc. Reports Strong Fourth Quarter Results 4. American Airlines Ditching Mile Elite Status A-List Elite Status 5. Tesla Announces Newoni Utility Vehicle -Apple unveil new iPhones, watches, HomePod -Facebook face EU scrutiny data practices -Netflix available India: 1) Walmart announces $20 billion investment shipping technology Walmart investing $20 billion shipping technology years looks increase e-commerce presence. company plans use money improve global supply chain speed deliveries customers. 2) Amazon announces new delivery program Prime members Amazon announcing new delivery program Prime members allow items delivered homes hour. program, available select cities, starts $9.99 month. 3) GM invest $1 billion ride-hailing company Lyft General Motors investing $1 billion ride-hailing company Lyft companies look disrupt car industry. GM invest Lyft's core technology, marketing leasing businesses.']\""
      ]
     },
     "execution_count": 167,
     "metadata": {},
     "output_type": "execute_result"
    }
   ],
   "source": [
    "docx.remove_stopwords().text"
   ]
  },
  {
   "cell_type": "code",
   "execution_count": 168,
   "metadata": {},
   "outputs": [
    {
     "name": "stdout",
     "output_type": "stream",
     "text": [
      "Key      Value          \n",
      "Length  : 1829           \n",
      "vowels  : 555            \n",
      "consonants: 918            \n",
      "stopwords: 0              \n",
      "punctuations: 56             \n",
      "special_char: 63             \n",
      "tokens(whitespace): 254            \n",
      "tokens(words): 264            \n"
     ]
    }
   ],
   "source": [
    "docx.describe()"
   ]
  },
  {
   "cell_type": "code",
   "execution_count": 169,
   "metadata": {},
   "outputs": [
    {
     "data": {
      "text/plain": [
       "'[1 United Technologies shares fall company misses earnings estimates 2 Chipotle sell shares raise money 3 Goldman Sachs drops insurance investment 4 Sears files Chapter 11 bankruptcy 5 Tesla shares fall SEC charges company securities fraud 1) Trump orders review existing trade deals 2) Airlines brace increased fuel prices 3) China announces new tariffs goods 4) Sears files bankruptcy protection 5) Uber reaches settlement regulators California 1 economy booming workers struggling 2 Amazons robots stealing jobs 3 Tax hikes mean money businesses 4 Tech companies retooling strategies stay afloat 5 Airlines struggling baggage fees Amazon expected announce $137 billion cash infusion today IBM expected report earnings quarter tomorrow Apple expected report earnings quarter tomorrow 1 Uber Completes Acquisition Jump biking $250 Million 2 Yahoo Reportedly Considering Sale core business 3 Snap Inc Reports Strong Fourth Quarter Results 4 American Airlines Ditching Mile Elite Status AList Elite Status 5 Tesla Announces Newoni Utility Vehicle Apple unveil new iPhones watches HomePod Facebook face EU scrutiny data practices Netflix available India: 1) Walmart announces $20 billion investment shipping technology Walmart investing $20 billion shipping technology years looks increase ecommerce presence company plans use money improve global supply chain speed deliveries customers 2) Amazon announces new delivery program Prime members Amazon announcing new delivery program Prime members allow items delivered homes hour program available select cities starts $999 month 3) GM invest $1 billion ridehailing company Lyft General Motors investing $1 billion ridehailing company Lyft companies look disrupt car industry GM invest Lyfts core technology marketing leasing businesses]'"
      ]
     },
     "execution_count": 169,
     "metadata": {},
     "output_type": "execute_result"
    }
   ],
   "source": [
    "docx.remove_puncts(most_common=True).text"
   ]
  },
  {
   "cell_type": "code",
   "execution_count": 170,
   "metadata": {},
   "outputs": [
    {
     "data": {
      "text/html": [
       "<div>\n",
       "<style scoped>\n",
       "    .dataframe tbody tr th:only-of-type {\n",
       "        vertical-align: middle;\n",
       "    }\n",
       "\n",
       "    .dataframe tbody tr th {\n",
       "        vertical-align: top;\n",
       "    }\n",
       "\n",
       "    .dataframe thead th {\n",
       "        text-align: right;\n",
       "    }\n",
       "</style>\n",
       "<table border=\"1\" class=\"dataframe\">\n",
       "  <thead>\n",
       "    <tr style=\"text-align: right;\">\n",
       "      <th></th>\n",
       "      <th>Title</th>\n",
       "      <th>Generation</th>\n",
       "    </tr>\n",
       "  </thead>\n",
       "  <tbody>\n",
       "    <tr>\n",
       "      <th>0</th>\n",
       "      <td>Latest Headlines on CNN Business</td>\n",
       "      <td>['1. United Technologies shares fall after com...</td>\n",
       "    </tr>\n",
       "    <tr>\n",
       "      <th>1</th>\n",
       "      <td>China wants to take a victory lap over its han...</td>\n",
       "      <td>['Beijing wants to take a victory lap over its...</td>\n",
       "    </tr>\n",
       "    <tr>\n",
       "      <th>2</th>\n",
       "      <td>Coronavirus disinformation creates challenges ...</td>\n",
       "      <td>[', health sector  As the global pandemic of c...</td>\n",
       "    </tr>\n",
       "    <tr>\n",
       "      <th>3</th>\n",
       "      <td>China coronavirus: Eating wild animals made il...</td>\n",
       "      <td>['There have been sporadic cases of the corona...</td>\n",
       "    </tr>\n",
       "    <tr>\n",
       "      <th>4</th>\n",
       "      <td>China's economy could shrink for the first tim...</td>\n",
       "      <td>['The Chinese economy could shrink for the fir...</td>\n",
       "    </tr>\n",
       "  </tbody>\n",
       "</table>\n",
       "</div>"
      ],
      "text/plain": [
       "                                               Title  \\\n",
       "0                   Latest Headlines on CNN Business   \n",
       "1  China wants to take a victory lap over its han...   \n",
       "2  Coronavirus disinformation creates challenges ...   \n",
       "3  China coronavirus: Eating wild animals made il...   \n",
       "4  China's economy could shrink for the first tim...   \n",
       "\n",
       "                                          Generation  \n",
       "0  ['1. United Technologies shares fall after com...  \n",
       "1  ['Beijing wants to take a victory lap over its...  \n",
       "2  [', health sector  As the global pandemic of c...  \n",
       "3  ['There have been sporadic cases of the corona...  \n",
       "4  ['The Chinese economy could shrink for the fir...  "
      ]
     },
     "execution_count": 170,
     "metadata": {},
     "output_type": "execute_result"
    }
   ],
   "source": [
    "df_gpt3.head()"
   ]
  },
  {
   "cell_type": "code",
   "execution_count": 191,
   "metadata": {},
   "outputs": [],
   "source": [
    "import neattext.functions as nfx\n",
    "import pandas as pd\n",
    "\n",
    "def clean_individual_texts(data):\n",
    "    cleaned_texts = []\n",
    "    for text in data['Generation']:\n",
    "        # apply preprocessing steps\n",
    "        text = nfx.remove_special_characters(text)\n",
    "        text = nfx.remove_punctuations(text)\n",
    "#         text = nfx.remove_stopwords(text)\n",
    "        text = nfx.remove_emojis(text)\n",
    "        text = nfx.remove_html_tags(text)\n",
    "#         text=nfx.remove_numbers(text)\n",
    "        \n",
    "        cleaned_texts.append(text)\n",
    "\n",
    "    return pd.DataFrame({'Title': data['Title'],'Generation': cleaned_texts})\n",
    "# clean=clean_individual_texts(df)\n",
    "# clean.head()\n",
    "df_gpt3=clean_individual_texts(df_gpt3)\n",
    "df_instructgpt = clean_individual_texts(df_instructgpt)"
   ]
  },
  {
   "cell_type": "code",
   "execution_count": 101,
   "metadata": {},
   "outputs": [],
   "source": [
    "# df_gpt3['Generation'] = df_gpt3['Generation'].apply(lambda x :nt.TextFrame(x).remove_stopwords().text)\n",
    "# df_gpt3['Generation'] = df_gpt3['Generation'].apply(lambda x :nt.TextFrame(x).remove_puncts(most_common=True).text)\n",
    "# df_gpt3['Generation'] = df_gpt3['Generation'].apply(lambda x :nt.TextFrame(x).remove_numbers().remove_special_characters().remove_multiple_spaces())\n",
    "\n",
    "# df_instructgpt['Generation'] = df_instructgpt['Generation'].apply(lambda x :nt.TextFrame(x).remove_stopwords().text)\n",
    "# df_instructgpt['Generation'] = df_instructgpt['Generation'].apply(lambda x :nt.TextFrame(x).remove_puncts(most_common=True).text)\n",
    "# df_instructgpt['Generation'] = df_instructgpt['Generation'].apply(lambda x :nt.TextFrame(x).remove_numbers().remove_special_characters().remove_multiple_spaces())\n",
    "\n",
    "\n",
    "# df_gpt3['Generation'] = df_gpt3['Generation'].apply(lambda x :x.remove_stopwords().text)\n",
    "# df_gpt3['Generation'] = df_gpt3['Generation'].apply(lambda x :x.remove_puncts(most_common=True).text)\n",
    "# df_gpt3['Generation'] = df_gpt3['Generation'].apply(lambda x :x.remove_numbers().remove_special_characters().remove_multiple_spaces())\n",
    "\n",
    "# df_instructgpt['Generation'] = df_instructgpt['Generation'].apply(lambda x :x.remove_stopwords().text)\n",
    "# df_instructgpt['Generation'] = df_instructgpt['Generation'].apply(lambda x :x.remove_puncts(most_common=True).text)\n",
    "# df_instructgpt['Generation'] = df_instructgpt['Generation'].apply(lambda x :x.remove_numbers().remove_special_characters().remove_multiple_spaces())\n"
   ]
  },
  {
   "cell_type": "code",
   "execution_count": 192,
   "metadata": {},
   "outputs": [
    {
     "data": {
      "text/html": [
       "<div>\n",
       "<style scoped>\n",
       "    .dataframe tbody tr th:only-of-type {\n",
       "        vertical-align: middle;\n",
       "    }\n",
       "\n",
       "    .dataframe tbody tr th {\n",
       "        vertical-align: top;\n",
       "    }\n",
       "\n",
       "    .dataframe thead th {\n",
       "        text-align: right;\n",
       "    }\n",
       "</style>\n",
       "<table border=\"1\" class=\"dataframe\">\n",
       "  <thead>\n",
       "    <tr style=\"text-align: right;\">\n",
       "      <th></th>\n",
       "      <th>Title</th>\n",
       "      <th>Generation</th>\n",
       "    </tr>\n",
       "  </thead>\n",
       "  <tbody>\n",
       "    <tr>\n",
       "      <th>0</th>\n",
       "      <td>Latest Headlines on CNN Business</td>\n",
       "      <td>United Technologies shares fall after company...</td>\n",
       "    </tr>\n",
       "    <tr>\n",
       "      <th>1</th>\n",
       "      <td>China wants to take a victory lap over its han...</td>\n",
       "      <td>Beijing wants to take a victory lap over its h...</td>\n",
       "    </tr>\n",
       "    <tr>\n",
       "      <th>2</th>\n",
       "      <td>Coronavirus disinformation creates challenges ...</td>\n",
       "      <td>health sector  As the global pandemic of coro...</td>\n",
       "    </tr>\n",
       "    <tr>\n",
       "      <th>3</th>\n",
       "      <td>China coronavirus: Eating wild animals made il...</td>\n",
       "      <td>There have been sporadic cases of the coronavi...</td>\n",
       "    </tr>\n",
       "    <tr>\n",
       "      <th>4</th>\n",
       "      <td>China's economy could shrink for the first tim...</td>\n",
       "      <td>The Chinese economy could shrink for the first...</td>\n",
       "    </tr>\n",
       "    <tr>\n",
       "      <th>...</th>\n",
       "      <td>...</td>\n",
       "      <td>...</td>\n",
       "    </tr>\n",
       "    <tr>\n",
       "      <th>1061</th>\n",
       "      <td>How much of your body is your own?</td>\n",
       "      <td>I would say around   I am mostly my own but I ...</td>\n",
       "    </tr>\n",
       "    <tr>\n",
       "      <th>1062</th>\n",
       "      <td>How do you keep a space station clean?</td>\n",
       "      <td>You use a robotic arm to brush the exterior of...</td>\n",
       "    </tr>\n",
       "    <tr>\n",
       "      <th>1063</th>\n",
       "      <td>The city where you pay a year's rent up front</td>\n",
       "      <td>Some cities like New York and San Francisco re...</td>\n",
       "    </tr>\n",
       "    <tr>\n",
       "      <th>1064</th>\n",
       "      <td>The BBC News app gives you the best of BBC New...</td>\n",
       "      <td>You can get the latest news sport weather and...</td>\n",
       "    </tr>\n",
       "    <tr>\n",
       "      <th>1065</th>\n",
       "      <td>Learn how the BBC is working to strengthen tru...</td>\n",
       "      <td>In March  the BBC announced plans to develop a...</td>\n",
       "    </tr>\n",
       "  </tbody>\n",
       "</table>\n",
       "<p>1066 rows × 2 columns</p>\n",
       "</div>"
      ],
      "text/plain": [
       "                                                  Title  \\\n",
       "0                      Latest Headlines on CNN Business   \n",
       "1     China wants to take a victory lap over its han...   \n",
       "2     Coronavirus disinformation creates challenges ...   \n",
       "3     China coronavirus: Eating wild animals made il...   \n",
       "4     China's economy could shrink for the first tim...   \n",
       "...                                                 ...   \n",
       "1061                 How much of your body is your own?   \n",
       "1062             How do you keep a space station clean?   \n",
       "1063      The city where you pay a year's rent up front   \n",
       "1064  The BBC News app gives you the best of BBC New...   \n",
       "1065  Learn how the BBC is working to strengthen tru...   \n",
       "\n",
       "                                             Generation  \n",
       "0      United Technologies shares fall after company...  \n",
       "1     Beijing wants to take a victory lap over its h...  \n",
       "2      health sector  As the global pandemic of coro...  \n",
       "3     There have been sporadic cases of the coronavi...  \n",
       "4     The Chinese economy could shrink for the first...  \n",
       "...                                                 ...  \n",
       "1061  I would say around   I am mostly my own but I ...  \n",
       "1062  You use a robotic arm to brush the exterior of...  \n",
       "1063  Some cities like New York and San Francisco re...  \n",
       "1064   You can get the latest news sport weather and...  \n",
       "1065  In March  the BBC announced plans to develop a...  \n",
       "\n",
       "[1066 rows x 2 columns]"
      ]
     },
     "execution_count": 192,
     "metadata": {},
     "output_type": "execute_result"
    }
   ],
   "source": [
    "df_gpt3"
   ]
  },
  {
   "cell_type": "code",
   "execution_count": 193,
   "metadata": {},
   "outputs": [
    {
     "data": {
      "text/html": [
       "<div>\n",
       "<style scoped>\n",
       "    .dataframe tbody tr th:only-of-type {\n",
       "        vertical-align: middle;\n",
       "    }\n",
       "\n",
       "    .dataframe tbody tr th {\n",
       "        vertical-align: top;\n",
       "    }\n",
       "\n",
       "    .dataframe thead th {\n",
       "        text-align: right;\n",
       "    }\n",
       "</style>\n",
       "<table border=\"1\" class=\"dataframe\">\n",
       "  <thead>\n",
       "    <tr style=\"text-align: right;\">\n",
       "      <th></th>\n",
       "      <th>Title</th>\n",
       "      <th>Generation</th>\n",
       "    </tr>\n",
       "  </thead>\n",
       "  <tbody>\n",
       "    <tr>\n",
       "      <th>0</th>\n",
       "      <td>Latest Headlines on CNN Business</td>\n",
       "      <td>US shale oil output set for biggest monthly i...</td>\n",
       "    </tr>\n",
       "    <tr>\n",
       "      <th>1</th>\n",
       "      <td>China wants to take a victory lap over its han...</td>\n",
       "      <td>China cannot take a victory lap over its han...</td>\n",
       "    </tr>\n",
       "    <tr>\n",
       "      <th>2</th>\n",
       "      <td>Coronavirus disinformation creates challenges ...</td>\n",
       "      <td>The spread of disinformation about the coronav...</td>\n",
       "    </tr>\n",
       "    <tr>\n",
       "      <th>3</th>\n",
       "      <td>China coronavirus: Eating wild animals made il...</td>\n",
       "      <td>In an effort to prevent the spread of the nove...</td>\n",
       "    </tr>\n",
       "    <tr>\n",
       "      <th>4</th>\n",
       "      <td>China's economy could shrink for the first tim...</td>\n",
       "      <td>pandemic The outbreak has caused factories and...</td>\n",
       "    </tr>\n",
       "    <tr>\n",
       "      <th>...</th>\n",
       "      <td>...</td>\n",
       "      <td>...</td>\n",
       "    </tr>\n",
       "    <tr>\n",
       "      <th>1061</th>\n",
       "      <td>How much of your body is your own?</td>\n",
       "      <td>Your entire body is your own  Your entire body...</td>\n",
       "    </tr>\n",
       "    <tr>\n",
       "      <th>1062</th>\n",
       "      <td>How do you keep a space station clean?</td>\n",
       "      <td>Keeping a space station clean requires a numbe...</td>\n",
       "    </tr>\n",
       "    <tr>\n",
       "      <th>1063</th>\n",
       "      <td>The city where you pay a year's rent up front</td>\n",
       "      <td>The majority of cities in the United States do...</td>\n",
       "    </tr>\n",
       "    <tr>\n",
       "      <th>1064</th>\n",
       "      <td>The BBC News app gives you the best of BBC New...</td>\n",
       "      <td>Get the latest news features analysis and deb...</td>\n",
       "    </tr>\n",
       "    <tr>\n",
       "      <th>1065</th>\n",
       "      <td>Learn how the BBC is working to strengthen tru...</td>\n",
       "      <td>The BBC has launched a range of initiatives to...</td>\n",
       "    </tr>\n",
       "  </tbody>\n",
       "</table>\n",
       "<p>1066 rows × 2 columns</p>\n",
       "</div>"
      ],
      "text/plain": [
       "                                                  Title  \\\n",
       "0                      Latest Headlines on CNN Business   \n",
       "1     China wants to take a victory lap over its han...   \n",
       "2     Coronavirus disinformation creates challenges ...   \n",
       "3     China coronavirus: Eating wild animals made il...   \n",
       "4     China's economy could shrink for the first tim...   \n",
       "...                                                 ...   \n",
       "1061                 How much of your body is your own?   \n",
       "1062             How do you keep a space station clean?   \n",
       "1063      The city where you pay a year's rent up front   \n",
       "1064  The BBC News app gives you the best of BBC New...   \n",
       "1065  Learn how the BBC is working to strengthen tru...   \n",
       "\n",
       "                                             Generation  \n",
       "0      US shale oil output set for biggest monthly i...  \n",
       "1       China cannot take a victory lap over its han...  \n",
       "2     The spread of disinformation about the coronav...  \n",
       "3     In an effort to prevent the spread of the nove...  \n",
       "4     pandemic The outbreak has caused factories and...  \n",
       "...                                                 ...  \n",
       "1061  Your entire body is your own  Your entire body...  \n",
       "1062  Keeping a space station clean requires a numbe...  \n",
       "1063  The majority of cities in the United States do...  \n",
       "1064   Get the latest news features analysis and deb...  \n",
       "1065  The BBC has launched a range of initiatives to...  \n",
       "\n",
       "[1066 rows x 2 columns]"
      ]
     },
     "execution_count": 193,
     "metadata": {},
     "output_type": "execute_result"
    }
   ],
   "source": [
    "df_instructgpt"
   ]
  },
  {
   "cell_type": "code",
   "execution_count": 18,
   "metadata": {},
   "outputs": [],
   "source": [
    "# from copy import deepcopy"
   ]
  },
  {
   "cell_type": "code",
   "execution_count": 194,
   "metadata": {},
   "outputs": [
    {
     "data": {
      "text/plain": [
       "(1066, 2)"
      ]
     },
     "execution_count": 194,
     "metadata": {},
     "output_type": "execute_result"
    }
   ],
   "source": [
    "df_gpt3.shape"
   ]
  },
  {
   "cell_type": "code",
   "execution_count": 195,
   "metadata": {},
   "outputs": [
    {
     "data": {
      "text/plain": [
       "(1066, 2)"
      ]
     },
     "execution_count": 195,
     "metadata": {},
     "output_type": "execute_result"
    }
   ],
   "source": [
    "df_instructgpt.shape"
   ]
  },
  {
   "cell_type": "code",
   "execution_count": 176,
   "metadata": {},
   "outputs": [],
   "source": [
    "# %pip install texthero\n",
    "# import texthero as hero"
   ]
  },
  {
   "cell_type": "code",
   "execution_count": 29,
   "metadata": {},
   "outputs": [],
   "source": [
    "# df['Generation']=df['Generation'].pipe(hero.clean)\n",
    "# df"
   ]
  },
  {
   "cell_type": "code",
   "execution_count": 31,
   "metadata": {},
   "outputs": [],
   "source": [
    "# import nltk\n",
    "# nltk.download('punkt')\n",
    "# nltk.download('wordnet')\n",
    "# from nltk.tokenize import word_tokenize\n",
    "# from nltk.stem import WordNetLemmatizer\n",
    "# import pandas as pd\n",
    "\n",
    "\n",
    "# # Create an instance of the WordNetLemmatizer class\n",
    "# lemmatizer = WordNetLemmatizer()\n",
    "\n",
    "# # Define a custom function to perform tokenization and lemmatization\n",
    "# def tokenize_and_lemmatize(text):\n",
    "#     tokens = word_tokenize(text)\n",
    "#     lemmatized_tokens = [lemmatizer.lemmatize(token) for token in tokens]\n",
    "#     return ' '.join(lemmatized_tokens)\n",
    "\n",
    "# # Apply the function to each row of the Generation column using apply() method\n",
    "# df['lemmatized_text'] = df['Generation'].apply(tokenize_and_lemmatize)\n",
    "# df\n"
   ]
  },
  {
   "cell_type": "code",
   "execution_count": 135,
   "metadata": {},
   "outputs": [],
   "source": [
    "# df.iloc[0]['lemmatized_text']"
   ]
  },
  {
   "cell_type": "code",
   "execution_count": 196,
   "metadata": {},
   "outputs": [
    {
     "data": {
      "text/plain": [
       "' We are very confident in the measures that we are taking  The science is really clear We have the best scientists in the world  We have done very well in this  The United States is doing well Perhaps better than anybody has ever done  This is something that is very hard to diagnose very hard to treat  There is no current investigation that Im aware of that suggests that our country is at risk  This is something that we have to be very careful about  We have very sophisticated scientists working on this  This is a very serious problem  We have the best hospitals in the world  I would say its a very small number  Its not just Mexico its all over the world  We have a very wellfunctioning and strong health care system  I think were doing very well  Its a very difficult thing to do  This is something new This is something thats never happened before  This is something that I think we have to take seriously  I think were doing very well Im very confident in the way the CDC is operating  The United States is doing really well Its a really tough thing  I would say it is a very very tiny number  Im not sure I understand the question  I would say its a very small number but I would not like to say its zero  I think the system is working very well  I dont think so  I would say there is a zero percent chance its happening in this country  Im not aware of any specific threat  I would say its a very small number  Its difficult to say exactly  I think the system is working very well  I dont think so'"
      ]
     },
     "execution_count": 196,
     "metadata": {},
     "output_type": "execute_result"
    }
   ],
   "source": [
    "df_gpt3['Generation'][12]"
   ]
  },
  {
   "cell_type": "code",
   "execution_count": 197,
   "metadata": {},
   "outputs": [
    {
     "name": "stderr",
     "output_type": "stream",
     "text": [
      "[nltk_data] Downloading package punkt to /home/arsh/nltk_data...\n",
      "[nltk_data]   Package punkt is already up-to-date!\n"
     ]
    },
    {
     "data": {
      "text/plain": [
       "True"
      ]
     },
     "execution_count": 197,
     "metadata": {},
     "output_type": "execute_result"
    }
   ],
   "source": [
    "from nltk import tokenize\n",
    "from nltk.tokenize import word_tokenize\n",
    "import nltk\n",
    "nltk.download('punkt')"
   ]
  },
  {
   "cell_type": "code",
   "execution_count": 198,
   "metadata": {},
   "outputs": [],
   "source": [
    "def stat(data):\n",
    "    word = []\n",
    "    sent = []\n",
    "    \n",
    "    for i in data:\n",
    "        word.append(len(word_tokenize(i)))\n",
    "        sent.append(len(tokenize.sent_tokenize(i)))\n",
    "        \n",
    "    final_list = [x for x in word if (x > np.mean(word) - 2 * np.std(word))]\n",
    "    new_word = [x for x in final_list if (x < np.mean(word) + 2 * np.std(word))]\n",
    "    \n",
    "    final_list = [x for x in sent if (x > np.mean(sent) - 2 * np.std(sent))]\n",
    "    new_sent = [x for x in final_list if (x < np.mean(sent) + 2 * np.std(sent))]\n",
    "        \n",
    "    return pd.DataFrame({'Avg_word': np.mean(new_word), \n",
    "                         'SD_word': np.std(new_word),\n",
    "                         'Avg_sent': np.mean(new_sent),\n",
    "                         'SD_sent': np.std(new_sent)}, index=[0])\n",
    "        "
   ]
  },
  {
   "cell_type": "code",
   "execution_count": 199,
   "metadata": {},
   "outputs": [],
   "source": [
    "h_gpt3 = []\n",
    "sent_gpt3 = []\n",
    "\n",
    "\n",
    "for i in range(len(df_gpt3['Generation'])):\n",
    "    if len(word_tokenize(df_gpt3['Generation'][i])) > 100 and len(word_tokenize(df_gpt3['Generation'][i])) < 1000:   \n",
    "        h_gpt3.append(len(word_tokenize(df_gpt3['Generation'][i])))\n",
    "        sent_gpt3.append(len(tokenize.sent_tokenize(df_gpt3['Generation'][i])))\n",
    "    "
   ]
  },
  {
   "cell_type": "code",
   "execution_count": 200,
   "metadata": {},
   "outputs": [],
   "source": [
    "h_instructgpt = []\n",
    "sent_instructgpt = []\n",
    "\n",
    "\n",
    "for i in range(len(df_instructgpt['Generation'])):\n",
    "    if len(word_tokenize(df_instructgpt['Generation'][i])) > 100 and len(word_tokenize(df_instructgpt['Generation'][i])) < 1000:   \n",
    "        h_instructgpt.append(len(word_tokenize(df_instructgpt['Generation'][i])))\n",
    "        sent_instructgpt.append(len(tokenize.sent_tokenize(df_instructgpt['Generation'][i])))\n",
    "    "
   ]
  },
  {
   "cell_type": "code",
   "execution_count": 201,
   "metadata": {},
   "outputs": [
    {
     "data": {
      "text/plain": [
       "1065"
      ]
     },
     "execution_count": 201,
     "metadata": {},
     "output_type": "execute_result"
    }
   ],
   "source": [
    "len(h_gpt3)"
   ]
  },
  {
   "cell_type": "code",
   "execution_count": 202,
   "metadata": {},
   "outputs": [
    {
     "data": {
      "text/plain": [
       "72.15741789827626"
      ]
     },
     "execution_count": 202,
     "metadata": {},
     "output_type": "execute_result"
    }
   ],
   "source": [
    "np.std(h_gpt3)"
   ]
  },
  {
   "cell_type": "code",
   "execution_count": 203,
   "metadata": {},
   "outputs": [
    {
     "data": {
      "text/plain": [
       "0.0"
      ]
     },
     "execution_count": 203,
     "metadata": {},
     "output_type": "execute_result"
    }
   ],
   "source": [
    "np.std(sent_gpt3)"
   ]
  },
  {
   "cell_type": "code",
   "execution_count": 204,
   "metadata": {},
   "outputs": [
    {
     "name": "stderr",
     "output_type": "stream",
     "text": [
      "/home/arsh/anaconda3/lib/python3.9/site-packages/numpy/core/fromnumeric.py:3440: RuntimeWarning: Mean of empty slice.\n",
      "  return _methods._mean(a, axis=axis, dtype=dtype,\n",
      "/home/arsh/anaconda3/lib/python3.9/site-packages/numpy/core/_methods.py:189: RuntimeWarning: invalid value encountered in double_scalars\n",
      "  ret = ret.dtype.type(ret / rcount)\n",
      "/home/arsh/anaconda3/lib/python3.9/site-packages/numpy/core/_methods.py:262: RuntimeWarning: Degrees of freedom <= 0 for slice\n",
      "  ret = _var(a, axis=axis, dtype=dtype, out=out, ddof=ddof,\n",
      "/home/arsh/anaconda3/lib/python3.9/site-packages/numpy/core/_methods.py:222: RuntimeWarning: invalid value encountered in true_divide\n",
      "  arrmean = um.true_divide(arrmean, div, out=arrmean, casting='unsafe',\n",
      "/home/arsh/anaconda3/lib/python3.9/site-packages/numpy/core/_methods.py:254: RuntimeWarning: invalid value encountered in double_scalars\n",
      "  ret = ret.dtype.type(ret / rcount)\n",
      "/home/arsh/anaconda3/lib/python3.9/site-packages/numpy/core/fromnumeric.py:3440: RuntimeWarning: Mean of empty slice.\n",
      "  return _methods._mean(a, axis=axis, dtype=dtype,\n",
      "/home/arsh/anaconda3/lib/python3.9/site-packages/numpy/core/_methods.py:189: RuntimeWarning: invalid value encountered in double_scalars\n",
      "  ret = ret.dtype.type(ret / rcount)\n",
      "/home/arsh/anaconda3/lib/python3.9/site-packages/numpy/core/_methods.py:262: RuntimeWarning: Degrees of freedom <= 0 for slice\n",
      "  ret = _var(a, axis=axis, dtype=dtype, out=out, ddof=ddof,\n",
      "/home/arsh/anaconda3/lib/python3.9/site-packages/numpy/core/_methods.py:222: RuntimeWarning: invalid value encountered in true_divide\n",
      "  arrmean = um.true_divide(arrmean, div, out=arrmean, casting='unsafe',\n",
      "/home/arsh/anaconda3/lib/python3.9/site-packages/numpy/core/_methods.py:254: RuntimeWarning: invalid value encountered in double_scalars\n",
      "  ret = ret.dtype.type(ret / rcount)\n"
     ]
    }
   ],
   "source": [
    "gpt3_stat = stat(df_gpt3['Generation'])\n",
    "instruct_stat = stat(df_instructgpt['Generation'])"
   ]
  },
  {
   "cell_type": "code",
   "execution_count": 205,
   "metadata": {},
   "outputs": [],
   "source": [
    "gpt3_stat_o = stat(gpt3data['Generation'])\n",
    "instruct_stat_o = stat(instructgpt['Generation'])"
   ]
  },
  {
   "cell_type": "code",
   "execution_count": 206,
   "metadata": {},
   "outputs": [
    {
     "data": {
      "text/html": [
       "<div>\n",
       "<style scoped>\n",
       "    .dataframe tbody tr th:only-of-type {\n",
       "        vertical-align: middle;\n",
       "    }\n",
       "\n",
       "    .dataframe tbody tr th {\n",
       "        vertical-align: top;\n",
       "    }\n",
       "\n",
       "    .dataframe thead th {\n",
       "        text-align: right;\n",
       "    }\n",
       "</style>\n",
       "<table border=\"1\" class=\"dataframe\">\n",
       "  <thead>\n",
       "    <tr style=\"text-align: right;\">\n",
       "      <th></th>\n",
       "      <th>Avg_word</th>\n",
       "      <th>SD_word</th>\n",
       "      <th>Avg_sent</th>\n",
       "      <th>SD_sent</th>\n",
       "    </tr>\n",
       "  </thead>\n",
       "  <tbody>\n",
       "    <tr>\n",
       "      <th>0</th>\n",
       "      <td>321.239604</td>\n",
       "      <td>67.525045</td>\n",
       "      <td>15.285297</td>\n",
       "      <td>4.844154</td>\n",
       "    </tr>\n",
       "  </tbody>\n",
       "</table>\n",
       "</div>"
      ],
      "text/plain": [
       "     Avg_word    SD_word   Avg_sent   SD_sent\n",
       "0  321.239604  67.525045  15.285297  4.844154"
      ]
     },
     "execution_count": 206,
     "metadata": {},
     "output_type": "execute_result"
    }
   ],
   "source": [
    "gpt3_stat_o"
   ]
  },
  {
   "cell_type": "code",
   "execution_count": 207,
   "metadata": {},
   "outputs": [
    {
     "data": {
      "text/html": [
       "<div>\n",
       "<style scoped>\n",
       "    .dataframe tbody tr th:only-of-type {\n",
       "        vertical-align: middle;\n",
       "    }\n",
       "\n",
       "    .dataframe tbody tr th {\n",
       "        vertical-align: top;\n",
       "    }\n",
       "\n",
       "    .dataframe thead th {\n",
       "        text-align: right;\n",
       "    }\n",
       "</style>\n",
       "<table border=\"1\" class=\"dataframe\">\n",
       "  <thead>\n",
       "    <tr style=\"text-align: right;\">\n",
       "      <th></th>\n",
       "      <th>Avg_word</th>\n",
       "      <th>SD_word</th>\n",
       "      <th>Avg_sent</th>\n",
       "      <th>SD_sent</th>\n",
       "    </tr>\n",
       "  </thead>\n",
       "  <tbody>\n",
       "    <tr>\n",
       "      <th>0</th>\n",
       "      <td>333.051859</td>\n",
       "      <td>64.894693</td>\n",
       "      <td>14.677134</td>\n",
       "      <td>4.993104</td>\n",
       "    </tr>\n",
       "  </tbody>\n",
       "</table>\n",
       "</div>"
      ],
      "text/plain": [
       "     Avg_word    SD_word   Avg_sent   SD_sent\n",
       "0  333.051859  64.894693  14.677134  4.993104"
      ]
     },
     "execution_count": 207,
     "metadata": {},
     "output_type": "execute_result"
    }
   ],
   "source": [
    "instruct_stat_o"
   ]
  },
  {
   "cell_type": "code",
   "execution_count": 208,
   "metadata": {},
   "outputs": [
    {
     "data": {
      "text/html": [
       "<div>\n",
       "<style scoped>\n",
       "    .dataframe tbody tr th:only-of-type {\n",
       "        vertical-align: middle;\n",
       "    }\n",
       "\n",
       "    .dataframe tbody tr th {\n",
       "        vertical-align: top;\n",
       "    }\n",
       "\n",
       "    .dataframe thead th {\n",
       "        text-align: right;\n",
       "    }\n",
       "</style>\n",
       "<table border=\"1\" class=\"dataframe\">\n",
       "  <thead>\n",
       "    <tr style=\"text-align: right;\">\n",
       "      <th></th>\n",
       "      <th>Avg_word</th>\n",
       "      <th>SD_word</th>\n",
       "      <th>Avg_sent</th>\n",
       "      <th>SD_sent</th>\n",
       "    </tr>\n",
       "  </thead>\n",
       "  <tbody>\n",
       "    <tr>\n",
       "      <th>0</th>\n",
       "      <td>272.81665</td>\n",
       "      <td>57.721599</td>\n",
       "      <td>NaN</td>\n",
       "      <td>NaN</td>\n",
       "    </tr>\n",
       "  </tbody>\n",
       "</table>\n",
       "</div>"
      ],
      "text/plain": [
       "    Avg_word    SD_word  Avg_sent  SD_sent\n",
       "0  272.81665  57.721599       NaN      NaN"
      ]
     },
     "execution_count": 208,
     "metadata": {},
     "output_type": "execute_result"
    }
   ],
   "source": [
    "gpt3_stat"
   ]
  },
  {
   "cell_type": "code",
   "execution_count": 209,
   "metadata": {},
   "outputs": [
    {
     "data": {
      "text/html": [
       "<div>\n",
       "<style scoped>\n",
       "    .dataframe tbody tr th:only-of-type {\n",
       "        vertical-align: middle;\n",
       "    }\n",
       "\n",
       "    .dataframe tbody tr th {\n",
       "        vertical-align: top;\n",
       "    }\n",
       "\n",
       "    .dataframe thead th {\n",
       "        text-align: right;\n",
       "    }\n",
       "</style>\n",
       "<table border=\"1\" class=\"dataframe\">\n",
       "  <thead>\n",
       "    <tr style=\"text-align: right;\">\n",
       "      <th></th>\n",
       "      <th>Avg_word</th>\n",
       "      <th>SD_word</th>\n",
       "      <th>Avg_sent</th>\n",
       "      <th>SD_sent</th>\n",
       "    </tr>\n",
       "  </thead>\n",
       "  <tbody>\n",
       "    <tr>\n",
       "      <th>0</th>\n",
       "      <td>284.005911</td>\n",
       "      <td>55.696503</td>\n",
       "      <td>NaN</td>\n",
       "      <td>NaN</td>\n",
       "    </tr>\n",
       "  </tbody>\n",
       "</table>\n",
       "</div>"
      ],
      "text/plain": [
       "     Avg_word    SD_word  Avg_sent  SD_sent\n",
       "0  284.005911  55.696503       NaN      NaN"
      ]
     },
     "execution_count": 209,
     "metadata": {},
     "output_type": "execute_result"
    }
   ],
   "source": [
    "instruct_stat"
   ]
  }
 ],
 "metadata": {
  "kernelspec": {
   "display_name": "Python 3",
   "language": "python",
   "name": "python3"
  },
  "language_info": {
   "codemirror_mode": {
    "name": "ipython",
    "version": 3
   },
   "file_extension": ".py",
   "mimetype": "text/x-python",
   "name": "python",
   "nbconvert_exporter": "python",
   "pygments_lexer": "ipython3",
   "version": "3.9.12"
  },
  "vscode": {
   "interpreter": {
    "hash": "31f2aee4e71d21fbe5cf8b01ff0e069b9275f58929596ceb00d14d90e3e16cd6"
   }
  }
 },
 "nbformat": 4,
 "nbformat_minor": 2
}
