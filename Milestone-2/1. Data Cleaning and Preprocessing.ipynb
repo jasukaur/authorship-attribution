{
 "cells": [
  {
   "cell_type": "code",
   "execution_count": 36,
   "metadata": {},
   "outputs": [],
   "source": [
    "import pandas as pd\n",
    "import numpy as np"
   ]
  },
  {
   "cell_type": "markdown",
   "metadata": {},
   "source": [
    "# Load Datasets"
   ]
  },
  {
   "cell_type": "code",
   "execution_count": 37,
   "metadata": {},
   "outputs": [],
   "source": [
    "data_path = '/home/arsh/Jasleen/Spring 2023/NLP/MajorFinalProject/authorship-attribution/data'"
   ]
  },
  {
   "cell_type": "code",
   "execution_count": 38,
   "metadata": {},
   "outputs": [],
   "source": [
    "ctrl = pd.read_csv(data_path + 'Ctrl_generation.csv')\n",
    "gpt = pd.read_csv(data_path + 'GPT_generation.csv')\n",
    "gpt2 = pd.read_csv(data_path + 'gpt2_generate.csv')\n",
    "\n",
    "grover = pd.read_csv(data_path + 'Grover_Generate.csv')\n",
    "xlm = pd.read_csv(data_path + 'xlm_generation.csv')\n",
    "xlnet = pd.read_csv(data_path + 'xlnet_generation.csv')\n",
    "\n",
    "pplm = pd.read_csv(data_path + 'pplm.csv')\n",
    "human = pd.read_csv(data_path + 'human.csv')\n",
    "em_lm = pd.read_csv(data_path + 'generation_em_lm.csv')\n",
    "\n",
    "titles = pd.read_csv(data_path + 'Titles.csv')\n",
    "\n",
    "gpt3=pd.read_csv(data_path +\"GPT3_curieData.csv\")\n",
    "instructgpt=pd.read_csv(data_path +\"InstructGPT.csv\")"
   ]
  },
  {
   "cell_type": "code",
   "execution_count": 39,
   "metadata": {},
   "outputs": [],
   "source": [
    "gpt3=gpt3[['Title','Generation']]\n",
    "instructgpt = instructgpt[['Title','Generation']]"
   ]
  },
  {
   "cell_type": "code",
   "execution_count": 40,
   "metadata": {},
   "outputs": [],
   "source": [
    "human = human['Articles']\n",
    "human = pd.DataFrame({'Generation': list(human)})"
   ]
  },
  {
   "cell_type": "code",
   "execution_count": 41,
   "metadata": {},
   "outputs": [],
   "source": [
    "ctrl = ctrl[['Generation']]\n",
    "gpt = gpt[['Generation']]\n",
    "gpt2 = gpt2[['Generation']]\n",
    "\n",
    "grover = grover[['Generation']]\n",
    "xlm = xlm[['Generation']]\n",
    "xlnet = xlnet[['Generation']]\n",
    "\n",
    "pplm = pplm[['Generation']]\n",
    "human = human[['Generation']]\n",
    "em_lm = em_lm[['Generation']]\n",
    "\n",
    "gpt3 = gpt3[['Generation']]\n",
    "instructgpt = instructgpt[['Generation']]"
   ]
  },
  {
   "cell_type": "code",
   "execution_count": 42,
   "metadata": {},
   "outputs": [],
   "source": [
    "ctrl['label'] = 'ctrl' #1066\n",
    "gpt['label'] = 'gpt'   #2132\n",
    "gpt2['label'] = 'gpt2' #3198\n",
    "\n",
    "grover['label'] = 'grover' #4264\n",
    "xlm['label'] = 'xlm'       #5330\n",
    "xlnet['label'] = 'xlnet'   #6396\n",
    "\n",
    "pplm['label'] = 'pplm'    #7462\n",
    "human['label'] = 'human'  #8528\n",
    "em_lm['label'] = 'fair'   #\n",
    "\n",
    "gpt3['label'] ='gpt3'\n",
    "instructgpt['label'] = 'instructgpt'"
   ]
  },
  {
   "cell_type": "code",
   "execution_count": 43,
   "metadata": {},
   "outputs": [
    {
     "data": {
      "text/html": [
       "<div>\n",
       "<style scoped>\n",
       "    .dataframe tbody tr th:only-of-type {\n",
       "        vertical-align: middle;\n",
       "    }\n",
       "\n",
       "    .dataframe tbody tr th {\n",
       "        vertical-align: top;\n",
       "    }\n",
       "\n",
       "    .dataframe thead th {\n",
       "        text-align: right;\n",
       "    }\n",
       "</style>\n",
       "<table border=\"1\" class=\"dataframe\">\n",
       "  <thead>\n",
       "    <tr style=\"text-align: right;\">\n",
       "      <th></th>\n",
       "      <th>Generation</th>\n",
       "      <th>label</th>\n",
       "    </tr>\n",
       "  </thead>\n",
       "  <tbody>\n",
       "    <tr>\n",
       "      <th>0</th>\n",
       "      <td>['1. United Technologies shares fall after com...</td>\n",
       "      <td>gpt3</td>\n",
       "    </tr>\n",
       "    <tr>\n",
       "      <th>1</th>\n",
       "      <td>['Beijing wants to take a victory lap over its...</td>\n",
       "      <td>gpt3</td>\n",
       "    </tr>\n",
       "    <tr>\n",
       "      <th>2</th>\n",
       "      <td>[', health sector  As the global pandemic of c...</td>\n",
       "      <td>gpt3</td>\n",
       "    </tr>\n",
       "    <tr>\n",
       "      <th>3</th>\n",
       "      <td>['There have been sporadic cases of the corona...</td>\n",
       "      <td>gpt3</td>\n",
       "    </tr>\n",
       "    <tr>\n",
       "      <th>4</th>\n",
       "      <td>['The Chinese economy could shrink for the fir...</td>\n",
       "      <td>gpt3</td>\n",
       "    </tr>\n",
       "    <tr>\n",
       "      <th>...</th>\n",
       "      <td>...</td>\n",
       "      <td>...</td>\n",
       "    </tr>\n",
       "    <tr>\n",
       "      <th>1061</th>\n",
       "      <td>['I would say around 70%.  I am mostly my own,...</td>\n",
       "      <td>gpt3</td>\n",
       "    </tr>\n",
       "    <tr>\n",
       "      <th>1062</th>\n",
       "      <td>['You use a robotic arm to brush the exterior ...</td>\n",
       "      <td>gpt3</td>\n",
       "    </tr>\n",
       "    <tr>\n",
       "      <th>1063</th>\n",
       "      <td>['Some cities, like New York and San Francisco...</td>\n",
       "      <td>gpt3</td>\n",
       "    </tr>\n",
       "    <tr>\n",
       "      <th>1064</th>\n",
       "      <td>['. You can get the latest news, sport, weathe...</td>\n",
       "      <td>gpt3</td>\n",
       "    </tr>\n",
       "    <tr>\n",
       "      <th>1065</th>\n",
       "      <td>['In March 2016, the BBC announced plans to de...</td>\n",
       "      <td>gpt3</td>\n",
       "    </tr>\n",
       "  </tbody>\n",
       "</table>\n",
       "<p>1066 rows × 2 columns</p>\n",
       "</div>"
      ],
      "text/plain": [
       "                                             Generation label\n",
       "0     ['1. United Technologies shares fall after com...  gpt3\n",
       "1     ['Beijing wants to take a victory lap over its...  gpt3\n",
       "2     [', health sector  As the global pandemic of c...  gpt3\n",
       "3     ['There have been sporadic cases of the corona...  gpt3\n",
       "4     ['The Chinese economy could shrink for the fir...  gpt3\n",
       "...                                                 ...   ...\n",
       "1061  ['I would say around 70%.  I am mostly my own,...  gpt3\n",
       "1062  ['You use a robotic arm to brush the exterior ...  gpt3\n",
       "1063  ['Some cities, like New York and San Francisco...  gpt3\n",
       "1064  ['. You can get the latest news, sport, weathe...  gpt3\n",
       "1065  ['In March 2016, the BBC announced plans to de...  gpt3\n",
       "\n",
       "[1066 rows x 2 columns]"
      ]
     },
     "execution_count": 43,
     "metadata": {},
     "output_type": "execute_result"
    }
   ],
   "source": [
    "gpt3"
   ]
  },
  {
   "cell_type": "markdown",
   "metadata": {},
   "source": [
    "# Data Preparation and Cleaning "
   ]
  },
  {
   "cell_type": "code",
   "execution_count": 50,
   "metadata": {},
   "outputs": [],
   "source": [
    "import neattext as nt\n",
    "import neattext.functions as nfx"
   ]
  },
  {
   "cell_type": "code",
   "execution_count": 51,
   "metadata": {},
   "outputs": [],
   "source": [
    "import neattext.functions as nfx\n",
    "import pandas as pd\n",
    "\n",
    "def clean_individual_texts(data):\n",
    "    cleaned_texts = []\n",
    "    for text in data['Generation']:\n",
    "        # apply preprocessing steps\n",
    "        text = nfx.remove_special_characters(text)\n",
    "        text = nfx.remove_punctuations(text)\n",
    "        \n",
    "        text = nfx.remove_emojis(text)\n",
    "        text = nfx.remove_html_tags(text)\n",
    "        text = text.lower()\n",
    "        \n",
    "        cleaned_texts.append(text)\n",
    "\n",
    "    return pd.DataFrame({'Generation': cleaned_texts})\n"
   ]
  },
  {
   "cell_type": "code",
   "execution_count": 52,
   "metadata": {},
   "outputs": [],
   "source": [
    "def add_title(gen):\n",
    "    new_text = []\n",
    "    for i in range(len(gen)):\n",
    "        new_text.append( titles['Title'][i] + \" \" + gen[i])\n",
    "        \n",
    "    return new_text"
   ]
  },
  {
   "cell_type": "code",
   "execution_count": 53,
   "metadata": {},
   "outputs": [],
   "source": [
    "import json "
   ]
  },
  {
   "cell_type": "code",
   "execution_count": 54,
   "metadata": {},
   "outputs": [],
   "source": [
    "grover['Generation'] = add_title(grover['Generation'])\n",
    "human['Generation'] = add_title(human['Generation'])\n",
    "instructgpt['Generation'] = add_title(instructgpt['Generation'])\n",
    "gpt3['Generation'] = add_title(gpt3['Generation'])\n"
   ]
  },
  {
   "cell_type": "code",
   "execution_count": 55,
   "metadata": {},
   "outputs": [],
   "source": [
    "gpt3['Generation']=clean_individual_texts(gpt3)\n",
    "instructgpt['Generation'] = clean_individual_texts(instructgpt)\n",
    "\n",
    "ctrl['Generation'] = clean_individual_texts(ctrl)\n",
    "gpt['Generation'] = clean_individual_texts(gpt)\n",
    "gpt2['Generation'] = clean_individual_texts(gpt2)\n",
    "\n",
    "grover['Generation'] = clean_individual_texts(grover)\n",
    "xlm['Generation'] = clean_individual_texts(xlm)\n",
    "xlnet['Generation'] = clean_individual_texts(xlnet)\n",
    "\n",
    "pplm['Generation'] = clean_individual_texts(pplm)\n",
    "human['Generation'] = clean_individual_texts(human)\n",
    "em_lm['Generation'] = clean_individual_texts(em_lm)\n"
   ]
  },
  {
   "cell_type": "code",
   "execution_count": 56,
   "metadata": {},
   "outputs": [
    {
     "data": {
      "text/plain": [
       "'the 30 most troubling lines from donald trumps latest news conference on coronavirus the 30 most troubling lines from donald trumps latest news conference on coronavirus cnn in a photo op with irish prime minister leo varadkar on thursday president donald trump took a series of questions about the coronavirus pandemic and his administrations handling of itit was really something i went through the transcript of his remarks and picked out the lines you need to see theyre belowin each episode of his weekly youtube show chris cillizza will delve a little deeper into the surreal world of politics click to subscribe1 i see theyve canceled their big soccer games their championship games and a lot of other games theyve canceled a lot over in europe and all over the world so this is a big world problembig world problem  president trump on a global pandemic and away we go2 we took the original boldest step of all when we closed very early with china that helped us save thousands of lives and we went very early with europetrumps focus  as it has been since nearly the start of this virus  is on proving that he did the right thing by limiting arrivals from china and as of wednesday night from europe as well as for his claim that his moves have helped us save thousands of lives that is a very hard thing to factcheck3 but itll be  itll go very quicklytheres no indication that coronavirus will go very quickly none4 well be discussing some other moves that were going to be making and i think its going to work out very well for everybodywell im convinced5 and theyre  theyre doing a very good job they dont have very much infection at this point and hopefully theyll keep it that waythe united kingdom to which trump is referring here has 373 cases according to the world health organization thats many more than other european countries where trump has banned travel6 well we get along very well with the european leaders but we had to make a decision and i didnt want to take time  and you know it takes a long time to make the individual callsworld leaders have long mocked each other with trump they mean it  the washington post7 in the case of european union ive consulted with many peopleliterally what does this mean8 and the same people then they say oh he closed too fast why did he close  most of them said why did he close with china that turned out to be a great moveagain trump wants to ensure people know he deserves credit for closing travel to china thats the key takeaway here not the impact the coronavirus is having in the united states9 when you think of what happened to europe because it was very fast and very furious10 you know you see whats going on and so i just wanted that to stop as it pertains to the united states and thats what weve done weve stopped itnarrator voice we havent not even close11 we have a big one in tampa all sold out we had over 100000 requests for tickets but i think well probably not do it because people would say its better to not dothe question here was what trump planned to do about campaign rallies given the warnings about the need to avoid large crowds in spreading the coronavirus the president turned it into a chance to brag about how many tickets were requested for a rally so yeah12 and what is the number as of this morning is it 32 you could tell me is it 32 deaths steve around thatthe president of the united states is unaware of how many americans have died as a result of coronavirus indefensible at the moment 38 people have passed away in the us from coronavirus13 i mean think of it the united states because of what i did and what the administration did with china we have 32 deaths at this pointits 38 and it was 38 when trump said this14 other countries that are smaller countries have many many deaths thirtytwo is a lot thirtytwo is too many but when you look at the kind of numbers that youre seeing coming out of other countries its pretty amazing when you think of ityes he is patting himself on the back and yes he is wrong about the number of deaths and yes this quote is literally whatever the opposite of empathy is15 we have very strong emergency powers under the stafford act and we are  we havent  i mean i have it memorized practically as to the powers in that actthe stafford act allows among other things a president to declare a disaster a move that frees up federal resources to deal with something like the coronavirus it is 192 pages long  president trump has it memorized16 i have the right to do a lot of things that people dont even know aboutwell this isnt ominous at all17 look were in  were in great shape compared to other places we are in really good shape and we want to keep it that way thats why i did the ban with respect to europetheres little value to european travel restrictions poor use of time  energy earlier yes now travel restrictionsscreening are less useful we have nearly as much disease here in the us as the countries in europe we must focus on layered community mitigation measuresnow  former trump administration department of homeland security adviser tom bossert18 you have to remember the stock market as an example is still much higher than when i got hereas of noon eastern time thursday 83 of the gains the stock market had made since trump came into office had been wiped out by fears over the pandemics effect on the world economy according to the new york times peter baker19 we love the irishokeydoke20 people have  you know we call it cases how many cases do you have well relative to other countries we have very few cases relative to certain of the  of the major countries that really have a bigger problem than uswe call it cases21 lets put it this way im not concerned okin which the president dismisses questions about the fact that he was photographed over the weekend with a brazilian press aide who has been diagnosed with the coronavirus sure ok22 they have a million tests out now theyre going to have over the next few days theyre going to have 4 million tests out and frankly the testing has been going very smooththe idea of anybody getting it easily the way people in other countries are doing it were not set up for that do i think we should be yes but were not that is a failing it is a failing lets admit it  dr anthony fauci today23 were doing it the opposite were very much ahead of everythingsimply not true24 well i think the democrats wont be having rallies but nobody showed up to their rallies anyway so what difference does it makevery modernday presidential stuff here very25 my rallies are very big theyre very big rallies and well be making a decision at the appropriate timeright you said that already26 and i dont want people dying thats what im all aboutwhen people ask me what i am all about in the future i am going to say i dont want people dying thats what im all about27 so i had to make that decision and frankly the people that are professionals praise the decision and its something i had to do and i think youll see the end result is very good because of ittrumps decisions are according to trump a praised by professionals and b will look even better sometime very soon28 i used to be in the real estate business as youve probably heard they built some really  and i  i built beautiful buildings and theyve built some really beautiful buildingsso canceling the olympics in japan would be bad because of all the beautiful buildings that had been built as always laserfocused on whats important29 some areas have no problem whatsoever in our country and others do30 you see what theyre doing in new rochelle which is  which is good frankly its the right thing but its not enforced its not very strong but people know theyre  theyre being watched new rochelle thats a hot spotyeah this feels like a good place to end'"
      ]
     },
     "execution_count": 56,
     "metadata": {},
     "output_type": "execute_result"
    }
   ],
   "source": [
    "human['Generation'][12]"
   ]
  },
  {
   "cell_type": "code",
   "execution_count": 57,
   "metadata": {},
   "outputs": [
    {
     "data": {
      "text/plain": [
       "'the 30 most troubling lines from donald trumps latest news conference on coronavirus the 30 most troubling lines from donald trumps latest news conference on coronavirus 1 we are very confident in the measures that we are taking 2 the science is really clear we have the best scientists in the world 3 we have done very well in this 4 the united states is doing well perhaps better than anybody has ever done 5 this is something that is very hard to diagnose very hard to treat 6 there is no current investigation that im aware of that suggests that our country is at risk 7 this is something that we have to be very careful about 8 we have very sophisticated scientists working on this 9 this is a very serious problem 10 we have the best hospitals in the world 11 i would say its a very small number 12 its not just mexico its all over the world 13 we have a very wellfunctioning and strong health care system 14 i think were doing very well 15 its a very difficult thing to do 16 this is something new this is something thats never happened before 17 this is something that i think we have to take seriously 18 i think were doing very well im very confident in the way the cdc is operating 19 the united states is doing really well its a really tough thing 20 i would say it is a very very tiny number 21 im not sure i understand the question 22 i would say its a very small number but i would not like to say its zero 23 i think the system is working very well 24 i dont think so 25 i would say there is a zero percent chance its happening in this country 26 im not aware of any specific threat 27 i would say its a very small number 28 its difficult to say exactly 29 i think the system is working very well 30 i dont think so'"
      ]
     },
     "execution_count": 57,
     "metadata": {},
     "output_type": "execute_result"
    }
   ],
   "source": [
    "gpt3['Generation'][12]"
   ]
  },
  {
   "cell_type": "code",
   "execution_count": 58,
   "metadata": {},
   "outputs": [
    {
     "data": {
      "text/plain": [
       "'putin and xi are using the coronavirus crisis to extend their control across the world trump is struggling to keep up with them in a war that has been going on for decades now  but hes still not strong enough  n  im sorry about your family it must be hard being so far away from home  she said softly n  yes were all very lonely here there wasnt much time before they were taken by the chinese government so it would have been nice if you could visit us more often  n  yeah me too what do you think of china  n  well you know how many people live at our house i mean there are plenty who share my views about the economy and trade which makes this place feel like one big happy family  n  oh really  her eyes widened as she looked around the room  where did everyone else go when they left  n  some went back into town others stayed behind after work or even moved out to another city most just took off for new york canada mexico maybe california you never see any families of yours anywhere except on tv shows  n  wow that sounds great  n  actually weve got an old friend of mine living right next door she lives down the street but she ll probably want to come over sometime soon and check things out  n  cool  she smiled warmly  so tell me about yourself  n  well i guess i should start telling you about myself first  he started talking quickly trying to get his mind off of everything and make sure he had made sense of everything he told her about himself and about his parentsdeath and then a few days ago his brother died in afghanistan he finished speaking and watched her reaction closely n  okay lets hear it  she asked n  alright so basically i grew up in chicago texas  n  that explains why you look familiar  she replied thoughtfully  the name fits  n  yep chicago the same guy who gave birth to me the man named michael  he paused briefly as he thought about it  that reminds me i need to ask you something though'"
      ]
     },
     "execution_count": 58,
     "metadata": {},
     "output_type": "execute_result"
    }
   ],
   "source": [
    "gpt['Generation'][10]"
   ]
  },
  {
   "cell_type": "code",
   "execution_count": 59,
   "metadata": {},
   "outputs": [],
   "source": [
    "from nltk import tokenize\n",
    "from nltk.tokenize import word_tokenize"
   ]
  },
  {
   "cell_type": "code",
   "execution_count": 60,
   "metadata": {},
   "outputs": [
    {
     "name": "stderr",
     "output_type": "stream",
     "text": [
      "[nltk_data] Downloading package punkt to /home/arsh/nltk_data...\n",
      "[nltk_data]   Package punkt is already up-to-date!\n"
     ]
    },
    {
     "data": {
      "text/plain": [
       "True"
      ]
     },
     "execution_count": 60,
     "metadata": {},
     "output_type": "execute_result"
    }
   ],
   "source": [
    "import nltk\n",
    "nltk.download('punkt')"
   ]
  },
  {
   "cell_type": "code",
   "execution_count": 61,
   "metadata": {},
   "outputs": [],
   "source": [
    "def stat(data):\n",
    "    word = []\n",
    "    sent = []\n",
    "    \n",
    "    for i in data:\n",
    "        word.append(len(word_tokenize(i)))\n",
    "        sent.append(len(tokenize.sent_tokenize(i)))\n",
    "        \n",
    "    final_list = [x for x in word if (x > np.mean(word) - 2 * np.std(word))]\n",
    "    new_word = [x for x in final_list if (x < np.mean(word) + 2 * np.std(word))]\n",
    "    \n",
    "    final_list = [x for x in sent if (x > np.mean(sent) - 2 * np.std(sent))]\n",
    "    new_sent = [x for x in final_list if (x < np.mean(sent) + 2 * np.std(sent))]\n",
    "        \n",
    "    return pd.DataFrame({'Avg_word': np.mean(new_word), \n",
    "                         'SD_word': np.std(new_word),\n",
    "                         'Avg_sent': np.mean(new_sent),\n",
    "                         'SD_sent': np.std(new_sent)}, index=[0])\n",
    "        "
   ]
  },
  {
   "cell_type": "code",
   "execution_count": 62,
   "metadata": {},
   "outputs": [
    {
     "name": "stderr",
     "output_type": "stream",
     "text": [
      "/home/arsh/anaconda3/lib/python3.9/site-packages/numpy/core/fromnumeric.py:3440: RuntimeWarning: Mean of empty slice.\n",
      "  return _methods._mean(a, axis=axis, dtype=dtype,\n",
      "/home/arsh/anaconda3/lib/python3.9/site-packages/numpy/core/_methods.py:189: RuntimeWarning: invalid value encountered in double_scalars\n",
      "  ret = ret.dtype.type(ret / rcount)\n",
      "/home/arsh/anaconda3/lib/python3.9/site-packages/numpy/core/_methods.py:262: RuntimeWarning: Degrees of freedom <= 0 for slice\n",
      "  ret = _var(a, axis=axis, dtype=dtype, out=out, ddof=ddof,\n",
      "/home/arsh/anaconda3/lib/python3.9/site-packages/numpy/core/_methods.py:222: RuntimeWarning: invalid value encountered in true_divide\n",
      "  arrmean = um.true_divide(arrmean, div, out=arrmean, casting='unsafe',\n",
      "/home/arsh/anaconda3/lib/python3.9/site-packages/numpy/core/_methods.py:254: RuntimeWarning: invalid value encountered in double_scalars\n",
      "  ret = ret.dtype.type(ret / rcount)\n",
      "/home/arsh/anaconda3/lib/python3.9/site-packages/numpy/core/fromnumeric.py:3440: RuntimeWarning: Mean of empty slice.\n",
      "  return _methods._mean(a, axis=axis, dtype=dtype,\n",
      "/home/arsh/anaconda3/lib/python3.9/site-packages/numpy/core/_methods.py:189: RuntimeWarning: invalid value encountered in double_scalars\n",
      "  ret = ret.dtype.type(ret / rcount)\n",
      "/home/arsh/anaconda3/lib/python3.9/site-packages/numpy/core/_methods.py:262: RuntimeWarning: Degrees of freedom <= 0 for slice\n",
      "  ret = _var(a, axis=axis, dtype=dtype, out=out, ddof=ddof,\n",
      "/home/arsh/anaconda3/lib/python3.9/site-packages/numpy/core/_methods.py:222: RuntimeWarning: invalid value encountered in true_divide\n",
      "  arrmean = um.true_divide(arrmean, div, out=arrmean, casting='unsafe',\n",
      "/home/arsh/anaconda3/lib/python3.9/site-packages/numpy/core/_methods.py:254: RuntimeWarning: invalid value encountered in double_scalars\n",
      "  ret = ret.dtype.type(ret / rcount)\n",
      "/home/arsh/anaconda3/lib/python3.9/site-packages/numpy/core/fromnumeric.py:3440: RuntimeWarning: Mean of empty slice.\n",
      "  return _methods._mean(a, axis=axis, dtype=dtype,\n",
      "/home/arsh/anaconda3/lib/python3.9/site-packages/numpy/core/_methods.py:189: RuntimeWarning: invalid value encountered in double_scalars\n",
      "  ret = ret.dtype.type(ret / rcount)\n",
      "/home/arsh/anaconda3/lib/python3.9/site-packages/numpy/core/_methods.py:262: RuntimeWarning: Degrees of freedom <= 0 for slice\n",
      "  ret = _var(a, axis=axis, dtype=dtype, out=out, ddof=ddof,\n",
      "/home/arsh/anaconda3/lib/python3.9/site-packages/numpy/core/_methods.py:222: RuntimeWarning: invalid value encountered in true_divide\n",
      "  arrmean = um.true_divide(arrmean, div, out=arrmean, casting='unsafe',\n",
      "/home/arsh/anaconda3/lib/python3.9/site-packages/numpy/core/_methods.py:254: RuntimeWarning: invalid value encountered in double_scalars\n",
      "  ret = ret.dtype.type(ret / rcount)\n",
      "/home/arsh/anaconda3/lib/python3.9/site-packages/numpy/core/fromnumeric.py:3440: RuntimeWarning: Mean of empty slice.\n",
      "  return _methods._mean(a, axis=axis, dtype=dtype,\n",
      "/home/arsh/anaconda3/lib/python3.9/site-packages/numpy/core/_methods.py:189: RuntimeWarning: invalid value encountered in double_scalars\n",
      "  ret = ret.dtype.type(ret / rcount)\n",
      "/home/arsh/anaconda3/lib/python3.9/site-packages/numpy/core/_methods.py:262: RuntimeWarning: Degrees of freedom <= 0 for slice\n",
      "  ret = _var(a, axis=axis, dtype=dtype, out=out, ddof=ddof,\n",
      "/home/arsh/anaconda3/lib/python3.9/site-packages/numpy/core/_methods.py:222: RuntimeWarning: invalid value encountered in true_divide\n",
      "  arrmean = um.true_divide(arrmean, div, out=arrmean, casting='unsafe',\n",
      "/home/arsh/anaconda3/lib/python3.9/site-packages/numpy/core/_methods.py:254: RuntimeWarning: invalid value encountered in double_scalars\n",
      "  ret = ret.dtype.type(ret / rcount)\n",
      "/home/arsh/anaconda3/lib/python3.9/site-packages/numpy/core/fromnumeric.py:3440: RuntimeWarning: Mean of empty slice.\n",
      "  return _methods._mean(a, axis=axis, dtype=dtype,\n",
      "/home/arsh/anaconda3/lib/python3.9/site-packages/numpy/core/_methods.py:189: RuntimeWarning: invalid value encountered in double_scalars\n",
      "  ret = ret.dtype.type(ret / rcount)\n",
      "/home/arsh/anaconda3/lib/python3.9/site-packages/numpy/core/_methods.py:262: RuntimeWarning: Degrees of freedom <= 0 for slice\n",
      "  ret = _var(a, axis=axis, dtype=dtype, out=out, ddof=ddof,\n",
      "/home/arsh/anaconda3/lib/python3.9/site-packages/numpy/core/_methods.py:222: RuntimeWarning: invalid value encountered in true_divide\n",
      "  arrmean = um.true_divide(arrmean, div, out=arrmean, casting='unsafe',\n",
      "/home/arsh/anaconda3/lib/python3.9/site-packages/numpy/core/_methods.py:254: RuntimeWarning: invalid value encountered in double_scalars\n",
      "  ret = ret.dtype.type(ret / rcount)\n",
      "/home/arsh/anaconda3/lib/python3.9/site-packages/numpy/core/fromnumeric.py:3440: RuntimeWarning: Mean of empty slice.\n",
      "  return _methods._mean(a, axis=axis, dtype=dtype,\n",
      "/home/arsh/anaconda3/lib/python3.9/site-packages/numpy/core/_methods.py:189: RuntimeWarning: invalid value encountered in double_scalars\n",
      "  ret = ret.dtype.type(ret / rcount)\n",
      "/home/arsh/anaconda3/lib/python3.9/site-packages/numpy/core/_methods.py:262: RuntimeWarning: Degrees of freedom <= 0 for slice\n",
      "  ret = _var(a, axis=axis, dtype=dtype, out=out, ddof=ddof,\n",
      "/home/arsh/anaconda3/lib/python3.9/site-packages/numpy/core/_methods.py:222: RuntimeWarning: invalid value encountered in true_divide\n",
      "  arrmean = um.true_divide(arrmean, div, out=arrmean, casting='unsafe',\n",
      "/home/arsh/anaconda3/lib/python3.9/site-packages/numpy/core/_methods.py:254: RuntimeWarning: invalid value encountered in double_scalars\n",
      "  ret = ret.dtype.type(ret / rcount)\n",
      "/home/arsh/anaconda3/lib/python3.9/site-packages/numpy/core/fromnumeric.py:3440: RuntimeWarning: Mean of empty slice.\n",
      "  return _methods._mean(a, axis=axis, dtype=dtype,\n",
      "/home/arsh/anaconda3/lib/python3.9/site-packages/numpy/core/_methods.py:189: RuntimeWarning: invalid value encountered in double_scalars\n",
      "  ret = ret.dtype.type(ret / rcount)\n",
      "/home/arsh/anaconda3/lib/python3.9/site-packages/numpy/core/_methods.py:262: RuntimeWarning: Degrees of freedom <= 0 for slice\n",
      "  ret = _var(a, axis=axis, dtype=dtype, out=out, ddof=ddof,\n",
      "/home/arsh/anaconda3/lib/python3.9/site-packages/numpy/core/_methods.py:222: RuntimeWarning: invalid value encountered in true_divide\n",
      "  arrmean = um.true_divide(arrmean, div, out=arrmean, casting='unsafe',\n",
      "/home/arsh/anaconda3/lib/python3.9/site-packages/numpy/core/_methods.py:254: RuntimeWarning: invalid value encountered in double_scalars\n",
      "  ret = ret.dtype.type(ret / rcount)\n",
      "/home/arsh/anaconda3/lib/python3.9/site-packages/numpy/core/fromnumeric.py:3440: RuntimeWarning: Mean of empty slice.\n",
      "  return _methods._mean(a, axis=axis, dtype=dtype,\n",
      "/home/arsh/anaconda3/lib/python3.9/site-packages/numpy/core/_methods.py:189: RuntimeWarning: invalid value encountered in double_scalars\n",
      "  ret = ret.dtype.type(ret / rcount)\n",
      "/home/arsh/anaconda3/lib/python3.9/site-packages/numpy/core/_methods.py:262: RuntimeWarning: Degrees of freedom <= 0 for slice\n",
      "  ret = _var(a, axis=axis, dtype=dtype, out=out, ddof=ddof,\n",
      "/home/arsh/anaconda3/lib/python3.9/site-packages/numpy/core/_methods.py:222: RuntimeWarning: invalid value encountered in true_divide\n",
      "  arrmean = um.true_divide(arrmean, div, out=arrmean, casting='unsafe',\n",
      "/home/arsh/anaconda3/lib/python3.9/site-packages/numpy/core/_methods.py:254: RuntimeWarning: invalid value encountered in double_scalars\n",
      "  ret = ret.dtype.type(ret / rcount)\n",
      "/home/arsh/anaconda3/lib/python3.9/site-packages/numpy/core/fromnumeric.py:3440: RuntimeWarning: Mean of empty slice.\n",
      "  return _methods._mean(a, axis=axis, dtype=dtype,\n",
      "/home/arsh/anaconda3/lib/python3.9/site-packages/numpy/core/_methods.py:189: RuntimeWarning: invalid value encountered in double_scalars\n",
      "  ret = ret.dtype.type(ret / rcount)\n",
      "/home/arsh/anaconda3/lib/python3.9/site-packages/numpy/core/_methods.py:262: RuntimeWarning: Degrees of freedom <= 0 for slice\n",
      "  ret = _var(a, axis=axis, dtype=dtype, out=out, ddof=ddof,\n",
      "/home/arsh/anaconda3/lib/python3.9/site-packages/numpy/core/_methods.py:222: RuntimeWarning: invalid value encountered in true_divide\n",
      "  arrmean = um.true_divide(arrmean, div, out=arrmean, casting='unsafe',\n",
      "/home/arsh/anaconda3/lib/python3.9/site-packages/numpy/core/_methods.py:254: RuntimeWarning: invalid value encountered in double_scalars\n",
      "  ret = ret.dtype.type(ret / rcount)\n",
      "/home/arsh/anaconda3/lib/python3.9/site-packages/numpy/core/fromnumeric.py:3440: RuntimeWarning: Mean of empty slice.\n",
      "  return _methods._mean(a, axis=axis, dtype=dtype,\n",
      "/home/arsh/anaconda3/lib/python3.9/site-packages/numpy/core/_methods.py:189: RuntimeWarning: invalid value encountered in double_scalars\n",
      "  ret = ret.dtype.type(ret / rcount)\n",
      "/home/arsh/anaconda3/lib/python3.9/site-packages/numpy/core/_methods.py:262: RuntimeWarning: Degrees of freedom <= 0 for slice\n",
      "  ret = _var(a, axis=axis, dtype=dtype, out=out, ddof=ddof,\n",
      "/home/arsh/anaconda3/lib/python3.9/site-packages/numpy/core/_methods.py:222: RuntimeWarning: invalid value encountered in true_divide\n",
      "  arrmean = um.true_divide(arrmean, div, out=arrmean, casting='unsafe',\n",
      "/home/arsh/anaconda3/lib/python3.9/site-packages/numpy/core/_methods.py:254: RuntimeWarning: invalid value encountered in double_scalars\n",
      "  ret = ret.dtype.type(ret / rcount)\n"
     ]
    },
    {
     "name": "stderr",
     "output_type": "stream",
     "text": [
      "/home/arsh/anaconda3/lib/python3.9/site-packages/numpy/core/fromnumeric.py:3440: RuntimeWarning: Mean of empty slice.\n",
      "  return _methods._mean(a, axis=axis, dtype=dtype,\n",
      "/home/arsh/anaconda3/lib/python3.9/site-packages/numpy/core/_methods.py:189: RuntimeWarning: invalid value encountered in double_scalars\n",
      "  ret = ret.dtype.type(ret / rcount)\n",
      "/home/arsh/anaconda3/lib/python3.9/site-packages/numpy/core/_methods.py:262: RuntimeWarning: Degrees of freedom <= 0 for slice\n",
      "  ret = _var(a, axis=axis, dtype=dtype, out=out, ddof=ddof,\n",
      "/home/arsh/anaconda3/lib/python3.9/site-packages/numpy/core/_methods.py:222: RuntimeWarning: invalid value encountered in true_divide\n",
      "  arrmean = um.true_divide(arrmean, div, out=arrmean, casting='unsafe',\n",
      "/home/arsh/anaconda3/lib/python3.9/site-packages/numpy/core/_methods.py:254: RuntimeWarning: invalid value encountered in double_scalars\n",
      "  ret = ret.dtype.type(ret / rcount)\n"
     ]
    }
   ],
   "source": [
    "ctrl_stat = stat(ctrl['Generation'])\n",
    "gpt3_stat =stat(gpt3['Generation'])\n",
    "instructgpt_stat = stat(instructgpt['Generation'])\n",
    "\n",
    "gpt_stat = stat(gpt['Generation'])\n",
    "gpt2_stat = stat(gpt2['Generation'])\n",
    "\n",
    "grover_stat = stat(grover['Generation'])\n",
    "xlm_stat = stat(xlm['Generation'])\n",
    "xlnet_stat = stat(xlnet['Generation'])\n",
    "\n",
    "pplm_stat = stat(pplm['Generation'])\n",
    "human_stat = stat(human['Generation'])\n",
    "em_lm_stat = stat(em_lm['Generation'])"
   ]
  },
  {
   "cell_type": "code",
   "execution_count": 63,
   "metadata": {},
   "outputs": [
    {
     "data": {
      "text/html": [
       "<div>\n",
       "<style scoped>\n",
       "    .dataframe tbody tr th:only-of-type {\n",
       "        vertical-align: middle;\n",
       "    }\n",
       "\n",
       "    .dataframe tbody tr th {\n",
       "        vertical-align: top;\n",
       "    }\n",
       "\n",
       "    .dataframe thead th {\n",
       "        text-align: right;\n",
       "    }\n",
       "</style>\n",
       "<table border=\"1\" class=\"dataframe\">\n",
       "  <thead>\n",
       "    <tr style=\"text-align: right;\">\n",
       "      <th></th>\n",
       "      <th>Avg_word</th>\n",
       "      <th>SD_word</th>\n",
       "      <th>Avg_sent</th>\n",
       "      <th>SD_sent</th>\n",
       "    </tr>\n",
       "  </thead>\n",
       "  <tbody>\n",
       "    <tr>\n",
       "      <th>0</th>\n",
       "      <td>426.044747</td>\n",
       "      <td>51.671647</td>\n",
       "      <td>NaN</td>\n",
       "      <td>NaN</td>\n",
       "    </tr>\n",
       "  </tbody>\n",
       "</table>\n",
       "</div>"
      ],
      "text/plain": [
       "     Avg_word    SD_word  Avg_sent  SD_sent\n",
       "0  426.044747  51.671647       NaN      NaN"
      ]
     },
     "execution_count": 63,
     "metadata": {},
     "output_type": "execute_result"
    }
   ],
   "source": [
    "ctrl_stat"
   ]
  },
  {
   "cell_type": "code",
   "execution_count": 64,
   "metadata": {},
   "outputs": [
    {
     "data": {
      "text/html": [
       "<div>\n",
       "<style scoped>\n",
       "    .dataframe tbody tr th:only-of-type {\n",
       "        vertical-align: middle;\n",
       "    }\n",
       "\n",
       "    .dataframe tbody tr th {\n",
       "        vertical-align: top;\n",
       "    }\n",
       "\n",
       "    .dataframe thead th {\n",
       "        text-align: right;\n",
       "    }\n",
       "</style>\n",
       "<table border=\"1\" class=\"dataframe\">\n",
       "  <thead>\n",
       "    <tr style=\"text-align: right;\">\n",
       "      <th></th>\n",
       "      <th>Avg_word</th>\n",
       "      <th>SD_word</th>\n",
       "      <th>Avg_sent</th>\n",
       "      <th>SD_sent</th>\n",
       "    </tr>\n",
       "  </thead>\n",
       "  <tbody>\n",
       "    <tr>\n",
       "      <th>0</th>\n",
       "      <td>373.818272</td>\n",
       "      <td>33.729777</td>\n",
       "      <td>NaN</td>\n",
       "      <td>NaN</td>\n",
       "    </tr>\n",
       "  </tbody>\n",
       "</table>\n",
       "</div>"
      ],
      "text/plain": [
       "     Avg_word    SD_word  Avg_sent  SD_sent\n",
       "0  373.818272  33.729777       NaN      NaN"
      ]
     },
     "execution_count": 64,
     "metadata": {},
     "output_type": "execute_result"
    }
   ],
   "source": [
    "gpt2_stat"
   ]
  },
  {
   "cell_type": "code",
   "execution_count": 65,
   "metadata": {},
   "outputs": [
    {
     "data": {
      "text/html": [
       "<div>\n",
       "<style scoped>\n",
       "    .dataframe tbody tr th:only-of-type {\n",
       "        vertical-align: middle;\n",
       "    }\n",
       "\n",
       "    .dataframe tbody tr th {\n",
       "        vertical-align: top;\n",
       "    }\n",
       "\n",
       "    .dataframe thead th {\n",
       "        text-align: right;\n",
       "    }\n",
       "</style>\n",
       "<table border=\"1\" class=\"dataframe\">\n",
       "  <thead>\n",
       "    <tr style=\"text-align: right;\">\n",
       "      <th></th>\n",
       "      <th>Avg_word</th>\n",
       "      <th>SD_word</th>\n",
       "      <th>Avg_sent</th>\n",
       "      <th>SD_sent</th>\n",
       "    </tr>\n",
       "  </thead>\n",
       "  <tbody>\n",
       "    <tr>\n",
       "      <th>0</th>\n",
       "      <td>296.437191</td>\n",
       "      <td>58.824277</td>\n",
       "      <td>NaN</td>\n",
       "      <td>NaN</td>\n",
       "    </tr>\n",
       "  </tbody>\n",
       "</table>\n",
       "</div>"
      ],
      "text/plain": [
       "     Avg_word    SD_word  Avg_sent  SD_sent\n",
       "0  296.437191  58.824277       NaN      NaN"
      ]
     },
     "execution_count": 65,
     "metadata": {},
     "output_type": "execute_result"
    }
   ],
   "source": [
    "gpt3_stat"
   ]
  },
  {
   "cell_type": "code",
   "execution_count": 66,
   "metadata": {},
   "outputs": [
    {
     "data": {
      "text/html": [
       "<div>\n",
       "<style scoped>\n",
       "    .dataframe tbody tr th:only-of-type {\n",
       "        vertical-align: middle;\n",
       "    }\n",
       "\n",
       "    .dataframe tbody tr th {\n",
       "        vertical-align: top;\n",
       "    }\n",
       "\n",
       "    .dataframe thead th {\n",
       "        text-align: right;\n",
       "    }\n",
       "</style>\n",
       "<table border=\"1\" class=\"dataframe\">\n",
       "  <thead>\n",
       "    <tr style=\"text-align: right;\">\n",
       "      <th></th>\n",
       "      <th>Avg_word</th>\n",
       "      <th>SD_word</th>\n",
       "      <th>Avg_sent</th>\n",
       "      <th>SD_sent</th>\n",
       "    </tr>\n",
       "  </thead>\n",
       "  <tbody>\n",
       "    <tr>\n",
       "      <th>0</th>\n",
       "      <td>306.579568</td>\n",
       "      <td>56.794636</td>\n",
       "      <td>NaN</td>\n",
       "      <td>NaN</td>\n",
       "    </tr>\n",
       "  </tbody>\n",
       "</table>\n",
       "</div>"
      ],
      "text/plain": [
       "     Avg_word    SD_word  Avg_sent  SD_sent\n",
       "0  306.579568  56.794636       NaN      NaN"
      ]
     },
     "execution_count": 66,
     "metadata": {},
     "output_type": "execute_result"
    }
   ],
   "source": [
    "instructgpt_stat"
   ]
  },
  {
   "cell_type": "code",
   "execution_count": 67,
   "metadata": {},
   "outputs": [],
   "source": [
    "ctrl.to_csv(data_path + 'new_ctrl.csv')\n",
    "gpt.to_csv(data_path + 'new_gpt.csv')\n",
    "\n",
    "gpt2.to_csv(data_path + 'new_gpt2.csv')\n",
    "grover.to_csv(data_path + 'new_grover.csv')\n",
    "\n",
    "xlm.to_csv(data_path + 'new_xlm.csv')\n",
    "xlnet.to_csv(data_path + 'new_xlnet.csv')\n",
    "\n",
    "pplm.to_csv(data_path + 'new_pplm.csv')\n",
    "human.to_csv(data_path + 'new_human.csv')\n",
    "\n",
    "em_lm.to_csv(data_path + 'new_fair.csv')\n",
    "gpt3.to_csv(data_path + 'new_gpt3.csv')\n",
    "instructgpt.to_csv(data_path + 'new_instructgpt.csv')"
   ]
  },
  {
   "cell_type": "markdown",
   "metadata": {},
   "source": [
    "# combined datasets "
   ]
  },
  {
   "cell_type": "code",
   "execution_count": 68,
   "metadata": {},
   "outputs": [],
   "source": [
    "generate = pd.concat([ctrl, gpt, gpt2, grover, xlm, xlnet, pplm, human, em_lm, gpt3, instructgpt])"
   ]
  },
  {
   "cell_type": "code",
   "execution_count": 69,
   "metadata": {},
   "outputs": [
    {
     "data": {
      "text/plain": [
       "'china coronavirus xi jinping visits virushit wuhan in major show of confidence china coronavirus xi jinping visits virushit wuhan in major show of confidence hong kong cnn chinese president xi jinping has made his first visit to wuhan since the novel coronavirus outbreak began more than two months ago as new cases of the virus slowed to a trickle in the country where the disease first emergedxis visit to wuhan  which has been on lockdown for weeks now with tens of thousands of confirmed cases of the virus and hundreds of deaths  is a major show of confidence in chinas response to the pandemic  underlining a message which has been building in state media that the country has turned a corneras of tuesday there have been 80754 cases of the virus confirmed across china 67760 of which were in hubei the province of which wuhan is the capital of the 3136 deaths confirmed in china all but 112 have been in hubeiat its worst hubei was reporting thousands of new cases per day on monday chinas national health commission said there were only 17 new cases confirmed in the province with two others in other parts of the country  both of which were linked to overseas travelthe progress in china which has come on the back of weeks of widespread travel restrictions government enforced lockdowns and economic pain is in stark contrast to other parts of the world where the situation is growing increasingly dire'"
      ]
     },
     "execution_count": 69,
     "metadata": {},
     "output_type": "execute_result"
    }
   ],
   "source": [
    "list(generate['Generation'])[8050]"
   ]
  },
  {
   "cell_type": "code",
   "execution_count": 70,
   "metadata": {},
   "outputs": [
    {
     "data": {
      "text/plain": [
       "array(['ctrl', 'gpt', 'gpt2', 'grover', 'xlm', 'xlnet', 'pplm', 'human',\n",
       "       'fair', 'gpt3', 'instructgpt'], dtype=object)"
      ]
     },
     "execution_count": 70,
     "metadata": {},
     "output_type": "execute_result"
    }
   ],
   "source": [
    "generate['label'].unique()"
   ]
  },
  {
   "cell_type": "code",
   "execution_count": 71,
   "metadata": {},
   "outputs": [
    {
     "data": {
      "text/html": [
       "<div>\n",
       "<style scoped>\n",
       "    .dataframe tbody tr th:only-of-type {\n",
       "        vertical-align: middle;\n",
       "    }\n",
       "\n",
       "    .dataframe tbody tr th {\n",
       "        vertical-align: top;\n",
       "    }\n",
       "\n",
       "    .dataframe thead th {\n",
       "        text-align: right;\n",
       "    }\n",
       "</style>\n",
       "<table border=\"1\" class=\"dataframe\">\n",
       "  <thead>\n",
       "    <tr style=\"text-align: right;\">\n",
       "      <th></th>\n",
       "      <th>Generation</th>\n",
       "      <th>label</th>\n",
       "    </tr>\n",
       "  </thead>\n",
       "  <tbody>\n",
       "    <tr>\n",
       "      <th>0</th>\n",
       "      <td>news latest headlines on cnn business n tldr t...</td>\n",
       "      <td>ctrl</td>\n",
       "    </tr>\n",
       "    <tr>\n",
       "      <th>1</th>\n",
       "      <td>news china wants to take a victory lap over it...</td>\n",
       "      <td>ctrl</td>\n",
       "    </tr>\n",
       "    <tr>\n",
       "      <th>2</th>\n",
       "      <td>news coronavirus disinformation creates challe...</td>\n",
       "      <td>ctrl</td>\n",
       "    </tr>\n",
       "    <tr>\n",
       "      <th>3</th>\n",
       "      <td>news china coronavirus eating wild animals mad...</td>\n",
       "      <td>ctrl</td>\n",
       "    </tr>\n",
       "    <tr>\n",
       "      <th>4</th>\n",
       "      <td>news chinas economy could shrink for the first...</td>\n",
       "      <td>ctrl</td>\n",
       "    </tr>\n",
       "    <tr>\n",
       "      <th>...</th>\n",
       "      <td>...</td>\n",
       "      <td>...</td>\n",
       "    </tr>\n",
       "    <tr>\n",
       "      <th>1061</th>\n",
       "      <td>how much of your body is your own how much of ...</td>\n",
       "      <td>instructgpt</td>\n",
       "    </tr>\n",
       "    <tr>\n",
       "      <th>1062</th>\n",
       "      <td>how do you keep a space station clean how do y...</td>\n",
       "      <td>instructgpt</td>\n",
       "    </tr>\n",
       "    <tr>\n",
       "      <th>1063</th>\n",
       "      <td>the city where you pay a years rent up front t...</td>\n",
       "      <td>instructgpt</td>\n",
       "    </tr>\n",
       "    <tr>\n",
       "      <th>1064</th>\n",
       "      <td>the bbc news app gives you the best of bbc new...</td>\n",
       "      <td>instructgpt</td>\n",
       "    </tr>\n",
       "    <tr>\n",
       "      <th>1065</th>\n",
       "      <td>learn how the bbc is working to strengthen tru...</td>\n",
       "      <td>instructgpt</td>\n",
       "    </tr>\n",
       "  </tbody>\n",
       "</table>\n",
       "<p>11726 rows × 2 columns</p>\n",
       "</div>"
      ],
      "text/plain": [
       "                                             Generation        label\n",
       "0     news latest headlines on cnn business n tldr t...         ctrl\n",
       "1     news china wants to take a victory lap over it...         ctrl\n",
       "2     news coronavirus disinformation creates challe...         ctrl\n",
       "3     news china coronavirus eating wild animals mad...         ctrl\n",
       "4     news chinas economy could shrink for the first...         ctrl\n",
       "...                                                 ...          ...\n",
       "1061  how much of your body is your own how much of ...  instructgpt\n",
       "1062  how do you keep a space station clean how do y...  instructgpt\n",
       "1063  the city where you pay a years rent up front t...  instructgpt\n",
       "1064  the bbc news app gives you the best of bbc new...  instructgpt\n",
       "1065  learn how the bbc is working to strengthen tru...  instructgpt\n",
       "\n",
       "[11726 rows x 2 columns]"
      ]
     },
     "execution_count": 71,
     "metadata": {},
     "output_type": "execute_result"
    }
   ],
   "source": [
    "generate"
   ]
  },
  {
   "cell_type": "code",
   "execution_count": 72,
   "metadata": {},
   "outputs": [],
   "source": [
    "import csv "
   ]
  },
  {
   "cell_type": "code",
   "execution_count": 73,
   "metadata": {},
   "outputs": [],
   "source": [
    "generation = pd.DataFrame({'text': generate['Generation'], 'class': generate['label']})"
   ]
  },
  {
   "cell_type": "code",
   "execution_count": 75,
   "metadata": {},
   "outputs": [],
   "source": [
    "generation.to_csv(data_path +'input.csv', index = False, header = True)"
   ]
  },
  {
   "cell_type": "code",
   "execution_count": 76,
   "metadata": {},
   "outputs": [
    {
     "data": {
      "text/html": [
       "<div>\n",
       "<style scoped>\n",
       "    .dataframe tbody tr th:only-of-type {\n",
       "        vertical-align: middle;\n",
       "    }\n",
       "\n",
       "    .dataframe tbody tr th {\n",
       "        vertical-align: top;\n",
       "    }\n",
       "\n",
       "    .dataframe thead th {\n",
       "        text-align: right;\n",
       "    }\n",
       "</style>\n",
       "<table border=\"1\" class=\"dataframe\">\n",
       "  <thead>\n",
       "    <tr style=\"text-align: right;\">\n",
       "      <th></th>\n",
       "      <th>Generation</th>\n",
       "      <th>label</th>\n",
       "    </tr>\n",
       "  </thead>\n",
       "  <tbody>\n",
       "    <tr>\n",
       "      <th>0</th>\n",
       "      <td>news latest headlines on cnn business n tldr t...</td>\n",
       "      <td>ctrl</td>\n",
       "    </tr>\n",
       "    <tr>\n",
       "      <th>1</th>\n",
       "      <td>news china wants to take a victory lap over it...</td>\n",
       "      <td>ctrl</td>\n",
       "    </tr>\n",
       "    <tr>\n",
       "      <th>2</th>\n",
       "      <td>news coronavirus disinformation creates challe...</td>\n",
       "      <td>ctrl</td>\n",
       "    </tr>\n",
       "    <tr>\n",
       "      <th>3</th>\n",
       "      <td>news china coronavirus eating wild animals mad...</td>\n",
       "      <td>ctrl</td>\n",
       "    </tr>\n",
       "    <tr>\n",
       "      <th>4</th>\n",
       "      <td>news chinas economy could shrink for the first...</td>\n",
       "      <td>ctrl</td>\n",
       "    </tr>\n",
       "    <tr>\n",
       "      <th>...</th>\n",
       "      <td>...</td>\n",
       "      <td>...</td>\n",
       "    </tr>\n",
       "    <tr>\n",
       "      <th>1061</th>\n",
       "      <td>how much of your body is your own how much of ...</td>\n",
       "      <td>instructgpt</td>\n",
       "    </tr>\n",
       "    <tr>\n",
       "      <th>1062</th>\n",
       "      <td>how do you keep a space station clean how do y...</td>\n",
       "      <td>instructgpt</td>\n",
       "    </tr>\n",
       "    <tr>\n",
       "      <th>1063</th>\n",
       "      <td>the city where you pay a years rent up front t...</td>\n",
       "      <td>instructgpt</td>\n",
       "    </tr>\n",
       "    <tr>\n",
       "      <th>1064</th>\n",
       "      <td>the bbc news app gives you the best of bbc new...</td>\n",
       "      <td>instructgpt</td>\n",
       "    </tr>\n",
       "    <tr>\n",
       "      <th>1065</th>\n",
       "      <td>learn how the bbc is working to strengthen tru...</td>\n",
       "      <td>instructgpt</td>\n",
       "    </tr>\n",
       "  </tbody>\n",
       "</table>\n",
       "<p>11726 rows × 2 columns</p>\n",
       "</div>"
      ],
      "text/plain": [
       "                                             Generation        label\n",
       "0     news latest headlines on cnn business n tldr t...         ctrl\n",
       "1     news china wants to take a victory lap over it...         ctrl\n",
       "2     news coronavirus disinformation creates challe...         ctrl\n",
       "3     news china coronavirus eating wild animals mad...         ctrl\n",
       "4     news chinas economy could shrink for the first...         ctrl\n",
       "...                                                 ...          ...\n",
       "1061  how much of your body is your own how much of ...  instructgpt\n",
       "1062  how do you keep a space station clean how do y...  instructgpt\n",
       "1063  the city where you pay a years rent up front t...  instructgpt\n",
       "1064  the bbc news app gives you the best of bbc new...  instructgpt\n",
       "1065  learn how the bbc is working to strengthen tru...  instructgpt\n",
       "\n",
       "[11726 rows x 2 columns]"
      ]
     },
     "execution_count": 76,
     "metadata": {},
     "output_type": "execute_result"
    }
   ],
   "source": [
    "generate"
   ]
  }
 ],
 "metadata": {
  "kernelspec": {
   "display_name": "Python 3",
   "language": "python",
   "name": "python3"
  },
  "language_info": {
   "codemirror_mode": {
    "name": "ipython",
    "version": 3
   },
   "file_extension": ".py",
   "mimetype": "text/x-python",
   "name": "python",
   "nbconvert_exporter": "python",
   "pygments_lexer": "ipython3",
   "version": "3.9.12"
  }
 },
 "nbformat": 4,
 "nbformat_minor": 2
}
