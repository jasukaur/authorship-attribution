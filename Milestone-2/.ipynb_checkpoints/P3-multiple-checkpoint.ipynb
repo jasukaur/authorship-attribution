{
 "cells": [
  {
   "cell_type": "code",
   "execution_count": 1,
   "id": "82621527",
   "metadata": {},
   "outputs": [],
   "source": [
    "import pandas as pd\n",
    "import numpy as np"
   ]
  },
  {
   "cell_type": "code",
   "execution_count": 2,
   "id": "5b65602b",
   "metadata": {
    "scrolled": true
   },
   "outputs": [
    {
     "data": {
      "text/html": [
       "<div>\n",
       "<style scoped>\n",
       "    .dataframe tbody tr th:only-of-type {\n",
       "        vertical-align: middle;\n",
       "    }\n",
       "\n",
       "    .dataframe tbody tr th {\n",
       "        vertical-align: top;\n",
       "    }\n",
       "\n",
       "    .dataframe thead th {\n",
       "        text-align: right;\n",
       "    }\n",
       "</style>\n",
       "<table border=\"1\" class=\"dataframe\">\n",
       "  <thead>\n",
       "    <tr style=\"text-align: right;\">\n",
       "      <th></th>\n",
       "      <th>text</th>\n",
       "      <th>class</th>\n",
       "    </tr>\n",
       "  </thead>\n",
       "  <tbody>\n",
       "    <tr>\n",
       "      <th>11721</th>\n",
       "      <td>how much of your body is your own how much of ...</td>\n",
       "      <td>instructgpt</td>\n",
       "    </tr>\n",
       "    <tr>\n",
       "      <th>11722</th>\n",
       "      <td>how do you keep a space station clean how do y...</td>\n",
       "      <td>instructgpt</td>\n",
       "    </tr>\n",
       "    <tr>\n",
       "      <th>11723</th>\n",
       "      <td>the city where you pay a years rent up front t...</td>\n",
       "      <td>instructgpt</td>\n",
       "    </tr>\n",
       "    <tr>\n",
       "      <th>11724</th>\n",
       "      <td>the bbc news app gives you the best of bbc new...</td>\n",
       "      <td>instructgpt</td>\n",
       "    </tr>\n",
       "    <tr>\n",
       "      <th>11725</th>\n",
       "      <td>learn how the bbc is working to strengthen tru...</td>\n",
       "      <td>instructgpt</td>\n",
       "    </tr>\n",
       "  </tbody>\n",
       "</table>\n",
       "</div>"
      ],
      "text/plain": [
       "                                                    text        class\n",
       "11721  how much of your body is your own how much of ...  instructgpt\n",
       "11722  how do you keep a space station clean how do y...  instructgpt\n",
       "11723  the city where you pay a years rent up front t...  instructgpt\n",
       "11724  the bbc news app gives you the best of bbc new...  instructgpt\n",
       "11725  learn how the bbc is working to strengthen tru...  instructgpt"
      ]
     },
     "execution_count": 2,
     "metadata": {},
     "output_type": "execute_result"
    }
   ],
   "source": [
    "data_path = '/home/arsh/Jasleen/Spring 2023/NLP/Group Project/Authorship-Attribution-for-Neural-Text-Generation-master/data/'\n",
    "\n",
    "combined = pd.read_csv(data_path + 'input.csv')\n",
    "combined.tail()"
   ]
  },
  {
   "cell_type": "code",
   "execution_count": 3,
   "id": "9efb0e59",
   "metadata": {},
   "outputs": [],
   "source": [
    "combined = combined.sample(frac=1).reset_index(drop=True)"
   ]
  },
  {
   "cell_type": "code",
   "execution_count": 6,
   "id": "afea83a5",
   "metadata": {},
   "outputs": [
    {
     "name": "stdout",
     "output_type": "stream",
     "text": [
      "              precision    recall  f1-score   support\n",
      "\n",
      "        ctrl       0.97      1.00      0.98       203\n",
      "        fair       0.50      0.60      0.55       211\n",
      "         gpt       0.98      1.00      0.99       205\n",
      "        gpt2       0.54      0.76      0.63       213\n",
      "        gpt3       0.44      0.51      0.47       233\n",
      "      grover       0.76      0.41      0.54       211\n",
      "       human       0.82      0.71      0.76       213\n",
      " instructgpt       0.66      0.70      0.68       223\n",
      "        pplm       0.76      0.57      0.65       207\n",
      "         xlm       0.98      0.99      0.99       219\n",
      "       xlnet       0.99      0.96      0.98       208\n",
      "\n",
      "    accuracy                           0.74      2346\n",
      "   macro avg       0.76      0.75      0.75      2346\n",
      "weighted avg       0.76      0.74      0.74      2346\n",
      "\n"
     ]
    }
   ],
   "source": [
    "# Random forrest with bag of words\n",
    "\n",
    "import pandas as pd\n",
    "from sklearn.model_selection import train_test_split\n",
    "from sklearn.feature_extraction.text import CountVectorizer\n",
    "from sklearn.ensemble import RandomForestClassifier\n",
    "from sklearn.metrics import classification_report\n",
    "\n",
    "# Split the dataset into training and testing sets\n",
    "X_train, X_test, y_train, y_test = train_test_split(combined['text'], combined['class'], test_size=0.2)\n",
    "\n",
    "# Create a CountVectorizer object for extracting features\n",
    "vectorizer = CountVectorizer()\n",
    "vectorizer.fit(X_train)\n",
    "X_train = vectorizer.transform(X_train)\n",
    "X_test = vectorizer.transform(X_test)\n",
    "\n",
    "# Train a Random Forest classifier on the training set\n",
    "rfc = RandomForestClassifier()\n",
    "rfc.fit(X_train, y_train)\n",
    "\n",
    "# Predict on the testing set\n",
    "y_pred = rfc.predict(X_test)\n",
    "\n",
    "# Print the classification report\n",
    "print(classification_report(y_test, y_pred))\n"
   ]
  },
  {
   "cell_type": "code",
   "execution_count": 9,
   "id": "ec797886",
   "metadata": {},
   "outputs": [
    {
     "name": "stdout",
     "output_type": "stream",
     "text": [
      "Enter text to predict: In this code, we first load the data from the CSV file into a pandas DataFrame. Then, we define a preprocessing function that tokenizes the text, performs part-of-speech tagging, lemmatizes the tokens, and removes stop words. We apply this preprocessing function to the text column and obtain the preprocessed text.\n",
      "Prediction: human\n"
     ]
    }
   ],
   "source": [
    "text = input(\"Enter text to predict: \")\n",
    "X_new = vectorizer.transform([text])\n",
    "prediction = rfc.predict(X_new)[0]\n",
    "print('Prediction:', prediction)"
   ]
  },
  {
   "cell_type": "code",
   "execution_count": null,
   "id": "65222ae8",
   "metadata": {},
   "outputs": [],
   "source": []
  },
  {
   "cell_type": "code",
   "execution_count": 10,
   "id": "f0d2136b",
   "metadata": {},
   "outputs": [
    {
     "name": "stdout",
     "output_type": "stream",
     "text": [
      "              precision    recall  f1-score   support\n",
      "\n",
      "        ctrl       0.96      0.98      0.97       210\n",
      "        fair       0.50      0.58      0.53       228\n",
      "         gpt       0.98      1.00      0.99       216\n",
      "        gpt2       0.49      0.74      0.59       183\n",
      "        gpt3       0.48      0.51      0.49       215\n",
      "      grover       0.59      0.45      0.51       223\n",
      "       human       0.87      0.61      0.71       229\n",
      " instructgpt       0.58      0.75      0.65       195\n",
      "        pplm       0.88      0.55      0.67       233\n",
      "         xlm       1.00      0.97      0.98       215\n",
      "       xlnet       0.97      0.99      0.98       199\n",
      "\n",
      "    accuracy                           0.73      2346\n",
      "   macro avg       0.75      0.74      0.73      2346\n",
      "weighted avg       0.76      0.73      0.73      2346\n",
      "\n"
     ]
    }
   ],
   "source": [
    "# Random Forest with TF-IDF\n",
    "import pandas as pd\n",
    "from sklearn.model_selection import train_test_split\n",
    "from sklearn.feature_extraction.text import TfidfVectorizer\n",
    "from sklearn.ensemble import RandomForestClassifier\n",
    "from sklearn.metrics import classification_report\n",
    "\n",
    "# Split the dataset into training and testing sets\n",
    "X_train, X_test, y_train, y_test = train_test_split(combined['text'], combined['class'], test_size=0.2)\n",
    "\n",
    "# Create a TF-IDF vectorizer object for extracting features\n",
    "vectorizer = TfidfVectorizer()\n",
    "vectorizer.fit(X_train)\n",
    "X_train = vectorizer.transform(X_train)\n",
    "X_test = vectorizer.transform(X_test)\n",
    "\n",
    "# Train a Random Forest classifier on the training set\n",
    "rfc = RandomForestClassifier()\n",
    "rfc.fit(X_train, y_train)\n",
    "\n",
    "# Predict on the testing set\n",
    "y_pred = rfc.predict(X_test)\n",
    "\n",
    "# Print the classification report\n",
    "print(classification_report(y_test, y_pred))"
   ]
  },
  {
   "cell_type": "code",
   "execution_count": 11,
   "id": "3f8e897a",
   "metadata": {},
   "outputs": [
    {
     "name": "stdout",
     "output_type": "stream",
     "text": [
      "Enter text to predict: dreanms,,\n",
      "Prediction: gpt2\n"
     ]
    }
   ],
   "source": [
    "text = input(\"Enter text to predict: \")\n",
    "X_new = vectorizer.transform([text])\n",
    "prediction = rfc.predict(X_new)[0]\n",
    "print('Prediction:', prediction)"
   ]
  },
  {
   "cell_type": "code",
   "execution_count": null,
   "id": "1b4de80e",
   "metadata": {},
   "outputs": [],
   "source": []
  },
  {
   "cell_type": "code",
   "execution_count": null,
   "id": "05fc652d",
   "metadata": {},
   "outputs": [],
   "source": []
  },
  {
   "cell_type": "code",
   "execution_count": 12,
   "id": "0079b45a",
   "metadata": {},
   "outputs": [
    {
     "name": "stdout",
     "output_type": "stream",
     "text": [
      "              precision    recall  f1-score   support\n",
      "\n",
      "        ctrl       1.00      1.00      1.00       200\n",
      "        fair       0.60      0.78      0.68       226\n",
      "         gpt       1.00      1.00      1.00       225\n",
      "        gpt2       0.70      0.61      0.65       212\n",
      "        gpt3       0.52      0.62      0.57       213\n",
      "      grover       0.61      0.69      0.65       218\n",
      "       human       0.75      0.62      0.68       212\n",
      " instructgpt       0.67      0.66      0.67       210\n",
      "        pplm       0.90      0.61      0.73       217\n",
      "         xlm       1.00      1.00      1.00       203\n",
      "       xlnet       1.00      0.98      0.99       210\n",
      "\n",
      "    accuracy                           0.78      2346\n",
      "   macro avg       0.80      0.78      0.78      2346\n",
      "weighted avg       0.79      0.78      0.78      2346\n",
      "\n"
     ]
    }
   ],
   "source": [
    "# SVM with bag of words\n",
    "\n",
    "import pandas as pd\n",
    "from sklearn.model_selection import train_test_split\n",
    "from sklearn.feature_extraction.text import CountVectorizer\n",
    "from sklearn.svm import SVC\n",
    "from sklearn.metrics import classification_report\n",
    "\n",
    "# Split the dataset into training and testing sets\n",
    "X_train, X_test, y_train, y_test = train_test_split(combined['text'], combined['class'], test_size=0.2)\n",
    "\n",
    "# Create a CountVectorizer object for extracting features\n",
    "vectorizer = CountVectorizer()\n",
    "vectorizer.fit(X_train)\n",
    "X_train = vectorizer.transform(X_train)\n",
    "X_test = vectorizer.transform(X_test)\n",
    "\n",
    "# Train a SVM classifier on the training set\n",
    "svc = SVC()\n",
    "svc.fit(X_train, y_train)\n",
    "\n",
    "# Predict on the testing set\n",
    "y_pred = svc.predict(X_test)\n",
    "\n",
    "# Print the classification report\n",
    "print(classification_report(y_test, y_pred))\n"
   ]
  },
  {
   "cell_type": "code",
   "execution_count": null,
   "id": "7e991f03",
   "metadata": {},
   "outputs": [],
   "source": []
  },
  {
   "cell_type": "code",
   "execution_count": null,
   "id": "be538b1f",
   "metadata": {},
   "outputs": [],
   "source": [
    "# SVM with tfidf\n",
    "\n",
    "import pandas as pd\n",
    "from sklearn.model_selection import train_test_split\n",
    "from sklearn.feature_extraction.text import TfidfVectorizer\n",
    "from sklearn.svm import SVC\n",
    "from sklearn.metrics import classification_report\n",
    "\n",
    "# Split the dataset into training and testing sets\n",
    "X_train, X_test, y_train, y_test = train_test_split(combined['text'], combined['class'], test_size=0.2)\n",
    "\n",
    "# Create a TfidfVectorizer object for extracting features\n",
    "vectorizer = TfidfVectorizer()\n",
    "vectorizer.fit(X_train)\n",
    "X_train = vectorizer.transform(X_train)\n",
    "X_test = vectorizer.transform(X_test)\n",
    "\n",
    "# Train a SVM classifier on the training set\n",
    "svc = SVC()\n",
    "svc.fit(X_train, y_train)\n",
    "\n",
    "# Predict on the testing set\n",
    "y_pred = svc.predict(X_test)\n",
    "\n",
    "# Print the classification report\n",
    "print(classification_report(y_test, y_pred))\n"
   ]
  },
  {
   "cell_type": "code",
   "execution_count": null,
   "id": "4d4af421",
   "metadata": {},
   "outputs": [],
   "source": [
    "text = input(\"Enter text to predict: \")\n",
    "X_new = vectorizer.transform([text])\n",
    "prediction = rfc.predict(X_new)[0]\n",
    "print('Prediction:', prediction)"
   ]
  }
 ],
 "metadata": {
  "kernelspec": {
   "display_name": "Python 3",
   "language": "python",
   "name": "python3"
  },
  "language_info": {
   "codemirror_mode": {
    "name": "ipython",
    "version": 3
   },
   "file_extension": ".py",
   "mimetype": "text/x-python",
   "name": "python",
   "nbconvert_exporter": "python",
   "pygments_lexer": "ipython3",
   "version": "3.9.12"
  }
 },
 "nbformat": 4,
 "nbformat_minor": 5
}
