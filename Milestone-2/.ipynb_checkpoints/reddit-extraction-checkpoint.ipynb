{
 "cells": [
  {
   "cell_type": "code",
   "execution_count": null,
   "metadata": {
    "id": "lEOMy0lo9iWT"
   },
   "outputs": [],
   "source": [
    "import requests\n",
    "import json\n",
    "import csv\n",
    "import re\n",
    "\n",
    "base_url = \"https://api.pushshift.io/reddit/submission/search/\"\n",
    "\n",
    "# set the parameters for the API request\n",
    "params = {\n",
    "    \"subreddit\": \"relationships\",\n",
    "    \"size\": 500, # limit to 500 submissions\n",
    "    \"fields\": [\"title\", \"selftext\"],\n",
    "    \"selftext_size\": \">500\" # specify the fields to retrieve\n",
    "}\n",
    "\n",
    "# make the API request\n",
    "response = requests.get(base_url, params=params)\n",
    "\n",
    "# parse the response as JSON\n",
    "data = json.loads(response.text)\n",
    "\n",
    "# remove \"CMV:\" from the beginning of the title field while ignoring case\n",
    "for submission in data[\"data\"]:\n",
    "    submission[\"title\"] = re.sub(r'(?i)^cmv:\\s*', '', submission[\"title\"])\n",
    "\n",
    "# save the data as a CSV file\n",
    "with open('redditrel_data.csv', mode='w', newline='') as csv_file:\n",
    "    fieldnames = [\"title\", \"selftext\"]\n",
    "    writer = csv.DictWriter(csv_file, fieldnames=fieldnames)\n",
    "\n",
    "    writer.writeheader()\n",
    "    for submission in data[\"data\"]:\n",
    "        if submission[\"selftext\"] != \"[removed]\":\n",
    "            writer.writerow({\"title\": submission[\"title\"], \"selftext\": submission[\"selftext\"]})\n"
   ]
  }
 ],
 "metadata": {
  "accelerator": "GPU",
  "colab": {
   "provenance": []
  },
  "gpuClass": "standard",
  "kernelspec": {
   "display_name": "Python 3",
   "language": "python",
   "name": "python3"
  },
  "language_info": {
   "codemirror_mode": {
    "name": "ipython",
    "version": 3
   },
   "file_extension": ".py",
   "mimetype": "text/x-python",
   "name": "python",
   "nbconvert_exporter": "python",
   "pygments_lexer": "ipython3",
   "version": "3.9.12"
  }
 },
 "nbformat": 4,
 "nbformat_minor": 1
}
