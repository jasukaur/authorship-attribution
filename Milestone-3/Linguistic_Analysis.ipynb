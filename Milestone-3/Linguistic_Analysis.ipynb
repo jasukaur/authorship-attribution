{
  "cells": [
    {
      "cell_type": "code",
      "execution_count": 1,
      "metadata": {
        "id": "BPoa3D7zcF1K"
      },
      "outputs": [],
      "source": [
        "import pandas as pd\n",
        "import numpy as np\n",
        "!pip install -U -q PyDrive\n",
        "from pydrive.drive import GoogleDrive\n",
        "from google.colab import drive"
      ]
    },
    {
      "cell_type": "code",
      "source": [
        "from sklearn.model_selection import train_test_split\n",
        "from sklearn.preprocessing import LabelEncoder\n",
        "from keras.models import Sequential\n",
        "from keras.layers import Dense"
      ],
      "metadata": {
        "id": "piYLfO46jL2R"
      },
      "execution_count": 2,
      "outputs": []
    },
    {
      "cell_type": "code",
      "execution_count": 3,
      "metadata": {
        "colab": {
          "base_uri": "https://localhost:8080/"
        },
        "id": "PbbzS_H2cF1T",
        "outputId": "4b0859db-ae84-49f8-9569-450ad0106e10"
      },
      "outputs": [
        {
          "output_type": "stream",
          "name": "stdout",
          "text": [
            "Mounted at /content/drive\n"
          ]
        }
      ],
      "source": [
        "# data_path = '/home/arsh/Jasleen/Spring 2023/NLP/Group Project/Authorship-Attribution-for-Neural-Text-Generation-master/data/'\n",
        "from google.colab import drive\n",
        "drive.mount('/content/drive')"
      ]
    },
    {
      "cell_type": "code",
      "source": [
        "data_path = 'drive/MyDrive/NLP/'"
      ],
      "metadata": {
        "id": "qk-SUeHMdFRp"
      },
      "execution_count": 4,
      "outputs": []
    },
    {
      "cell_type": "code",
      "source": [
        "data = pd.read_csv(data_path+'input.csv')\n",
        "data.tail()"
      ],
      "metadata": {
        "colab": {
          "base_uri": "https://localhost:8080/",
          "height": 206
        },
        "id": "rTu7oIwWjdC2",
        "outputId": "e5dc055f-dd86-41c2-8f6c-28785acaed2c"
      },
      "execution_count": 5,
      "outputs": [
        {
          "output_type": "execute_result",
          "data": {
            "text/plain": [
              "                                                    text        class\n",
              "11721  how much of your body is your own how much of ...  instructgpt\n",
              "11722  how do you keep a space station clean how do y...  instructgpt\n",
              "11723  the city where you pay a years rent up front t...  instructgpt\n",
              "11724  the bbc news app gives you the best of bbc new...  instructgpt\n",
              "11725  learn how the bbc is working to strengthen tru...  instructgpt"
            ],
            "text/html": [
              "\n",
              "  <div id=\"df-78f8686a-3189-4a53-931c-b29dc5067662\">\n",
              "    <div class=\"colab-df-container\">\n",
              "      <div>\n",
              "<style scoped>\n",
              "    .dataframe tbody tr th:only-of-type {\n",
              "        vertical-align: middle;\n",
              "    }\n",
              "\n",
              "    .dataframe tbody tr th {\n",
              "        vertical-align: top;\n",
              "    }\n",
              "\n",
              "    .dataframe thead th {\n",
              "        text-align: right;\n",
              "    }\n",
              "</style>\n",
              "<table border=\"1\" class=\"dataframe\">\n",
              "  <thead>\n",
              "    <tr style=\"text-align: right;\">\n",
              "      <th></th>\n",
              "      <th>text</th>\n",
              "      <th>class</th>\n",
              "    </tr>\n",
              "  </thead>\n",
              "  <tbody>\n",
              "    <tr>\n",
              "      <th>11721</th>\n",
              "      <td>how much of your body is your own how much of ...</td>\n",
              "      <td>instructgpt</td>\n",
              "    </tr>\n",
              "    <tr>\n",
              "      <th>11722</th>\n",
              "      <td>how do you keep a space station clean how do y...</td>\n",
              "      <td>instructgpt</td>\n",
              "    </tr>\n",
              "    <tr>\n",
              "      <th>11723</th>\n",
              "      <td>the city where you pay a years rent up front t...</td>\n",
              "      <td>instructgpt</td>\n",
              "    </tr>\n",
              "    <tr>\n",
              "      <th>11724</th>\n",
              "      <td>the bbc news app gives you the best of bbc new...</td>\n",
              "      <td>instructgpt</td>\n",
              "    </tr>\n",
              "    <tr>\n",
              "      <th>11725</th>\n",
              "      <td>learn how the bbc is working to strengthen tru...</td>\n",
              "      <td>instructgpt</td>\n",
              "    </tr>\n",
              "  </tbody>\n",
              "</table>\n",
              "</div>\n",
              "      <button class=\"colab-df-convert\" onclick=\"convertToInteractive('df-78f8686a-3189-4a53-931c-b29dc5067662')\"\n",
              "              title=\"Convert this dataframe to an interactive table.\"\n",
              "              style=\"display:none;\">\n",
              "        \n",
              "  <svg xmlns=\"http://www.w3.org/2000/svg\" height=\"24px\"viewBox=\"0 0 24 24\"\n",
              "       width=\"24px\">\n",
              "    <path d=\"M0 0h24v24H0V0z\" fill=\"none\"/>\n",
              "    <path d=\"M18.56 5.44l.94 2.06.94-2.06 2.06-.94-2.06-.94-.94-2.06-.94 2.06-2.06.94zm-11 1L8.5 8.5l.94-2.06 2.06-.94-2.06-.94L8.5 2.5l-.94 2.06-2.06.94zm10 10l.94 2.06.94-2.06 2.06-.94-2.06-.94-.94-2.06-.94 2.06-2.06.94z\"/><path d=\"M17.41 7.96l-1.37-1.37c-.4-.4-.92-.59-1.43-.59-.52 0-1.04.2-1.43.59L10.3 9.45l-7.72 7.72c-.78.78-.78 2.05 0 2.83L4 21.41c.39.39.9.59 1.41.59.51 0 1.02-.2 1.41-.59l7.78-7.78 2.81-2.81c.8-.78.8-2.07 0-2.86zM5.41 20L4 18.59l7.72-7.72 1.47 1.35L5.41 20z\"/>\n",
              "  </svg>\n",
              "      </button>\n",
              "      \n",
              "  <style>\n",
              "    .colab-df-container {\n",
              "      display:flex;\n",
              "      flex-wrap:wrap;\n",
              "      gap: 12px;\n",
              "    }\n",
              "\n",
              "    .colab-df-convert {\n",
              "      background-color: #E8F0FE;\n",
              "      border: none;\n",
              "      border-radius: 50%;\n",
              "      cursor: pointer;\n",
              "      display: none;\n",
              "      fill: #1967D2;\n",
              "      height: 32px;\n",
              "      padding: 0 0 0 0;\n",
              "      width: 32px;\n",
              "    }\n",
              "\n",
              "    .colab-df-convert:hover {\n",
              "      background-color: #E2EBFA;\n",
              "      box-shadow: 0px 1px 2px rgba(60, 64, 67, 0.3), 0px 1px 3px 1px rgba(60, 64, 67, 0.15);\n",
              "      fill: #174EA6;\n",
              "    }\n",
              "\n",
              "    [theme=dark] .colab-df-convert {\n",
              "      background-color: #3B4455;\n",
              "      fill: #D2E3FC;\n",
              "    }\n",
              "\n",
              "    [theme=dark] .colab-df-convert:hover {\n",
              "      background-color: #434B5C;\n",
              "      box-shadow: 0px 1px 3px 1px rgba(0, 0, 0, 0.15);\n",
              "      filter: drop-shadow(0px 1px 2px rgba(0, 0, 0, 0.3));\n",
              "      fill: #FFFFFF;\n",
              "    }\n",
              "  </style>\n",
              "\n",
              "      <script>\n",
              "        const buttonEl =\n",
              "          document.querySelector('#df-78f8686a-3189-4a53-931c-b29dc5067662 button.colab-df-convert');\n",
              "        buttonEl.style.display =\n",
              "          google.colab.kernel.accessAllowed ? 'block' : 'none';\n",
              "\n",
              "        async function convertToInteractive(key) {\n",
              "          const element = document.querySelector('#df-78f8686a-3189-4a53-931c-b29dc5067662');\n",
              "          const dataTable =\n",
              "            await google.colab.kernel.invokeFunction('convertToInteractive',\n",
              "                                                     [key], {});\n",
              "          if (!dataTable) return;\n",
              "\n",
              "          const docLinkHtml = 'Like what you see? Visit the ' +\n",
              "            '<a target=\"_blank\" href=https://colab.research.google.com/notebooks/data_table.ipynb>data table notebook</a>'\n",
              "            + ' to learn more about interactive tables.';\n",
              "          element.innerHTML = '';\n",
              "          dataTable['output_type'] = 'display_data';\n",
              "          await google.colab.output.renderOutput(dataTable, element);\n",
              "          const docLink = document.createElement('div');\n",
              "          docLink.innerHTML = docLinkHtml;\n",
              "          element.appendChild(docLink);\n",
              "        }\n",
              "      </script>\n",
              "    </div>\n",
              "  </div>\n",
              "  "
            ]
          },
          "metadata": {},
          "execution_count": 5
        }
      ]
    },
    {
      "cell_type": "code",
      "source": [
        "import pandas as pd\n",
        "import nltk\n",
        "nltk.download('averaged_perceptron_tagger')\n",
        "nltk.download('punkt')\n",
        "from nltk.corpus import stopwords\n",
        "from nltk.tokenize import sent_tokenize, word_tokenize\n",
        "from sklearn.feature_extraction.text import TfidfVectorizer\n",
        "from sklearn.ensemble import RandomForestClassifier\n",
        "from sklearn.model_selection import train_test_split\n",
        "from sklearn.metrics import accuracy_score"
      ],
      "metadata": {
        "colab": {
          "base_uri": "https://localhost:8080/"
        },
        "id": "fTLcaRc4WEPV",
        "outputId": "c9b35b5b-0515-43f9-f7b9-1cb5537ea891"
      },
      "execution_count": 14,
      "outputs": [
        {
          "output_type": "stream",
          "name": "stderr",
          "text": [
            "[nltk_data] Downloading package averaged_perceptron_tagger to\n",
            "[nltk_data]     /root/nltk_data...\n",
            "[nltk_data]   Unzipping taggers/averaged_perceptron_tagger.zip.\n",
            "[nltk_data] Downloading package punkt to /root/nltk_data...\n",
            "[nltk_data]   Package punkt is already up-to-date!\n"
          ]
        }
      ]
    },
    {
      "cell_type": "code",
      "source": [
        "def extract_discourse_structure(text):\n",
        "    sentences = sent_tokenize(text)\n",
        "    num_sentences = len(sentences)\n",
        "    num_words = len(word_tokenize(text))\n",
        "    avg_words_per_sentence = num_words / num_sentences\n",
        "\n",
        "    return [num_sentences, num_words, avg_words_per_sentence]\n",
        "\n",
        "data['discourse_structure'] = data['text'].apply(extract_discourse_structure)\n"
      ],
      "metadata": {
        "id": "BLS_Vj_MVDTs"
      },
      "execution_count": 10,
      "outputs": []
    },
    {
      "cell_type": "code",
      "source": [
        "def extract_pos_statistics(text):\n",
        "    words = word_tokenize(text)\n",
        "    pos_tags = nltk.pos_tag(words)\n",
        "    pos_counts = nltk.FreqDist(tag for word, tag in pos_tags)\n",
        "\n",
        "    return pos_counts\n",
        "\n",
        "data['pos_statistics'] = data['text'].apply(extract_pos_statistics)\n"
      ],
      "metadata": {
        "id": "DynnWdW5VDWi"
      },
      "execution_count": 15,
      "outputs": []
    },
    {
      "cell_type": "code",
      "source": [
        "def calculate_average_sentence_length(text):\n",
        "    sentences = sent_tokenize(text)\n",
        "    num_sentences = len(sentences)\n",
        "    num_words = len(word_tokenize(text))\n",
        "    avg_words_per_sentence = num_words / num_sentences\n",
        "\n",
        "    return avg_words_per_sentence\n",
        "\n",
        "data['avg_sentence_length'] = data['text'].apply(calculate_average_sentence_length)\n"
      ],
      "metadata": {
        "id": "xfwp_AC-VDae"
      },
      "execution_count": 16,
      "outputs": []
    },
    {
      "cell_type": "code",
      "source": [
        "# type-token ratio (TTR) of the text.\n",
        "def calculate_ttr(text):\n",
        "    words = word_tokenize(text)\n",
        "    num_tokens = len(words)\n",
        "    num_types = len(set(words))\n",
        "    ttr = num_types / num_tokens\n",
        "\n",
        "    return ttr\n",
        "\n",
        "data['ttr'] = data['text'].apply(calculate_ttr)\n"
      ],
      "metadata": {
        "id": "jNT1SBRCVhDF"
      },
      "execution_count": 17,
      "outputs": []
    },
    {
      "cell_type": "code",
      "source": [
        "def calculate_average_clauses_per_sentence(text):\n",
        "    sentences = sent_tokenize(text)\n",
        "    num_sentences = len(sentences)\n",
        "    num_clauses = 0\n",
        "\n",
        "    for sentence in sentences:\n",
        "        clause_count = sentence.count(',') + 1  # Assuming clauses are separated by commas\n",
        "        num_clauses += clause_count\n",
        "\n",
        "    avg_clauses_per_sentence = num_clauses / num_sentences\n",
        "\n",
        "    return avg_clauses_per_sentence\n",
        "\n",
        "data['avg_clauses_per_sentence'] = data['text'].apply(calculate_average_clauses_per_sentence)\n"
      ],
      "metadata": {
        "id": "GP0CpjAPVhHL"
      },
      "execution_count": 18,
      "outputs": []
    },
    {
      "cell_type": "code",
      "source": [
        "X = data[['discourse_structure', 'pos_statistics', 'avg_sentence_length', 'ttr', 'avg_clauses_per_sentence']]\n",
        "y = data['class']\n"
      ],
      "metadata": {
        "id": "CGlSgnLLVDhr"
      },
      "execution_count": 19,
      "outputs": []
    },
    {
      "cell_type": "code",
      "source": [
        "X"
      ],
      "metadata": {
        "colab": {
          "base_uri": "https://localhost:8080/",
          "height": 424
        },
        "id": "NKfg5fEnVqHK",
        "outputId": "a57cba04-f701-4474-d9a3-ada8098e0c47"
      },
      "execution_count": 20,
      "outputs": [
        {
          "output_type": "execute_result",
          "data": {
            "text/plain": [
              "      discourse_structure                                     pos_statistics  \\\n",
              "0         [1, 370, 370.0]  {'NN': 90, 'JJS': 1, 'NNS': 26, 'IN': 32, 'VBD...   \n",
              "1         [1, 466, 466.0]  {'NN': 119, 'VBZ': 17, 'TO': 1, 'VB': 10, 'DT'...   \n",
              "2         [1, 476, 476.0]  {'NN': 158, 'VBZ': 12, 'NNS': 46, 'IN': 40, 'J...   \n",
              "3         [1, 451, 451.0]  {'NN': 81, 'VBG': 11, 'JJ': 48, 'NNS': 31, 'VB...   \n",
              "4         [1, 415, 415.0]  {'NN': 96, 'NNS': 39, 'MD': 7, 'VB': 12, 'IN':...   \n",
              "...                   ...                                                ...   \n",
              "11721     [1, 219, 219.0]  {'WRB': 2, 'JJ': 32, 'IN': 27, 'PRP$': 38, 'NN...   \n",
              "11722     [1, 296, 296.0]  {'WRB': 2, 'VB': 30, 'PRP': 4, 'DT': 25, 'NN':...   \n",
              "11723     [1, 271, 271.0]  {'DT': 27, 'NN': 46, 'WRB': 4, 'PRP': 5, 'VBP'...   \n",
              "11724     [1, 291, 291.0]  {'DT': 28, 'JJ': 25, 'NN': 56, 'VBZ': 12, 'PRP...   \n",
              "11725     [1, 334, 334.0]  {'VB': 21, 'WRB': 3, 'DT': 36, 'NN': 70, 'VBZ'...   \n",
              "\n",
              "       avg_sentence_length       ttr  avg_clauses_per_sentence  \n",
              "0                    370.0  0.837838                       1.0  \n",
              "1                    466.0  0.851931                       1.0  \n",
              "2                    476.0  0.907563                       1.0  \n",
              "3                    451.0  0.793792                       1.0  \n",
              "4                    415.0  0.867470                       1.0  \n",
              "...                    ...       ...                       ...  \n",
              "11721                219.0  0.264840                       1.0  \n",
              "11722                296.0  0.462838                       1.0  \n",
              "11723                271.0  0.420664                       1.0  \n",
              "11724                291.0  0.422680                       1.0  \n",
              "11725                334.0  0.470060                       1.0  \n",
              "\n",
              "[11726 rows x 5 columns]"
            ],
            "text/html": [
              "\n",
              "  <div id=\"df-1fa51a7a-fe37-4219-a6ec-d14c4c25f40b\">\n",
              "    <div class=\"colab-df-container\">\n",
              "      <div>\n",
              "<style scoped>\n",
              "    .dataframe tbody tr th:only-of-type {\n",
              "        vertical-align: middle;\n",
              "    }\n",
              "\n",
              "    .dataframe tbody tr th {\n",
              "        vertical-align: top;\n",
              "    }\n",
              "\n",
              "    .dataframe thead th {\n",
              "        text-align: right;\n",
              "    }\n",
              "</style>\n",
              "<table border=\"1\" class=\"dataframe\">\n",
              "  <thead>\n",
              "    <tr style=\"text-align: right;\">\n",
              "      <th></th>\n",
              "      <th>discourse_structure</th>\n",
              "      <th>pos_statistics</th>\n",
              "      <th>avg_sentence_length</th>\n",
              "      <th>ttr</th>\n",
              "      <th>avg_clauses_per_sentence</th>\n",
              "    </tr>\n",
              "  </thead>\n",
              "  <tbody>\n",
              "    <tr>\n",
              "      <th>0</th>\n",
              "      <td>[1, 370, 370.0]</td>\n",
              "      <td>{'NN': 90, 'JJS': 1, 'NNS': 26, 'IN': 32, 'VBD...</td>\n",
              "      <td>370.0</td>\n",
              "      <td>0.837838</td>\n",
              "      <td>1.0</td>\n",
              "    </tr>\n",
              "    <tr>\n",
              "      <th>1</th>\n",
              "      <td>[1, 466, 466.0]</td>\n",
              "      <td>{'NN': 119, 'VBZ': 17, 'TO': 1, 'VB': 10, 'DT'...</td>\n",
              "      <td>466.0</td>\n",
              "      <td>0.851931</td>\n",
              "      <td>1.0</td>\n",
              "    </tr>\n",
              "    <tr>\n",
              "      <th>2</th>\n",
              "      <td>[1, 476, 476.0]</td>\n",
              "      <td>{'NN': 158, 'VBZ': 12, 'NNS': 46, 'IN': 40, 'J...</td>\n",
              "      <td>476.0</td>\n",
              "      <td>0.907563</td>\n",
              "      <td>1.0</td>\n",
              "    </tr>\n",
              "    <tr>\n",
              "      <th>3</th>\n",
              "      <td>[1, 451, 451.0]</td>\n",
              "      <td>{'NN': 81, 'VBG': 11, 'JJ': 48, 'NNS': 31, 'VB...</td>\n",
              "      <td>451.0</td>\n",
              "      <td>0.793792</td>\n",
              "      <td>1.0</td>\n",
              "    </tr>\n",
              "    <tr>\n",
              "      <th>4</th>\n",
              "      <td>[1, 415, 415.0]</td>\n",
              "      <td>{'NN': 96, 'NNS': 39, 'MD': 7, 'VB': 12, 'IN':...</td>\n",
              "      <td>415.0</td>\n",
              "      <td>0.867470</td>\n",
              "      <td>1.0</td>\n",
              "    </tr>\n",
              "    <tr>\n",
              "      <th>...</th>\n",
              "      <td>...</td>\n",
              "      <td>...</td>\n",
              "      <td>...</td>\n",
              "      <td>...</td>\n",
              "      <td>...</td>\n",
              "    </tr>\n",
              "    <tr>\n",
              "      <th>11721</th>\n",
              "      <td>[1, 219, 219.0]</td>\n",
              "      <td>{'WRB': 2, 'JJ': 32, 'IN': 27, 'PRP$': 38, 'NN...</td>\n",
              "      <td>219.0</td>\n",
              "      <td>0.264840</td>\n",
              "      <td>1.0</td>\n",
              "    </tr>\n",
              "    <tr>\n",
              "      <th>11722</th>\n",
              "      <td>[1, 296, 296.0]</td>\n",
              "      <td>{'WRB': 2, 'VB': 30, 'PRP': 4, 'DT': 25, 'NN':...</td>\n",
              "      <td>296.0</td>\n",
              "      <td>0.462838</td>\n",
              "      <td>1.0</td>\n",
              "    </tr>\n",
              "    <tr>\n",
              "      <th>11723</th>\n",
              "      <td>[1, 271, 271.0]</td>\n",
              "      <td>{'DT': 27, 'NN': 46, 'WRB': 4, 'PRP': 5, 'VBP'...</td>\n",
              "      <td>271.0</td>\n",
              "      <td>0.420664</td>\n",
              "      <td>1.0</td>\n",
              "    </tr>\n",
              "    <tr>\n",
              "      <th>11724</th>\n",
              "      <td>[1, 291, 291.0]</td>\n",
              "      <td>{'DT': 28, 'JJ': 25, 'NN': 56, 'VBZ': 12, 'PRP...</td>\n",
              "      <td>291.0</td>\n",
              "      <td>0.422680</td>\n",
              "      <td>1.0</td>\n",
              "    </tr>\n",
              "    <tr>\n",
              "      <th>11725</th>\n",
              "      <td>[1, 334, 334.0]</td>\n",
              "      <td>{'VB': 21, 'WRB': 3, 'DT': 36, 'NN': 70, 'VBZ'...</td>\n",
              "      <td>334.0</td>\n",
              "      <td>0.470060</td>\n",
              "      <td>1.0</td>\n",
              "    </tr>\n",
              "  </tbody>\n",
              "</table>\n",
              "<p>11726 rows × 5 columns</p>\n",
              "</div>\n",
              "      <button class=\"colab-df-convert\" onclick=\"convertToInteractive('df-1fa51a7a-fe37-4219-a6ec-d14c4c25f40b')\"\n",
              "              title=\"Convert this dataframe to an interactive table.\"\n",
              "              style=\"display:none;\">\n",
              "        \n",
              "  <svg xmlns=\"http://www.w3.org/2000/svg\" height=\"24px\"viewBox=\"0 0 24 24\"\n",
              "       width=\"24px\">\n",
              "    <path d=\"M0 0h24v24H0V0z\" fill=\"none\"/>\n",
              "    <path d=\"M18.56 5.44l.94 2.06.94-2.06 2.06-.94-2.06-.94-.94-2.06-.94 2.06-2.06.94zm-11 1L8.5 8.5l.94-2.06 2.06-.94-2.06-.94L8.5 2.5l-.94 2.06-2.06.94zm10 10l.94 2.06.94-2.06 2.06-.94-2.06-.94-.94-2.06-.94 2.06-2.06.94z\"/><path d=\"M17.41 7.96l-1.37-1.37c-.4-.4-.92-.59-1.43-.59-.52 0-1.04.2-1.43.59L10.3 9.45l-7.72 7.72c-.78.78-.78 2.05 0 2.83L4 21.41c.39.39.9.59 1.41.59.51 0 1.02-.2 1.41-.59l7.78-7.78 2.81-2.81c.8-.78.8-2.07 0-2.86zM5.41 20L4 18.59l7.72-7.72 1.47 1.35L5.41 20z\"/>\n",
              "  </svg>\n",
              "      </button>\n",
              "      \n",
              "  <style>\n",
              "    .colab-df-container {\n",
              "      display:flex;\n",
              "      flex-wrap:wrap;\n",
              "      gap: 12px;\n",
              "    }\n",
              "\n",
              "    .colab-df-convert {\n",
              "      background-color: #E8F0FE;\n",
              "      border: none;\n",
              "      border-radius: 50%;\n",
              "      cursor: pointer;\n",
              "      display: none;\n",
              "      fill: #1967D2;\n",
              "      height: 32px;\n",
              "      padding: 0 0 0 0;\n",
              "      width: 32px;\n",
              "    }\n",
              "\n",
              "    .colab-df-convert:hover {\n",
              "      background-color: #E2EBFA;\n",
              "      box-shadow: 0px 1px 2px rgba(60, 64, 67, 0.3), 0px 1px 3px 1px rgba(60, 64, 67, 0.15);\n",
              "      fill: #174EA6;\n",
              "    }\n",
              "\n",
              "    [theme=dark] .colab-df-convert {\n",
              "      background-color: #3B4455;\n",
              "      fill: #D2E3FC;\n",
              "    }\n",
              "\n",
              "    [theme=dark] .colab-df-convert:hover {\n",
              "      background-color: #434B5C;\n",
              "      box-shadow: 0px 1px 3px 1px rgba(0, 0, 0, 0.15);\n",
              "      filter: drop-shadow(0px 1px 2px rgba(0, 0, 0, 0.3));\n",
              "      fill: #FFFFFF;\n",
              "    }\n",
              "  </style>\n",
              "\n",
              "      <script>\n",
              "        const buttonEl =\n",
              "          document.querySelector('#df-1fa51a7a-fe37-4219-a6ec-d14c4c25f40b button.colab-df-convert');\n",
              "        buttonEl.style.display =\n",
              "          google.colab.kernel.accessAllowed ? 'block' : 'none';\n",
              "\n",
              "        async function convertToInteractive(key) {\n",
              "          const element = document.querySelector('#df-1fa51a7a-fe37-4219-a6ec-d14c4c25f40b');\n",
              "          const dataTable =\n",
              "            await google.colab.kernel.invokeFunction('convertToInteractive',\n",
              "                                                     [key], {});\n",
              "          if (!dataTable) return;\n",
              "\n",
              "          const docLinkHtml = 'Like what you see? Visit the ' +\n",
              "            '<a target=\"_blank\" href=https://colab.research.google.com/notebooks/data_table.ipynb>data table notebook</a>'\n",
              "            + ' to learn more about interactive tables.';\n",
              "          element.innerHTML = '';\n",
              "          dataTable['output_type'] = 'display_data';\n",
              "          await google.colab.output.renderOutput(dataTable, element);\n",
              "          const docLink = document.createElement('div');\n",
              "          docLink.innerHTML = docLinkHtml;\n",
              "          element.appendChild(docLink);\n",
              "        }\n",
              "      </script>\n",
              "    </div>\n",
              "  </div>\n",
              "  "
            ]
          },
          "metadata": {},
          "execution_count": 20
        }
      ]
    },
    {
      "cell_type": "code",
      "source": [
        "import numpy as np\n",
        "from sklearn.feature_extraction import DictVectorizer\n",
        "\n",
        "# Convert 'discourse_structure' column to a 2D array\n",
        "discourse_structure_arr = np.array(X['discourse_structure'].tolist())\n",
        "\n",
        "# Convert 'pos_statistics' column to a list of dictionaries\n",
        "pos_statistics_list = X['pos_statistics'].tolist()\n",
        "\n",
        "# Use DictVectorizer to convert the list of dictionaries to a matrix\n",
        "vectorizer = DictVectorizer(sparse=False)\n",
        "pos_statistics_matrix = vectorizer.fit_transform(pos_statistics_list)\n",
        "\n",
        "# Concatenate the two transformed features\n",
        "X = np.concatenate((discourse_structure_arr, pos_statistics_matrix, data[['avg_sentence_length', 'ttr', 'avg_clauses_per_sentence']]), axis=1)\n",
        "# X = data[['discourse_structure', 'pos_statistics', 'avg_sentence_length', 'ttr', 'avg_clauses_per_sentence']]\n",
        "X"
      ],
      "metadata": {
        "colab": {
          "base_uri": "https://localhost:8080/"
        },
        "id": "oPKihAS-VqKP",
        "outputId": "1fadcad7-a344-4104-d9b0-a66434febed2"
      },
      "execution_count": 21,
      "outputs": [
        {
          "output_type": "execute_result",
          "data": {
            "text/plain": [
              "array([[1.00000000e+00, 3.70000000e+02, 3.70000000e+02, ...,\n",
              "        3.70000000e+02, 8.37837838e-01, 1.00000000e+00],\n",
              "       [1.00000000e+00, 4.66000000e+02, 4.66000000e+02, ...,\n",
              "        4.66000000e+02, 8.51931330e-01, 1.00000000e+00],\n",
              "       [1.00000000e+00, 4.76000000e+02, 4.76000000e+02, ...,\n",
              "        4.76000000e+02, 9.07563025e-01, 1.00000000e+00],\n",
              "       ...,\n",
              "       [1.00000000e+00, 2.71000000e+02, 2.71000000e+02, ...,\n",
              "        2.71000000e+02, 4.20664207e-01, 1.00000000e+00],\n",
              "       [1.00000000e+00, 2.91000000e+02, 2.91000000e+02, ...,\n",
              "        2.91000000e+02, 4.22680412e-01, 1.00000000e+00],\n",
              "       [1.00000000e+00, 3.34000000e+02, 3.34000000e+02, ...,\n",
              "        3.34000000e+02, 4.70059880e-01, 1.00000000e+00]])"
            ]
          },
          "metadata": {},
          "execution_count": 21
        }
      ]
    },
    {
      "cell_type": "code",
      "source": [
        "from sklearn.preprocessing import LabelEncoder\n",
        "\n",
        "# Encode the target variable y\n",
        "label_encoder = LabelEncoder()\n",
        "y_encoded = label_encoder.fit_transform(y)\n",
        "\n",
        "y_encoded"
      ],
      "metadata": {
        "colab": {
          "base_uri": "https://localhost:8080/"
        },
        "id": "P2rqIPSvVqOH",
        "outputId": "456e41ea-97db-4c7e-87a0-c1796b99a7b2"
      },
      "execution_count": 22,
      "outputs": [
        {
          "output_type": "execute_result",
          "data": {
            "text/plain": [
              "array([0, 0, 0, ..., 7, 7, 7])"
            ]
          },
          "metadata": {},
          "execution_count": 22
        }
      ]
    }
  ],
  "metadata": {
    "kernelspec": {
      "display_name": "Python 3",
      "language": "python",
      "name": "python3"
    },
    "language_info": {
      "codemirror_mode": {
        "name": "ipython",
        "version": 3
      },
      "file_extension": ".py",
      "mimetype": "text/x-python",
      "name": "python",
      "nbconvert_exporter": "python",
      "pygments_lexer": "ipython3",
      "version": "3.9.12"
    },
    "colab": {
      "provenance": [],
      "gpuType": "T4"
    },
    "accelerator": "GPU",
    "gpuClass": "standard"
  },
  "nbformat": 4,
  "nbformat_minor": 0
}