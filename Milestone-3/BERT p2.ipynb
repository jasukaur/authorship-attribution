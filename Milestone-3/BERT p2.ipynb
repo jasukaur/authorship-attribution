{
 "cells": [
  {
   "cell_type": "code",
   "execution_count": 1,
   "metadata": {},
   "outputs": [
    {
     "name": "stdout",
     "output_type": "stream",
     "text": [
      "Defaulting to user installation because normal site-packages is not writeable\n",
      "Requirement already satisfied: transformers in /Users/charansaisadla/Library/Python/3.9/lib/python/site-packages (4.27.3)\n",
      "Requirement already satisfied: requests in /Users/charansaisadla/Library/Python/3.9/lib/python/site-packages (from transformers) (2.28.2)\n",
      "Requirement already satisfied: numpy>=1.17 in /Users/charansaisadla/Library/Python/3.9/lib/python/site-packages (from transformers) (1.24.2)\n",
      "Requirement already satisfied: packaging>=20.0 in /Users/charansaisadla/Library/Python/3.9/lib/python/site-packages (from transformers) (23.0)\n",
      "Requirement already satisfied: huggingface-hub<1.0,>=0.11.0 in /Users/charansaisadla/Library/Python/3.9/lib/python/site-packages (from transformers) (0.13.3)\n",
      "Requirement already satisfied: tokenizers!=0.11.3,<0.14,>=0.11.1 in /Users/charansaisadla/Library/Python/3.9/lib/python/site-packages (from transformers) (0.13.2)\n",
      "Requirement already satisfied: regex!=2019.12.17 in /Users/charansaisadla/Library/Python/3.9/lib/python/site-packages (from transformers) (2022.10.31)\n",
      "Requirement already satisfied: filelock in /Users/charansaisadla/Library/Python/3.9/lib/python/site-packages (from transformers) (3.10.4)\n",
      "Requirement already satisfied: tqdm>=4.27 in /Users/charansaisadla/Library/Python/3.9/lib/python/site-packages (from transformers) (4.65.0)\n",
      "Requirement already satisfied: pyyaml>=5.1 in /Users/charansaisadla/Library/Python/3.9/lib/python/site-packages (from transformers) (6.0)\n",
      "Requirement already satisfied: typing-extensions>=3.7.4.3 in /Users/charansaisadla/Library/Python/3.9/lib/python/site-packages (from huggingface-hub<1.0,>=0.11.0->transformers) (4.5.0)\n",
      "Requirement already satisfied: charset-normalizer<4,>=2 in /Users/charansaisadla/Library/Python/3.9/lib/python/site-packages (from requests->transformers) (3.1.0)\n",
      "Requirement already satisfied: urllib3<1.27,>=1.21.1 in /Users/charansaisadla/Library/Python/3.9/lib/python/site-packages (from requests->transformers) (1.26.15)\n",
      "Requirement already satisfied: certifi>=2017.4.17 in /Users/charansaisadla/Library/Python/3.9/lib/python/site-packages (from requests->transformers) (2022.12.7)\n",
      "Requirement already satisfied: idna<4,>=2.5 in /Users/charansaisadla/Library/Python/3.9/lib/python/site-packages (from requests->transformers) (3.4)\n",
      "Defaulting to user installation because normal site-packages is not writeable\n",
      "Requirement already satisfied: torch in /Users/charansaisadla/Library/Python/3.9/lib/python/site-packages (2.0.0)\n",
      "Requirement already satisfied: typing-extensions in /Users/charansaisadla/Library/Python/3.9/lib/python/site-packages (from torch) (4.5.0)\n",
      "Requirement already satisfied: sympy in /Users/charansaisadla/Library/Python/3.9/lib/python/site-packages (from torch) (1.11.1)\n",
      "Requirement already satisfied: filelock in /Users/charansaisadla/Library/Python/3.9/lib/python/site-packages (from torch) (3.10.4)\n",
      "Requirement already satisfied: networkx in /Users/charansaisadla/Library/Python/3.9/lib/python/site-packages (from torch) (3.0)\n",
      "Requirement already satisfied: jinja2 in /Users/charansaisadla/Library/Python/3.9/lib/python/site-packages (from torch) (3.1.2)\n",
      "Requirement already satisfied: MarkupSafe>=2.0 in /Users/charansaisadla/Library/Python/3.9/lib/python/site-packages (from jinja2->torch) (2.1.2)\n",
      "Requirement already satisfied: mpmath>=0.19 in /Users/charansaisadla/Library/Python/3.9/lib/python/site-packages (from sympy->torch) (1.3.0)\n"
     ]
    }
   ],
   "source": [
    "!pip install transformers\n",
    "!pip install torch"
   ]
  },
  {
   "cell_type": "code",
   "execution_count": 2,
   "metadata": {},
   "outputs": [],
   "source": [
    "import pandas as pd\n",
    "data_path = '/Users/charansaisadla/Desktop/ub classes/SEM2/NLP/data project/'\n",
    "df=pd.read_csv(data_path+\"input.csv\")\n"
   ]
  },
  {
   "cell_type": "code",
   "execution_count": 32,
   "metadata": {},
   "outputs": [
    {
     "data": {
      "text/plain": [
       "'endoftext16 japan experiences every traveler needs to enjoy their national parks and forests and the cultural diversity that surrounds themkanto region the largest island city in japan tokyo boasts an amazing culture that has influenced the way culture works in culturerich countries throughout the world kita culture and culture culture are closely tied with the culture of nature and the culture culture of the culture and the cultural culture culture in this area is one of japan culture culture cultures culture culture culture culture culture culture culture culture culture culture culture culture culture culture culture culture culture culture culture culture culture culture culture culture culture culture culture culture culture culture culture culture culture culture culture culture culture culture culture culture culture culture culture culture culture culture culture culture culture culture culture culture culture culture culture culture culture culture culture culture culture culture culture culture culture culture culture culture culture culture culture culture culture culture culture culture culture culture culture culture culture culture culture culture culture culture culture culture culture culture culture culture culture culture culture culture culture culture culture culture culture culture culture culture culture culture culture culture culture culture culture culture culture culture culture culture culture culture culture culture culture culture culture culture culture culture culture culture culture culture culture culture culture culture culture culture culture culture culture culture culture culture culture culture culture culture culture culture culture culture culture culture culture culture culture culture culture culture culture culture culture culture culture culture culture culture culture culture culture culture culture culture culture culture culture culture culture culture culture culture culture culture culture culture culture culture culture culture culture culture culture culture culture culture culture culture culture culture culture culture culture culture culture culture culture culture culture culture culture culture culture culture culture culture culture culture culture culture culture culture culture culture culture culture culture culture culture culture culture culture culture culture culture culture culture culture culture culture culture culture culture culture culture culture culture culture culture culture culture culture culture culture culture culture culture culture culture culture culture culture culture culture culture culture culture culture culture culture culture culture culture culture culture culture culture culture culture culture culture culture culture culture culture culture culture culture culture culture culture culture culture culture culture culture culture culture culture culture culture culture culture culture culture culture culture culture culture culture culture culture culture culture culture culture culture culture culture culture culture culture culture culture culture culture culture culture culture culture culture culture culture culture culture culture culture culture culture culture culture culture culture culture culture culture culture culture culture culture culture culture culture culture culture culture culture culture culture culture culture culture culture culture culture culture culture culture culture culture culture culture culture culture culture culture culture culture culture culture culture culture culture culture culture culture culture culture culture culture culture culture culture culture culture culture culture culture culture culture culture culture culture culture culture culture culture culture culture culture culture culture culture culture culture culture culture culture'"
      ]
     },
     "execution_count": 32,
     "metadata": {},
     "output_type": "execute_result"
    }
   ],
   "source": [
    "df['class'] = df['class'].apply(lambda x: 1 if x==7 else 0)\n",
    "df['text'][7000]"
   ]
  },
  {
   "cell_type": "code",
   "execution_count": 4,
   "metadata": {},
   "outputs": [],
   "source": [
    "from sklearn.model_selection import train_test_split\n",
    "\n",
    "train_df, test_df = train_test_split(df, test_size=0.2, random_state=42)\n"
   ]
  },
  {
   "attachments": {},
   "cell_type": "markdown",
   "metadata": {},
   "source": [
    "Here we are using the BERTforsequenceClassification which can be used as classifier,here we are using from_pretained is which there are several models are available for bert ex:bert-large-cased,bert-base-cased with several change in parameters but the basic and efficient one we are using bert_base-uncasedd here.\n",
    "\n",
    "The number of labels mentioned here is 2 which denotes that it has to classfiy into 2 classes.\n",
    "\n",
    "The tokenizer we are using BERTTokenizer which can be used as tokenize the input and feed it into the BERT."
   ]
  },
  {
   "cell_type": "code",
   "execution_count": 5,
   "metadata": {},
   "outputs": [
    {
     "name": "stderr",
     "output_type": "stream",
     "text": [
      "Some weights of the model checkpoint at bert-base-uncased were not used when initializing BertForSequenceClassification: ['cls.predictions.transform.LayerNorm.bias', 'cls.predictions.transform.dense.bias', 'cls.seq_relationship.weight', 'cls.seq_relationship.bias', 'cls.predictions.transform.dense.weight', 'cls.predictions.decoder.weight', 'cls.predictions.bias', 'cls.predictions.transform.LayerNorm.weight']\n",
      "- This IS expected if you are initializing BertForSequenceClassification from the checkpoint of a model trained on another task or with another architecture (e.g. initializing a BertForSequenceClassification model from a BertForPreTraining model).\n",
      "- This IS NOT expected if you are initializing BertForSequenceClassification from the checkpoint of a model that you expect to be exactly identical (initializing a BertForSequenceClassification model from a BertForSequenceClassification model).\n",
      "Some weights of BertForSequenceClassification were not initialized from the model checkpoint at bert-base-uncased and are newly initialized: ['classifier.weight', 'classifier.bias']\n",
      "You should probably TRAIN this model on a down-stream task to be able to use it for predictions and inference.\n"
     ]
    }
   ],
   "source": [
    "from transformers import BertForSequenceClassification, BertTokenizer\n",
    "\n",
    "model = BertForSequenceClassification.from_pretrained('bert-base-uncased', num_labels=2)\n",
    "tokenizer = BertTokenizer.from_pretrained('bert-base-uncased')\n"
   ]
  },
  {
   "attachments": {},
   "cell_type": "markdown",
   "metadata": {},
   "source": [
    "so here we are defining a function in which is going to tokenize and encode together whihc passing the inputs text,tokenizer,maxlenght.\n",
    "\n",
    "encode_plus() method of the tokenizer object. The encode_plus() method takes in the text input, adds special tokens to mark the beginning and end of the sequence, truncates or pads the sequence to the specified max_length, and returns a dictionary containing the encoded sequence, the attention mask, and the token type IDs.\n",
    "\n",
    "so usually needed the encoded inputs and attentionmask to know which we can feed and which we can skip.\n",
    "\n"
   ]
  },
  {
   "cell_type": "code",
   "execution_count": 6,
   "metadata": {},
   "outputs": [],
   "source": [
    "import torch\n",
    "\n",
    "def tokenize_and_encode(text, tokenizer, max_length):\n",
    "    input_ids = tokenizer.encode_plus(text, add_special_tokens=True, max_length=max_length, padding='max_length', truncation=True, return_token_type_ids=False, return_attention_mask=True, return_tensors='pt')\n",
    "    return input_ids['input_ids'], input_ids['attention_mask']\n"
   ]
  },
  {
   "attachments": {},
   "cell_type": "markdown",
   "metadata": {},
   "source": [
    "input_ids = torch.cat(input_ids, dim=0): Concatenates the list of encoded input sequences into a single PyTorch tensor along the 0th dimension.\n",
    "attention_masks = torch.cat(attention_masks, dim=0): Concatenates the list of attention masks into a single PyTorch tensor along the 0th dimension.\n",
    "labels = torch.tensor(labels): Converts the list of class labels to a PyTorch tensor.\n",
    "\n",
    "TensorDataset object using the input sequences, attention masks, and labels that we have converted to PyTorch tensors. This TensorDataset object then serves as the input to the DataLoader.\n",
    "\n",
    "The DataLoader iterates over the TensorDataset object in batches, shuffling the data if shuffle=True. During each iteration, the DataLoader returns a batch of input sequences, attention masks, and labels, which can then be used to train or evaluate the model.\n",
    "\n",
    "By using DataLoader to iterate over the dataset, we can effectively process large amounts of data in batches, while minimizing the amount of memory required to store the entire dataset in memory at once."
   ]
  },
  {
   "cell_type": "code",
   "execution_count": 7,
   "metadata": {},
   "outputs": [],
   "source": [
    "def get_dataloader(df, tokenizer, max_length, batch_size, shuffle=True):\n",
    "    texts = df['text'].values\n",
    "    labels = df['class'].values\n",
    "    \n",
    "    input_ids = []\n",
    "    attention_masks = []\n",
    "    \n",
    "    for text in texts:\n",
    "        input_id, attention_mask = tokenize_and_encode(text, tokenizer, max_length)\n",
    "        input_ids.append(input_id)\n",
    "        attention_masks.append(attention_mask)\n",
    "        \n",
    "    input_ids = torch.cat(input_ids, dim=0)\n",
    "    attention_masks = torch.cat(attention_masks, dim=0)\n",
    "    labels = torch.tensor(labels)\n",
    "    \n",
    "    dataset = torch.utils.data.TensorDataset(input_ids, attention_masks, labels)\n",
    "    dataloader = torch.utils.data.DataLoader(dataset, batch_size=batch_size, shuffle=shuffle)\n",
    "    \n",
    "    return dataloader\n"
   ]
  },
  {
   "cell_type": "code",
   "execution_count": 8,
   "metadata": {},
   "outputs": [],
   "source": [
    "def train_model(model, train_dataloader, optimizer, device):\n",
    "    model.train()\n",
    "    \n",
    "    for batch in train_dataloader:\n",
    "        batch = tuple(t.to(device) for t in batch)\n",
    "        input_ids, attention_masks, labels = batch\n",
    "        \n",
    "        optimizer.zero_grad()\n",
    "        outputs = model(input_ids, attention_mask=attention_masks, labels=labels)\n",
    "        loss = outputs.loss\n",
    "        logits = outputs.logits\n",
    "        \n",
    "        loss.backward()\n",
    "        optimizer.step()\n",
    "    \n",
    "    return model\n"
   ]
  },
  {
   "cell_type": "code",
   "execution_count": 9,
   "metadata": {},
   "outputs": [],
   "source": [
    "def evaluate_model(model, val_dataloader, device):\n",
    "    model.eval()\n",
    "    val_loss, val_accuracy = 0, 0\n",
    "    n_val_steps = 0\n",
    "    \n",
    "    with torch.no_grad():\n",
    "        for batch in val_dataloader:\n",
    "            batch = tuple(t.to(device) for t in batch)\n",
    "            input_ids, attention_masks, labels = batch\n",
    "\n",
    "            outputs = model(input_ids, attention_mask=attention_masks, labels=labels)\n",
    "            loss = outputs.loss\n",
    "            logits = outputs.logits\n",
    "\n",
    "            val_loss += loss.item()\n",
    "            preds = logits.argmax(dim=1)\n",
    "            val_accuracy += (preds == labels).float().mean().item()\n",
    "            n_val_steps += 1\n",
    "\n",
    "    val_loss /= n_val_steps\n",
    "    val_accuracy /= n_val_steps\n",
    "\n",
    "    return val_loss, val_accuracy\n",
    "\n"
   ]
  },
  {
   "cell_type": "code",
   "execution_count": 10,
   "metadata": {},
   "outputs": [
    {
     "name": "stderr",
     "output_type": "stream",
     "text": [
      "Some weights of the model checkpoint at bert-base-cased were not used when initializing BertForSequenceClassification: ['cls.predictions.transform.LayerNorm.bias', 'cls.predictions.transform.dense.bias', 'cls.seq_relationship.weight', 'cls.seq_relationship.bias', 'cls.predictions.transform.dense.weight', 'cls.predictions.decoder.weight', 'cls.predictions.bias', 'cls.predictions.transform.LayerNorm.weight']\n",
      "- This IS expected if you are initializing BertForSequenceClassification from the checkpoint of a model trained on another task or with another architecture (e.g. initializing a BertForSequenceClassification model from a BertForPreTraining model).\n",
      "- This IS NOT expected if you are initializing BertForSequenceClassification from the checkpoint of a model that you expect to be exactly identical (initializing a BertForSequenceClassification model from a BertForSequenceClassification model).\n",
      "Some weights of BertForSequenceClassification were not initialized from the model checkpoint at bert-base-cased and are newly initialized: ['classifier.weight', 'classifier.bias']\n",
      "You should probably TRAIN this model on a down-stream task to be able to use it for predictions and inference.\n"
     ]
    },
    {
     "name": "stdout",
     "output_type": "stream",
     "text": [
      "Epoch 1 Val Loss: 0.176, Val Accuracy: 0.929\n",
      "Epoch 2 Val Loss: 0.079, Val Accuracy: 0.973\n",
      "Epoch 3 Val Loss: 0.062, Val Accuracy: 0.986\n",
      "Epoch 4 Val Loss: 0.058, Val Accuracy: 0.989\n",
      "Epoch 5 Val Loss: 0.156, Val Accuracy: 0.978\n"
     ]
    }
   ],
   "source": [
    "MAX_LENGTH = 128\n",
    "BATCH_SIZE = 16\n",
    "NUM_EPOCHS = 5\n",
    "LEARNING_RATE = 2e-5\n",
    "\n",
    "device = torch.device(\"mps\")\n",
    "model = BertForSequenceClassification.from_pretrained(\"bert-base-cased\").to(device)\n",
    "\n",
    "optimizer = torch.optim.AdamW(model.parameters(), lr=LEARNING_RATE)\n",
    "\n",
    "train_dataloader = get_dataloader(train_df, tokenizer, MAX_LENGTH, BATCH_SIZE)\n",
    "val_dataloader = get_dataloader(test_df, tokenizer, MAX_LENGTH, BATCH_SIZE)\n",
    "\n",
    "for epoch in range(NUM_EPOCHS):\n",
    "    train_model(model, train_dataloader, optimizer, device)\n",
    "    val_loss, val_accuracy = evaluate_model(model, val_dataloader, device)\n",
    "    print(f\"Epoch {epoch + 1} Val Loss: {val_loss:.3f}, Val Accuracy: {val_accuracy:.3f}\")\n"
   ]
  },
  {
   "cell_type": "code",
   "execution_count": 1,
   "metadata": {},
   "outputs": [
    {
     "name": "stdout",
     "output_type": "stream",
     "text": [
      "True\n",
      "True\n"
     ]
    }
   ],
   "source": [
    "import torch\n",
    "import math\n",
    "# this ensures that the current MacOS version is at least 12.3+\n",
    "print(torch.backends.mps.is_available())\n",
    "# this ensures that the current current PyTorch installation was built with MPS activated.\n",
    "print(torch.backends.mps.is_built())\n"
   ]
  },
  {
   "cell_type": "code",
   "execution_count": 36,
   "metadata": {},
   "outputs": [
    {
     "name": "stdout",
     "output_type": "stream",
     "text": [
      "machine\n"
     ]
    }
   ],
   "source": [
    "# Assume you have a trained model named `model`, a tokenizer named `tokenizer`,\n",
    "# and a device named `device` that specifies the hardware to use (e.g. \"cuda\" or \"cpu\").\n",
    "\n",
    "input_text = \"Cristiano Ronaldo is a Portuguese professional footballer widely regarded as one of the greatest players of all time. He was born on February 5, 1985, in Madeira, Portugal. Ronaldo began his football career at a young age, playing for Andorinha and later moving on to play for Nacional.At the age of just 16, Ronaldo signed with Sporting CP, one of the top football clubs in Portugal. He quickly made a name for himself, scoring several impressive goals and helping his team win important matches. In 2003, at the age of 18, Ronaldo signed with Manchester United, one of the most prestigious football clubs in the world.\"\n",
    "encoded_input = tokenizer(input_text, padding='max_length', truncation=True, max_length=MAX_LENGTH, return_tensors='pt')\n",
    "input_ids = encoded_input['input_ids'].to(device)\n",
    "attention_mask = encoded_input['attention_mask'].to(device)\n",
    "\n",
    "with torch.no_grad():\n",
    "    outputs = model(input_ids, attention_mask=attention_mask)\n",
    "    logits = outputs.logits\n",
    "    predicted_class = torch.argmax(logits, dim=1).item()\n",
    "\n",
    "\n",
    "if predicted_class==1:\n",
    "    print(\"Predicted class: Human\")\n",
    "else:\n",
    "    print(\"machine\")\n"
   ]
  },
  {
   "cell_type": "code",
   "execution_count": 37,
   "metadata": {},
   "outputs": [],
   "source": [
    "import torch\n",
    "\n",
    "# Assuming your model is named 'my_model'\n",
    "# Save the model's state dictionary\n",
    "torch.save(model.state_dict(), 'BERT p2.pt')"
   ]
  },
  {
   "cell_type": "code",
   "execution_count": null,
   "metadata": {},
   "outputs": [],
   "source": []
  }
 ],
 "metadata": {
  "kernelspec": {
   "display_name": "Python 3",
   "language": "python",
   "name": "python3"
  },
  "language_info": {
   "codemirror_mode": {
    "name": "ipython",
    "version": 3
   },
   "file_extension": ".py",
   "mimetype": "text/x-python",
   "name": "python",
   "nbconvert_exporter": "python",
   "pygments_lexer": "ipython3",
   "version": "3.9.6"
  },
  "orig_nbformat": 4,
  "vscode": {
   "interpreter": {
    "hash": "31f2aee4e71d21fbe5cf8b01ff0e069b9275f58929596ceb00d14d90e3e16cd6"
   }
  }
 },
 "nbformat": 4,
 "nbformat_minor": 2
}
