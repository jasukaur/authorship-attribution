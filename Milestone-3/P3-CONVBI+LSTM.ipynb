{
 "cells": [
  {
   "cell_type": "code",
   "execution_count": 1,
   "metadata": {
    "colab": {
     "base_uri": "https://localhost:8080/"
    },
    "id": "vyarBgQsOmvz",
    "outputId": "1e9d73ea-d90d-44f4-c99a-cbae4b910f86"
   },
   "outputs": [
    {
     "name": "stdout",
     "output_type": "stream",
     "text": [
      "Mounted at /content/drive\n"
     ]
    }
   ],
   "source": [
    "import pandas as pd\n",
    "import numpy as np\n",
    "import nltk\n",
    "from nltk.tokenize import word_tokenize\n",
    "from nltk.corpus import stopwords\n",
    "from nltk.stem import WordNetLemmatizer\n",
    "import string\n",
    "from keras.preprocessing.text import Tokenizer\n",
    "from keras.utils import to_categorical\n",
    "from keras.models import Sequential\n",
    "from keras.layers import Dense, Embedding, Conv1D, MaxPooling1D, LSTM, Dropout, Flatten, Bidirectional\n",
    "from keras.utils import pad_sequences\n",
    "from sklearn.preprocessing import LabelEncoder\n",
    "from sklearn.model_selection import train_test_split\n",
    "from sklearn.metrics import accuracy_score, classification_report\n",
    "import pandas as pd\n",
    "import numpy as np\n",
    "!pip install -U -q PyDrive\n",
    "from pydrive.drive import GoogleDrive\n",
    "from google.colab import drive\n",
    "# data_path = '/home/arsh/Jasleen/Spring 2023/NLP/Group Project/Authorship-Attribution-for-Neural-Text-Generation-master/data/'\n",
    "from google.colab import drive\n",
    "drive.mount('/content/drive')\n",
    "data_path = 'drive/MyDrive/NLP/'\n",
    "data = pd.read_csv(data_path+'input.csv')\n",
    "\n",
    "\n",
    "\n"
   ]
  },
  {
   "cell_type": "code",
   "execution_count": 2,
   "metadata": {
    "colab": {
     "base_uri": "https://localhost:8080/"
    },
    "id": "QgDKLe1mOf0g",
    "outputId": "69ba8ae8-46c0-46d2-8693-6e8eae386cb6"
   },
   "outputs": [
    {
     "name": "stderr",
     "output_type": "stream",
     "text": [
      "[nltk_data] Downloading package punkt to /root/nltk_data...\n",
      "[nltk_data]   Unzipping tokenizers/punkt.zip.\n",
      "[nltk_data] Downloading package stopwords to /root/nltk_data...\n",
      "[nltk_data]   Unzipping corpora/stopwords.zip.\n",
      "[nltk_data] Downloading package wordnet to /root/nltk_data...\n"
     ]
    },
    {
     "name": "stdout",
     "output_type": "stream",
     "text": [
      "Epoch 1/5\n",
      "74/74 [==============================] - 35s 281ms/step - loss: 1.7421 - accuracy: 0.3640 - val_loss: 1.1298 - val_accuracy: 0.5763\n",
      "Epoch 2/5\n",
      "74/74 [==============================] - 17s 228ms/step - loss: 0.8623 - accuracy: 0.6892 - val_loss: 0.8763 - val_accuracy: 0.6731\n",
      "Epoch 3/5\n",
      "74/74 [==============================] - 17s 234ms/step - loss: 0.5372 - accuracy: 0.8033 - val_loss: 0.7422 - val_accuracy: 0.7302\n",
      "Epoch 4/5\n",
      "74/74 [==============================] - 15s 200ms/step - loss: 0.2752 - accuracy: 0.9106 - val_loss: 0.7685 - val_accuracy: 0.7477\n",
      "Epoch 5/5\n",
      "74/74 [==============================] - 16s 218ms/step - loss: 0.1095 - accuracy: 0.9710 - val_loss: 0.8371 - val_accuracy: 0.7630\n",
      "Epoch 1/5\n",
      "74/74 [==============================] - 23s 277ms/step - loss: 2.0775 - accuracy: 0.2630 - val_loss: 1.6280 - val_accuracy: 0.3657\n",
      "Epoch 2/5\n",
      "74/74 [==============================] - 17s 229ms/step - loss: 1.3093 - accuracy: 0.4970 - val_loss: 1.2162 - val_accuracy: 0.5580\n",
      "Epoch 3/5\n",
      "74/74 [==============================] - 17s 231ms/step - loss: 0.9772 - accuracy: 0.6343 - val_loss: 1.1753 - val_accuracy: 0.5644\n",
      "Epoch 4/5\n",
      "74/74 [==============================] - 17s 231ms/step - loss: 0.7017 - accuracy: 0.7485 - val_loss: 1.0734 - val_accuracy: 0.6304\n",
      "Epoch 5/5\n",
      "74/74 [==============================] - 16s 218ms/step - loss: 0.4500 - accuracy: 0.8562 - val_loss: 1.1330 - val_accuracy: 0.6449\n"
     ]
    },
    {
     "data": {
      "text/plain": [
       "<keras.callbacks.History at 0x7f0f38353580>"
      ]
     },
     "execution_count": 2,
     "metadata": {},
     "output_type": "execute_result"
    }
   ],
   "source": [
    "texts = data['text'].tolist()\n",
    "classes = data['class'].tolist()\n",
    "\n",
    "nltk.download('punkt')\n",
    "nltk.download('stopwords')\n",
    "nltk.download('wordnet')\n",
    "\n",
    "tokenized_texts = [word_tokenize(text.lower()) for text in texts]\n",
    "stop_words = set(stopwords.words('english'))\n",
    "punctuation = set(string.punctuation)\n",
    "lemmatizer = WordNetLemmatizer()\n",
    "\n",
    "preprocessed_texts = []\n",
    "for tokens in tokenized_texts:\n",
    "    filtered_tokens = [lemmatizer.lemmatize(token) for token in tokens if token not in stop_words and token not in punctuation]\n",
    "    preprocessed_texts.append(filtered_tokens)\n",
    "\n",
    "tokenizer = Tokenizer()\n",
    "tokenizer.fit_on_texts(preprocessed_texts)\n",
    "word_index = tokenizer.word_index\n",
    "sequences = tokenizer.texts_to_sequences(preprocessed_texts)\n",
    "max_sequence_length = 500\n",
    "padded_sequences = pad_sequences(sequences, maxlen=max_sequence_length)\n",
    "\n",
    "label_encoder = LabelEncoder()\n",
    "encoded_classes = label_encoder.fit_transform(classes)\n",
    "num_classes = len(set(classes))\n",
    "one_hot_classes = to_categorical(encoded_classes, num_classes=num_classes)\n",
    "\n",
    "X_train, X_test, y_train, y_test = train_test_split(padded_sequences, one_hot_classes, test_size=0.2, random_state=42)\n",
    "\n",
    "model = Sequential()\n",
    "model.add(Embedding(len(word_index) + 1, 100, input_length=max_sequence_length))\n",
    "model.add(Conv1D(filters=128, kernel_size=5, activation='relu'))\n",
    "model.add(MaxPooling1D(pool_size=5))\n",
    "model.add(Bidirectional(LSTM(128)))\n",
    "model.add(Dense(num_classes, activation='softmax'))\n",
    "model.compile(loss='categorical_crossentropy', optimizer='adam', metrics=['accuracy'])\n",
    "model.fit(X_train, y_train, validation_data=(X_test, y_test), epochs=5, batch_size=128)\n",
    "\n",
    "model2 = Sequential()\n",
    "model2.add(Embedding(len(word_index) + 1, 100, input_length=max_sequence_length))\n",
    "model2.add(LSTM(128))\n",
    "model2.add(Dropout(0.2))\n",
    "model2.add(Dense(num_classes, activation='softmax'))\n",
    "model2.compile(loss='categorical_crossentropy', optimizer='adam', metrics=['accuracy'])\n",
    "model2.fit(X_train, y_train, validation_data=(X_test, y_test), epochs=5, batch_size=128)\n",
    "\n"
   ]
  },
  {
   "cell_type": "code",
   "execution_count": 3,
   "metadata": {
    "colab": {
     "base_uri": "https://localhost:8080/"
    },
    "id": "WCi-9bE5QmJH",
    "outputId": "476e792b-d289-40b0-95f9-38b13576a160"
   },
   "outputs": [
    {
     "name": "stdout",
     "output_type": "stream",
     "text": [
      "74/74 [==============================] - 2s 7ms/step\n",
      "74/74 [==============================] - 1s 7ms/step\n",
      "Combined model accuracy: 0.7617220801364024\n",
      "Classification Report:\n",
      "              precision    recall  f1-score   support\n",
      "\n",
      "        ctrl       0.95      0.94      0.95       214\n",
      "        fair       0.51      0.75      0.60       209\n",
      "         gpt       0.99      1.00      1.00       217\n",
      "        gpt2       0.58      0.62      0.60       213\n",
      "        gpt3       0.48      0.50      0.49       217\n",
      "      grover       0.65      0.64      0.64       222\n",
      "       human       0.81      0.65      0.73       220\n",
      " instructgpt       0.74      0.62      0.68       202\n",
      "        pplm       0.90      0.70      0.79       206\n",
      "         xlm       0.99      0.98      0.98       215\n",
      "       xlnet       0.96      0.98      0.97       211\n",
      "\n",
      "    accuracy                           0.76      2346\n",
      "   macro avg       0.78      0.76      0.77      2346\n",
      "weighted avg       0.78      0.76      0.77      2346\n",
      "\n"
     ]
    }
   ],
   "source": [
    "cnn_lstm_predictions = model.predict(X_test)\n",
    "lstm_rnn_predictions = model2.predict(X_test)\n",
    "\n",
    "combined_predictions = []\n",
    "for i in range(len(cnn_lstm_predictions)):\n",
    "    combined_predictions.append(np.argmax(cnn_lstm_predictions[i] + lstm_rnn_predictions[i]))\n",
    "\n",
    "combined_accuracy = accuracy_score(np.argmax(y_test, axis=1), combined_predictions)\n",
    "print(\"Combined model accuracy:\", combined_accuracy)\n",
    "\n",
    "print(\"Classification Report:\")\n",
    "print(classification_report(np.argmax(y_test, axis=1), combined_predictions,target_names=label_encoder.classes_))"
   ]
  },
  {
   "cell_type": "code",
   "execution_count": 4,
   "metadata": {
    "colab": {
     "base_uri": "https://localhost:8080/",
     "height": 607
    },
    "id": "Mbkt0k6UE3MK",
    "outputId": "357d90fd-6354-414c-9385-c1ff1225137e"
   },
   "outputs": [
    {
     "data": {
      "image/png": "[encoded data removed]",
      "text/plain": [
       "<Figure size 1200x600 with 1 Axes>"
      ]
     },
     "metadata": {},
     "output_type": "display_data"
    }
   ],
   "source": [
    "from sklearn.metrics import precision_recall_fscore_support\n",
    "import numpy as np\n",
    "import matplotlib.pyplot as plt\n",
    "\n",
    "# Calculate precision, recall, and F1-score for each class\n",
    "precision, recall, f1_score, support = precision_recall_fscore_support(np.argmax(y_test, axis=1), combined_predictions)\n",
    "\n",
    "# Get the class labels\n",
    "class_labels = label_encoder.classes_\n",
    "\n",
    "# Plot the results as a bar plot\n",
    "x = np.arange(len(class_labels))\n",
    "width = 0.2\n",
    "\n",
    "fig, ax = plt.subplots(figsize=(12, 6))\n",
    "rects1 = ax.bar(x - width, precision, width, label='Precision')\n",
    "rects2 = ax.bar(x, recall, width, label='Recall')\n",
    "rects3 = ax.bar(x + width, f1_score, width, label='F1-score')\n",
    "\n",
    "# Add some text for labels, title, and custom x-axis tick labels, etc.\n",
    "ax.set_ylabel('Score')\n",
    "ax.set_title('Precision, Recall, and F1-score by Class')\n",
    "ax.set_xticks(x)\n",
    "ax.set_xticklabels(class_labels)\n",
    "ax.legend()\n",
    "\n",
    "fig.tight_layout()\n",
    "\n",
    "plt.show()\n"
   ]
  },
  {
   "cell_type": "code",
   "execution_count": 6,
   "metadata": {
    "colab": {
     "base_uri": "https://localhost:8080/"
    },
    "id": "qXO3jzc05k-h",
    "outputId": "cac3daaf-eb85-4a7b-e658-e3c4c0c33964"
   },
   "outputs": [
    {
     "name": "stderr",
     "output_type": "stream",
     "text": [
      "[nltk_data] Downloading package punkt to /root/nltk_data...\n",
      "[nltk_data]   Package punkt is already up-to-date!\n",
      "[nltk_data] Downloading package stopwords to /root/nltk_data...\n",
      "[nltk_data]   Package stopwords is already up-to-date!\n"
     ]
    },
    {
     "name": "stdout",
     "output_type": "stream",
     "text": [
      "Epoch 1/5\n",
      "37/37 [==============================] - 14s 290ms/step - loss: 1.9376 - accuracy: 0.3161 - val_loss: 1.2843 - val_accuracy: 0.5597\n",
      "Epoch 2/5\n",
      "37/37 [==============================] - 10s 270ms/step - loss: 0.9029 - accuracy: 0.6770 - val_loss: 0.8207 - val_accuracy: 0.7089\n",
      "Epoch 3/5\n",
      "37/37 [==============================] - 10s 280ms/step - loss: 0.4549 - accuracy: 0.8405 - val_loss: 0.8271 - val_accuracy: 0.7242\n",
      "Epoch 4/5\n",
      "37/37 [==============================] - 10s 278ms/step - loss: 0.1928 - accuracy: 0.9405 - val_loss: 0.9113 - val_accuracy: 0.7289\n",
      "Epoch 5/5\n",
      "37/37 [==============================] - 10s 266ms/step - loss: 0.0877 - accuracy: 0.9781 - val_loss: 1.0324 - val_accuracy: 0.7255\n",
      "74/74 [==============================] - 1s 5ms/step\n",
      "              precision    recall  f1-score   support\n",
      "\n",
      "           0       0.89      0.95      0.92       214\n",
      "           1       0.54      0.56      0.55       209\n",
      "           2       0.97      1.00      0.98       217\n",
      "           3       0.54      0.50      0.52       213\n",
      "           4       0.46      0.72      0.56       217\n",
      "           5       0.47      0.58      0.52       222\n",
      "           6       0.90      0.50      0.64       220\n",
      "           7       0.79      0.46      0.58       202\n",
      "           8       0.83      0.77      0.80       206\n",
      "           9       1.00      0.94      0.97       215\n",
      "          10       0.91      0.98      0.94       211\n",
      "\n",
      "    accuracy                           0.73      2346\n",
      "   macro avg       0.75      0.72      0.73      2346\n",
      "weighted avg       0.75      0.73      0.73      2346\n",
      "\n"
     ]
    }
   ],
   "source": [
    "import pandas as pd\n",
    "import numpy as np\n",
    "import nltk\n",
    "from nltk.tokenize import word_tokenize\n",
    "from nltk.corpus import stopwords\n",
    "from nltk.stem import WordNetLemmatizer\n",
    "import string\n",
    "from keras.preprocessing.text import Tokenizer\n",
    "from keras.utils import to_categorical\n",
    "from keras.models import Sequential\n",
    "from keras.layers import Dense, Embedding, Conv1D, MaxPooling1D, LSTM, Dropout, Flatten, Bidirectional\n",
    "from keras.utils import pad_sequences\n",
    "from sklearn.preprocessing import LabelEncoder\n",
    "from sklearn.model_selection import train_test_split\n",
    "from sklearn.metrics import accuracy_score, classification_report\n",
    "\n",
    "\n",
    "# Step 1: Load the data from the CSV file\n",
    "\n",
    "# data = pd.read_csv(\"/Users/charansaisadla/Downloads/input-2.csv\")\n",
    "data = pd.read_csv(data_path+'input.csv')\n",
    "\n",
    "texts = data['text'].tolist()\n",
    "classes = data['class'].tolist()\n",
    "\n",
    "# Step 2: Convert the text data into numerical representations\n",
    "nltk.download('punkt')\n",
    "nltk.download('stopwords')\n",
    "\n",
    "stop_words = set(stopwords.words('english'))\n",
    "lemmatizer = WordNetLemmatizer()\n",
    "\n",
    "tokenized_texts = []\n",
    "for text in texts:\n",
    "    tokens = [lemmatizer.lemmatize(token.lower()) for token in word_tokenize(text) if\n",
    "              token.lower() not in stop_words and token.lower() not in string.punctuation]\n",
    "    tokenized_texts.append(tokens)\n",
    "\n",
    "tokenizer = Tokenizer()\n",
    "tokenizer.fit_on_texts(tokenized_texts)\n",
    "word_index = tokenizer.word_index\n",
    "sequences = tokenizer.texts_to_sequences(tokenized_texts)\n",
    "max_sequence_length = 500\n",
    "padded_sequences = pad_sequences(sequences, maxlen=max_sequence_length)\n",
    "\n",
    "# Step 3: Encode the class labels\n",
    "label_encoder = LabelEncoder()\n",
    "encoded_classes = label_encoder.fit_transform(classes)\n",
    "num_classes = len(label_encoder.classes_)\n",
    "one_hot_classes = to_categorical(encoded_classes, num_classes=num_classes)\n",
    "\n",
    "# Step 4: Split the data into training and testing sets\n",
    "X_train, X_test, y_train, y_test = train_test_split(padded_sequences, one_hot_classes, test_size=0.2, random_state=42)\n",
    "\n",
    "# Step 5: Define and train the CRNN model\n",
    "model = Sequential()\n",
    "model.add(Embedding(len(word_index) + 1, 100, input_length=max_sequence_length))\n",
    "model.add(Conv1D(256, 8, activation='relu'))\n",
    "model.add(MaxPooling1D(pool_size=5))\n",
    "model.add(LSTM(128))\n",
    "model.add(Dense(num_classes, activation='softmax'))\n",
    "model.compile(loss='categorical_crossentropy', optimizer='adam', metrics=['accuracy'])\n",
    "model.fit(X_train, y_train, validation_data=(X_test, y_test), epochs=5, batch_size=256)\n",
    "\n",
    "# Step 6: Evaluate the model on the test set\n",
    "y_pred_prob = model.predict(X_test)\n",
    "y_pred = y_pred_prob.argmax(axis=1)\n",
    "y_test_encoded = y_test.argmax(axis=1)\n",
    "report = classification_report(y_test_encoded, y_pred)\n",
    "print(report)\n"
   ]
  },
  {
   "cell_type": "code",
   "execution_count": 7,
   "metadata": {
    "colab": {
     "base_uri": "https://localhost:8080/"
    },
    "id": "H66CTAXqOFlP",
    "outputId": "99c7a04a-3cd5-49b6-8fa6-e0afaeb50aa0"
   },
   "outputs": [
    {
     "name": "stdout",
     "output_type": "stream",
     "text": [
      "              precision    recall  f1-score   support\n",
      "\n",
      "        ctrl       0.89      0.95      0.92       214\n",
      "        fair       0.54      0.56      0.55       209\n",
      "         gpt       0.97      1.00      0.98       217\n",
      "        gpt2       0.54      0.50      0.52       213\n",
      "        gpt3       0.46      0.72      0.56       217\n",
      "      grover       0.47      0.58      0.52       222\n",
      "       human       0.90      0.50      0.64       220\n",
      " instructgpt       0.79      0.46      0.58       202\n",
      "        pplm       0.83      0.77      0.80       206\n",
      "         xlm       1.00      0.94      0.97       215\n",
      "       xlnet       0.91      0.98      0.94       211\n",
      "\n",
      "    accuracy                           0.73      2346\n",
      "   macro avg       0.75      0.72      0.73      2346\n",
      "weighted avg       0.75      0.73      0.73      2346\n",
      "\n"
     ]
    }
   ],
   "source": [
    "# Step 7: Decode the class labels and generate the classification report\n",
    "decoded_classes = label_encoder.inverse_transform(range(num_classes))\n",
    "report = classification_report(y_test_encoded, y_pred, target_names=decoded_classes)\n",
    "print(report)\n"
   ]
  },
  {
   "cell_type": "code",
   "execution_count": 8,
   "metadata": {
    "colab": {
     "base_uri": "https://localhost:8080/",
     "height": 607
    },
    "id": "UieePoojFTZ3",
    "outputId": "b64110e0-5b07-43c1-83e7-5d19ebd9e985"
   },
   "outputs": [
    {
     "data": {
      "image/png": "[encoded data removed]",
      "text/plain": [
       "<Figure size 1200x600 with 1 Axes>"
      ]
     },
     "metadata": {},
     "output_type": "display_data"
    }
   ],
   "source": [
    "from sklearn.metrics import precision_recall_fscore_support\n",
    "import numpy as np\n",
    "import matplotlib.pyplot as plt\n",
    "\n",
    "# Calculate precision, recall, and F1-score for each class\n",
    "precision, recall, f1_score, support = precision_recall_fscore_support(y_test_encoded, y_pred)\n",
    "\n",
    "# Get the class labels\n",
    "class_labels = label_encoder.classes_\n",
    "\n",
    "# Plot the results as a bar plot\n",
    "x = np.arange(len(class_labels))\n",
    "width = 0.2\n",
    "\n",
    "fig, ax = plt.subplots(figsize=(12,6))\n",
    "rects1 = ax.bar(x - width, precision, width, label='Precision')\n",
    "rects2 = ax.bar(x, recall, width, label='Recall')\n",
    "rects3 = ax.bar(x + width, f1_score, width, label='F1-score')\n",
    "\n",
    "# Add some text for labels, title and custom x-axis tick labels, etc.\n",
    "ax.set_ylabel('Score')\n",
    "ax.set_title('Precision, Recall, and F1-score by Class')\n",
    "ax.set_xticks(x)\n",
    "ax.set_xticklabels(class_labels)\n",
    "ax.legend()\n",
    "\n",
    "fig.tight_layout()\n",
    "\n",
    "plt.show()\n"
   ]
  }
 ],
 "metadata": {
  "accelerator": "GPU",
  "colab": {
   "gpuType": "T4",
   "provenance": []
  },
  "gpuClass": "standard",
  "kernelspec": {
   "display_name": "Python 3",
   "language": "python",
   "name": "python3"
  },
  "language_info": {
   "codemirror_mode": {
    "name": "ipython",
    "version": 3
   },
   "file_extension": ".py",
   "mimetype": "text/x-python",
   "name": "python",
   "nbconvert_exporter": "python",
   "pygments_lexer": "ipython3",
   "version": "3.9.12"
  }
 },
 "nbformat": 4,
 "nbformat_minor": 1
}
