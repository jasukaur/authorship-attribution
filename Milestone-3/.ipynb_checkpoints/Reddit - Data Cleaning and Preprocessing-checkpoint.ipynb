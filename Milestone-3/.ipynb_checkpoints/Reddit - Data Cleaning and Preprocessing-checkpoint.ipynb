{
 "cells": [
  {
   "cell_type": "code",
   "execution_count": 167,
   "metadata": {},
   "outputs": [],
   "source": [
    "import pandas as pd\n",
    "import numpy as np"
   ]
  },
  {
   "cell_type": "markdown",
   "metadata": {},
   "source": [
    "# Load Datasets"
   ]
  },
  {
   "cell_type": "code",
   "execution_count": 220,
   "metadata": {},
   "outputs": [],
   "source": [
    "data_path = '/home/arsh/Jasleen/Spring 2023/NLP/MajorFinalProject/authorship-attribution/data/Reddit data'"
   ]
  },
  {
   "cell_type": "code",
   "execution_count": 221,
   "metadata": {},
   "outputs": [],
   "source": [
    "human = pd.read_csv(data_path + 'complete_reddit_data.csv')\n",
    "gpt3=pd.read_csv(data_path +\"Reddit_Curie_Data.csv\")\n",
    "instructgpt=pd.read_csv(data_path +\"Reddit_InstructGPT_Data.csv\")"
   ]
  },
  {
   "cell_type": "code",
   "execution_count": 222,
   "metadata": {},
   "outputs": [],
   "source": [
    "gpt3=gpt3[['Title','Generation']]\n",
    "instructgpt = instructgpt[['Title','Generation']]"
   ]
  },
  {
   "cell_type": "code",
   "execution_count": 223,
   "metadata": {},
   "outputs": [
    {
     "data": {
      "text/html": [
       "<div>\n",
       "<style scoped>\n",
       "    .dataframe tbody tr th:only-of-type {\n",
       "        vertical-align: middle;\n",
       "    }\n",
       "\n",
       "    .dataframe tbody tr th {\n",
       "        vertical-align: top;\n",
       "    }\n",
       "\n",
       "    .dataframe thead th {\n",
       "        text-align: right;\n",
       "    }\n",
       "</style>\n",
       "<table border=\"1\" class=\"dataframe\">\n",
       "  <thead>\n",
       "    <tr style=\"text-align: right;\">\n",
       "      <th></th>\n",
       "      <th>Title</th>\n",
       "      <th>Generation</th>\n",
       "    </tr>\n",
       "  </thead>\n",
       "  <tbody>\n",
       "    <tr>\n",
       "      <th>0</th>\n",
       "      <td>I know something I'm not supposed to, and it's...</td>\n",
       "      <td>I (20 female) have been best friends with L (2...</td>\n",
       "    </tr>\n",
       "    <tr>\n",
       "      <th>1</th>\n",
       "      <td>Should I admit the truth in my interview?</td>\n",
       "      <td>I recently applied for a job requiring Spanish...</td>\n",
       "    </tr>\n",
       "    <tr>\n",
       "      <th>2</th>\n",
       "      <td>high anxiety with possible brain tumor</td>\n",
       "      <td>My hormones are off and my doctor wants me to ...</td>\n",
       "    </tr>\n",
       "    <tr>\n",
       "      <th>3</th>\n",
       "      <td>My girlfriend was in an attempted rape</td>\n",
       "      <td>Hello, I [22m] am in a relationship with my gi...</td>\n",
       "    </tr>\n",
       "    <tr>\n",
       "      <th>4</th>\n",
       "      <td>Friendship advice needed - Best friend is onli...</td>\n",
       "      <td>We haven't seen each other in 2 years as we ar...</td>\n",
       "    </tr>\n",
       "    <tr>\n",
       "      <th>...</th>\n",
       "      <td>...</td>\n",
       "      <td>...</td>\n",
       "    </tr>\n",
       "    <tr>\n",
       "      <th>658</th>\n",
       "      <td>Is it okay to ask a guy out as a girl?</td>\n",
       "      <td>\\nHad what I thought was a good phone call wit...</td>\n",
       "    </tr>\n",
       "    <tr>\n",
       "      <th>659</th>\n",
       "      <td>Should I [26 M] stay with my GF [26F] of 5 years,</td>\n",
       "      <td>\\n\\nI have been with my girlfriend for over 5...</td>\n",
       "    </tr>\n",
       "    <tr>\n",
       "      <th>660</th>\n",
       "      <td>Does he even like me?</td>\n",
       "      <td>So I 35(f) am engaged to my 35(m) boyfriend of...</td>\n",
       "    </tr>\n",
       "    <tr>\n",
       "      <th>661</th>\n",
       "      <td>Am I (26f) being dramatic for being upset at m...</td>\n",
       "      <td>Please excuse any mistakes I'm dyslexic.  I'm ...</td>\n",
       "    </tr>\n",
       "    <tr>\n",
       "      <th>662</th>\n",
       "      <td>am i (19f) paranoid about 20m guy Im dating?</td>\n",
       "      <td>I've been seeing this dude for summe time now ...</td>\n",
       "    </tr>\n",
       "  </tbody>\n",
       "</table>\n",
       "<p>663 rows × 2 columns</p>\n",
       "</div>"
      ],
      "text/plain": [
       "                                                 Title  \\\n",
       "0    I know something I'm not supposed to, and it's...   \n",
       "1            Should I admit the truth in my interview?   \n",
       "2               high anxiety with possible brain tumor   \n",
       "3               My girlfriend was in an attempted rape   \n",
       "4    Friendship advice needed - Best friend is onli...   \n",
       "..                                                 ...   \n",
       "658             Is it okay to ask a guy out as a girl?   \n",
       "659  Should I [26 M] stay with my GF [26F] of 5 years,   \n",
       "660                              Does he even like me?   \n",
       "661  Am I (26f) being dramatic for being upset at m...   \n",
       "662       am i (19f) paranoid about 20m guy Im dating?   \n",
       "\n",
       "                                            Generation  \n",
       "0    I (20 female) have been best friends with L (2...  \n",
       "1    I recently applied for a job requiring Spanish...  \n",
       "2    My hormones are off and my doctor wants me to ...  \n",
       "3    Hello, I [22m] am in a relationship with my gi...  \n",
       "4    We haven't seen each other in 2 years as we ar...  \n",
       "..                                                 ...  \n",
       "658  \\nHad what I thought was a good phone call wit...  \n",
       "659   \\n\\nI have been with my girlfriend for over 5...  \n",
       "660  So I 35(f) am engaged to my 35(m) boyfriend of...  \n",
       "661  Please excuse any mistakes I'm dyslexic.  I'm ...  \n",
       "662  I've been seeing this dude for summe time now ...  \n",
       "\n",
       "[663 rows x 2 columns]"
      ]
     },
     "execution_count": 223,
     "metadata": {},
     "output_type": "execute_result"
    }
   ],
   "source": [
    "human = human[['Title','Generation']]\n",
    "human"
   ]
  },
  {
   "cell_type": "code",
   "execution_count": 224,
   "metadata": {},
   "outputs": [
    {
     "data": {
      "text/html": [
       "<div>\n",
       "<style scoped>\n",
       "    .dataframe tbody tr th:only-of-type {\n",
       "        vertical-align: middle;\n",
       "    }\n",
       "\n",
       "    .dataframe tbody tr th {\n",
       "        vertical-align: top;\n",
       "    }\n",
       "\n",
       "    .dataframe thead th {\n",
       "        text-align: right;\n",
       "    }\n",
       "</style>\n",
       "<table border=\"1\" class=\"dataframe\">\n",
       "  <thead>\n",
       "    <tr style=\"text-align: right;\">\n",
       "      <th></th>\n",
       "      <th>Title</th>\n",
       "      <th>Generation</th>\n",
       "    </tr>\n",
       "  </thead>\n",
       "  <tbody>\n",
       "    <tr>\n",
       "      <th>0</th>\n",
       "      <td>I know something I'm not supposed to, and it's...</td>\n",
       "      <td>I (20 female) have been best friends with L (2...</td>\n",
       "    </tr>\n",
       "    <tr>\n",
       "      <th>1</th>\n",
       "      <td>Should I admit the truth in my interview?</td>\n",
       "      <td>I recently applied for a job requiring Spanish...</td>\n",
       "    </tr>\n",
       "    <tr>\n",
       "      <th>2</th>\n",
       "      <td>high anxiety with possible brain tumor</td>\n",
       "      <td>My hormones are off and my doctor wants me to ...</td>\n",
       "    </tr>\n",
       "    <tr>\n",
       "      <th>3</th>\n",
       "      <td>My girlfriend was in an attempted rape</td>\n",
       "      <td>Hello, I [22m] am in a relationship with my gi...</td>\n",
       "    </tr>\n",
       "    <tr>\n",
       "      <th>4</th>\n",
       "      <td>Friendship advice needed - Best friend is onli...</td>\n",
       "      <td>We haven't seen each other in 2 years as we ar...</td>\n",
       "    </tr>\n",
       "    <tr>\n",
       "      <th>...</th>\n",
       "      <td>...</td>\n",
       "      <td>...</td>\n",
       "    </tr>\n",
       "    <tr>\n",
       "      <th>658</th>\n",
       "      <td>Is it okay to ask a guy out as a girl?</td>\n",
       "      <td>\\nHad what I thought was a good phone call wit...</td>\n",
       "    </tr>\n",
       "    <tr>\n",
       "      <th>659</th>\n",
       "      <td>Should I [26 M] stay with my GF [26F] of 5 years,</td>\n",
       "      <td>\\n\\nI have been with my girlfriend for over 5...</td>\n",
       "    </tr>\n",
       "    <tr>\n",
       "      <th>660</th>\n",
       "      <td>Does he even like me?</td>\n",
       "      <td>So I 35(f) am engaged to my 35(m) boyfriend of...</td>\n",
       "    </tr>\n",
       "    <tr>\n",
       "      <th>661</th>\n",
       "      <td>Am I (26f) being dramatic for being upset at m...</td>\n",
       "      <td>Please excuse any mistakes I'm dyslexic.  I'm ...</td>\n",
       "    </tr>\n",
       "    <tr>\n",
       "      <th>662</th>\n",
       "      <td>am i (19f) paranoid about 20m guy Im dating?</td>\n",
       "      <td>I've been seeing this dude for summe time now ...</td>\n",
       "    </tr>\n",
       "  </tbody>\n",
       "</table>\n",
       "<p>652 rows × 2 columns</p>\n",
       "</div>"
      ],
      "text/plain": [
       "                                                 Title  \\\n",
       "0    I know something I'm not supposed to, and it's...   \n",
       "1            Should I admit the truth in my interview?   \n",
       "2               high anxiety with possible brain tumor   \n",
       "3               My girlfriend was in an attempted rape   \n",
       "4    Friendship advice needed - Best friend is onli...   \n",
       "..                                                 ...   \n",
       "658             Is it okay to ask a guy out as a girl?   \n",
       "659  Should I [26 M] stay with my GF [26F] of 5 years,   \n",
       "660                              Does he even like me?   \n",
       "661  Am I (26f) being dramatic for being upset at m...   \n",
       "662       am i (19f) paranoid about 20m guy Im dating?   \n",
       "\n",
       "                                            Generation  \n",
       "0    I (20 female) have been best friends with L (2...  \n",
       "1    I recently applied for a job requiring Spanish...  \n",
       "2    My hormones are off and my doctor wants me to ...  \n",
       "3    Hello, I [22m] am in a relationship with my gi...  \n",
       "4    We haven't seen each other in 2 years as we ar...  \n",
       "..                                                 ...  \n",
       "658  \\nHad what I thought was a good phone call wit...  \n",
       "659   \\n\\nI have been with my girlfriend for over 5...  \n",
       "660  So I 35(f) am engaged to my 35(m) boyfriend of...  \n",
       "661  Please excuse any mistakes I'm dyslexic.  I'm ...  \n",
       "662  I've been seeing this dude for summe time now ...  \n",
       "\n",
       "[652 rows x 2 columns]"
      ]
     },
     "execution_count": 224,
     "metadata": {},
     "output_type": "execute_result"
    }
   ],
   "source": [
    "human.dropna(inplace=True)\n",
    "human"
   ]
  },
  {
   "cell_type": "code",
   "execution_count": 225,
   "metadata": {},
   "outputs": [
    {
     "data": {
      "text/html": [
       "<div>\n",
       "<style scoped>\n",
       "    .dataframe tbody tr th:only-of-type {\n",
       "        vertical-align: middle;\n",
       "    }\n",
       "\n",
       "    .dataframe tbody tr th {\n",
       "        vertical-align: top;\n",
       "    }\n",
       "\n",
       "    .dataframe thead th {\n",
       "        text-align: right;\n",
       "    }\n",
       "</style>\n",
       "<table border=\"1\" class=\"dataframe\">\n",
       "  <thead>\n",
       "    <tr style=\"text-align: right;\">\n",
       "      <th></th>\n",
       "      <th>Generation</th>\n",
       "    </tr>\n",
       "  </thead>\n",
       "  <tbody>\n",
       "    <tr>\n",
       "      <th>0</th>\n",
       "      <td>I know something I'm not supposed to, and it's...</td>\n",
       "    </tr>\n",
       "    <tr>\n",
       "      <th>1</th>\n",
       "      <td>Should I admit the truth in my interview?I rec...</td>\n",
       "    </tr>\n",
       "    <tr>\n",
       "      <th>2</th>\n",
       "      <td>high anxiety with possible brain tumorMy hormo...</td>\n",
       "    </tr>\n",
       "    <tr>\n",
       "      <th>3</th>\n",
       "      <td>My girlfriend was in an attempted rapeHello, I...</td>\n",
       "    </tr>\n",
       "    <tr>\n",
       "      <th>4</th>\n",
       "      <td>Friendship advice needed - Best friend is onli...</td>\n",
       "    </tr>\n",
       "  </tbody>\n",
       "</table>\n",
       "</div>"
      ],
      "text/plain": [
       "                                          Generation\n",
       "0  I know something I'm not supposed to, and it's...\n",
       "1  Should I admit the truth in my interview?I rec...\n",
       "2  high anxiety with possible brain tumorMy hormo...\n",
       "3  My girlfriend was in an attempted rapeHello, I...\n",
       "4  Friendship advice needed - Best friend is onli..."
      ]
     },
     "execution_count": 225,
     "metadata": {},
     "output_type": "execute_result"
    }
   ],
   "source": [
    "# human = human['Title']\n",
    "# human = pd.DataFrame({'Generation': list(human)})\n",
    "\n",
    "human['Title'] = human['Title'] + human['Generation']\n",
    "human = human['Title']\n",
    "human = pd.DataFrame({'Generation': list(human)})\n",
    "\n",
    "human.head()"
   ]
  },
  {
   "cell_type": "code",
   "execution_count": 226,
   "metadata": {},
   "outputs": [
    {
     "data": {
      "text/html": [
       "<div>\n",
       "<style scoped>\n",
       "    .dataframe tbody tr th:only-of-type {\n",
       "        vertical-align: middle;\n",
       "    }\n",
       "\n",
       "    .dataframe tbody tr th {\n",
       "        vertical-align: top;\n",
       "    }\n",
       "\n",
       "    .dataframe thead th {\n",
       "        text-align: right;\n",
       "    }\n",
       "</style>\n",
       "<table border=\"1\" class=\"dataframe\">\n",
       "  <thead>\n",
       "    <tr style=\"text-align: right;\">\n",
       "      <th></th>\n",
       "      <th>Generation</th>\n",
       "    </tr>\n",
       "  </thead>\n",
       "  <tbody>\n",
       "    <tr>\n",
       "      <th>0</th>\n",
       "      <td>I know something I'm not supposed to, and it's...</td>\n",
       "    </tr>\n",
       "    <tr>\n",
       "      <th>1</th>\n",
       "      <td>Should I admit the truth in my interview?['The...</td>\n",
       "    </tr>\n",
       "    <tr>\n",
       "      <th>2</th>\n",
       "      <td>high anxiety with possible brain tumor['Anxiet...</td>\n",
       "    </tr>\n",
       "    <tr>\n",
       "      <th>3</th>\n",
       "      <td>My girlfriend was in an attempted rape['Unfort...</td>\n",
       "    </tr>\n",
       "    <tr>\n",
       "      <th>4</th>\n",
       "      <td>Friendship advice needed - Best friend is onli...</td>\n",
       "    </tr>\n",
       "    <tr>\n",
       "      <th>...</th>\n",
       "      <td>...</td>\n",
       "    </tr>\n",
       "    <tr>\n",
       "      <th>658</th>\n",
       "      <td>Is it okay to ask a guy out as a girl?['There'...</td>\n",
       "    </tr>\n",
       "    <tr>\n",
       "      <th>659</th>\n",
       "      <td>Should I [26 M] stay with my GF [26F] of 5 yea...</td>\n",
       "    </tr>\n",
       "    <tr>\n",
       "      <th>660</th>\n",
       "      <td>Does he even like me?['That is an important qu...</td>\n",
       "    </tr>\n",
       "    <tr>\n",
       "      <th>661</th>\n",
       "      <td>Am I (26f) being dramatic for being upset at m...</td>\n",
       "    </tr>\n",
       "    <tr>\n",
       "      <th>662</th>\n",
       "      <td>am i (19f) paranoid about 20m guy Im dating?['...</td>\n",
       "    </tr>\n",
       "  </tbody>\n",
       "</table>\n",
       "<p>663 rows × 1 columns</p>\n",
       "</div>"
      ],
      "text/plain": [
       "                                            Generation\n",
       "0    I know something I'm not supposed to, and it's...\n",
       "1    Should I admit the truth in my interview?['The...\n",
       "2    high anxiety with possible brain tumor['Anxiet...\n",
       "3    My girlfriend was in an attempted rape['Unfort...\n",
       "4    Friendship advice needed - Best friend is onli...\n",
       "..                                                 ...\n",
       "658  Is it okay to ask a guy out as a girl?['There'...\n",
       "659  Should I [26 M] stay with my GF [26F] of 5 yea...\n",
       "660  Does he even like me?['That is an important qu...\n",
       "661  Am I (26f) being dramatic for being upset at m...\n",
       "662  am i (19f) paranoid about 20m guy Im dating?['...\n",
       "\n",
       "[663 rows x 1 columns]"
      ]
     },
     "execution_count": 226,
     "metadata": {},
     "output_type": "execute_result"
    }
   ],
   "source": [
    "gpt3['Generation'] = gpt3['Title'] + gpt3['Generation']\n",
    "gpt3 = gpt3[['Generation']]\n",
    "gpt3"
   ]
  },
  {
   "cell_type": "code",
   "execution_count": 227,
   "metadata": {},
   "outputs": [
    {
     "data": {
      "text/html": [
       "<div>\n",
       "<style scoped>\n",
       "    .dataframe tbody tr th:only-of-type {\n",
       "        vertical-align: middle;\n",
       "    }\n",
       "\n",
       "    .dataframe tbody tr th {\n",
       "        vertical-align: top;\n",
       "    }\n",
       "\n",
       "    .dataframe thead th {\n",
       "        text-align: right;\n",
       "    }\n",
       "</style>\n",
       "<table border=\"1\" class=\"dataframe\">\n",
       "  <thead>\n",
       "    <tr style=\"text-align: right;\">\n",
       "      <th></th>\n",
       "      <th>Generation</th>\n",
       "    </tr>\n",
       "  </thead>\n",
       "  <tbody>\n",
       "    <tr>\n",
       "      <th>0</th>\n",
       "      <td>Should I admit the truth in my interview?['No....</td>\n",
       "    </tr>\n",
       "    <tr>\n",
       "      <th>1</th>\n",
       "      <td>high anxiety with possible brain tumor['If you...</td>\n",
       "    </tr>\n",
       "    <tr>\n",
       "      <th>2</th>\n",
       "      <td>My girlfriend was in an attempted rape['I'm so...</td>\n",
       "    </tr>\n",
       "    <tr>\n",
       "      <th>3</th>\n",
       "      <td>Friendship advice needed - Best friend is onli...</td>\n",
       "    </tr>\n",
       "    <tr>\n",
       "      <th>4</th>\n",
       "      <td>i was playing football with my sibs in the liv...</td>\n",
       "    </tr>\n",
       "    <tr>\n",
       "      <th>...</th>\n",
       "      <td>...</td>\n",
       "    </tr>\n",
       "    <tr>\n",
       "      <th>556</th>\n",
       "      <td>Is it okay to ask a guy out as a girl?['Yes, i...</td>\n",
       "    </tr>\n",
       "    <tr>\n",
       "      <th>557</th>\n",
       "      <td>Should I [26 M] stay with my GF [26F] of 5 yea...</td>\n",
       "    </tr>\n",
       "    <tr>\n",
       "      <th>558</th>\n",
       "      <td>Does he even like me?['It is impossible to ans...</td>\n",
       "    </tr>\n",
       "    <tr>\n",
       "      <th>559</th>\n",
       "      <td>Am I (26f) being dramatic for being upset at m...</td>\n",
       "    </tr>\n",
       "    <tr>\n",
       "      <th>560</th>\n",
       "      <td>am i (19f) paranoid about 20m guy Im dating?['...</td>\n",
       "    </tr>\n",
       "  </tbody>\n",
       "</table>\n",
       "<p>561 rows × 1 columns</p>\n",
       "</div>"
      ],
      "text/plain": [
       "                                            Generation\n",
       "0    Should I admit the truth in my interview?['No....\n",
       "1    high anxiety with possible brain tumor['If you...\n",
       "2    My girlfriend was in an attempted rape['I'm so...\n",
       "3    Friendship advice needed - Best friend is onli...\n",
       "4    i was playing football with my sibs in the liv...\n",
       "..                                                 ...\n",
       "556  Is it okay to ask a guy out as a girl?['Yes, i...\n",
       "557  Should I [26 M] stay with my GF [26F] of 5 yea...\n",
       "558  Does he even like me?['It is impossible to ans...\n",
       "559  Am I (26f) being dramatic for being upset at m...\n",
       "560  am i (19f) paranoid about 20m guy Im dating?['...\n",
       "\n",
       "[561 rows x 1 columns]"
      ]
     },
     "execution_count": 227,
     "metadata": {},
     "output_type": "execute_result"
    }
   ],
   "source": [
    "instructgpt['Generation'] = instructgpt['Title'] + instructgpt['Generation']\n",
    "instructgpt = instructgpt[['Generation']]\n",
    "instructgpt"
   ]
  },
  {
   "cell_type": "code",
   "execution_count": 228,
   "metadata": {},
   "outputs": [],
   "source": [
    "gpt3['label'] ='gpt3'\n",
    "instructgpt['label'] = 'instructgpt'\n",
    "\n",
    "human['label'] = 'human'"
   ]
  },
  {
   "cell_type": "code",
   "execution_count": 219,
   "metadata": {},
   "outputs": [
    {
     "data": {
      "text/plain": [
       "Title         0\n",
       "Generation    0\n",
       "dtype: int64"
      ]
     },
     "execution_count": 219,
     "metadata": {},
     "output_type": "execute_result"
    }
   ],
   "source": [
    "instructgpt.isna().sum()"
   ]
  },
  {
   "cell_type": "markdown",
   "metadata": {},
   "source": [
    "# Data Preparation and Cleaning "
   ]
  },
  {
   "cell_type": "code",
   "execution_count": 229,
   "metadata": {},
   "outputs": [],
   "source": [
    "import neattext as nt\n",
    "import neattext.functions as nfx"
   ]
  },
  {
   "cell_type": "code",
   "execution_count": 230,
   "metadata": {},
   "outputs": [],
   "source": [
    "import neattext.functions as nfx\n",
    "import pandas as pd\n",
    "\n",
    "\n",
    "def clean_individual_texts(data):\n",
    "    cleaned_texts = []\n",
    "    for text in data['Generation']:\n",
    "        if isinstance(text, str):\n",
    "            # apply preprocessing steps\n",
    "            text = nfx.remove_special_characters(text)\n",
    "            text = nfx.remove_punctuations(text)\n",
    "            text = nfx.remove_emojis(text)\n",
    "            text = nfx.remove_html_tags(text)\n",
    "            text = text.lower()\n",
    "        \n",
    "        cleaned_texts.append(text)\n",
    "\n",
    "    return pd.DataFrame({'Generation': cleaned_texts})\n",
    "\n"
   ]
  },
  {
   "cell_type": "code",
   "execution_count": 231,
   "metadata": {},
   "outputs": [],
   "source": [
    "import json "
   ]
  },
  {
   "cell_type": "code",
   "execution_count": 232,
   "metadata": {},
   "outputs": [
    {
     "data": {
      "text/html": [
       "<div>\n",
       "<style scoped>\n",
       "    .dataframe tbody tr th:only-of-type {\n",
       "        vertical-align: middle;\n",
       "    }\n",
       "\n",
       "    .dataframe tbody tr th {\n",
       "        vertical-align: top;\n",
       "    }\n",
       "\n",
       "    .dataframe thead th {\n",
       "        text-align: right;\n",
       "    }\n",
       "</style>\n",
       "<table border=\"1\" class=\"dataframe\">\n",
       "  <thead>\n",
       "    <tr style=\"text-align: right;\">\n",
       "      <th></th>\n",
       "      <th>Generation</th>\n",
       "      <th>label</th>\n",
       "    </tr>\n",
       "  </thead>\n",
       "  <tbody>\n",
       "    <tr>\n",
       "      <th>0</th>\n",
       "      <td>I know something I'm not supposed to, and it's...</td>\n",
       "      <td>human</td>\n",
       "    </tr>\n",
       "    <tr>\n",
       "      <th>1</th>\n",
       "      <td>Should I admit the truth in my interview?I rec...</td>\n",
       "      <td>human</td>\n",
       "    </tr>\n",
       "    <tr>\n",
       "      <th>2</th>\n",
       "      <td>high anxiety with possible brain tumorMy hormo...</td>\n",
       "      <td>human</td>\n",
       "    </tr>\n",
       "    <tr>\n",
       "      <th>3</th>\n",
       "      <td>My girlfriend was in an attempted rapeHello, I...</td>\n",
       "      <td>human</td>\n",
       "    </tr>\n",
       "    <tr>\n",
       "      <th>4</th>\n",
       "      <td>Friendship advice needed - Best friend is onli...</td>\n",
       "      <td>human</td>\n",
       "    </tr>\n",
       "    <tr>\n",
       "      <th>...</th>\n",
       "      <td>...</td>\n",
       "      <td>...</td>\n",
       "    </tr>\n",
       "    <tr>\n",
       "      <th>647</th>\n",
       "      <td>Is it okay to ask a guy out as a girl?\\nHad wh...</td>\n",
       "      <td>human</td>\n",
       "    </tr>\n",
       "    <tr>\n",
       "      <th>648</th>\n",
       "      <td>Should I [26 M] stay with my GF [26F] of 5 yea...</td>\n",
       "      <td>human</td>\n",
       "    </tr>\n",
       "    <tr>\n",
       "      <th>649</th>\n",
       "      <td>Does he even like me?So I 35(f) am engaged to ...</td>\n",
       "      <td>human</td>\n",
       "    </tr>\n",
       "    <tr>\n",
       "      <th>650</th>\n",
       "      <td>Am I (26f) being dramatic for being upset at m...</td>\n",
       "      <td>human</td>\n",
       "    </tr>\n",
       "    <tr>\n",
       "      <th>651</th>\n",
       "      <td>am i (19f) paranoid about 20m guy Im dating?I'...</td>\n",
       "      <td>human</td>\n",
       "    </tr>\n",
       "  </tbody>\n",
       "</table>\n",
       "<p>652 rows × 2 columns</p>\n",
       "</div>"
      ],
      "text/plain": [
       "                                            Generation  label\n",
       "0    I know something I'm not supposed to, and it's...  human\n",
       "1    Should I admit the truth in my interview?I rec...  human\n",
       "2    high anxiety with possible brain tumorMy hormo...  human\n",
       "3    My girlfriend was in an attempted rapeHello, I...  human\n",
       "4    Friendship advice needed - Best friend is onli...  human\n",
       "..                                                 ...    ...\n",
       "647  Is it okay to ask a guy out as a girl?\\nHad wh...  human\n",
       "648  Should I [26 M] stay with my GF [26F] of 5 yea...  human\n",
       "649  Does he even like me?So I 35(f) am engaged to ...  human\n",
       "650  Am I (26f) being dramatic for being upset at m...  human\n",
       "651  am i (19f) paranoid about 20m guy Im dating?I'...  human\n",
       "\n",
       "[652 rows x 2 columns]"
      ]
     },
     "execution_count": 232,
     "metadata": {},
     "output_type": "execute_result"
    }
   ],
   "source": [
    "human"
   ]
  },
  {
   "cell_type": "code",
   "execution_count": 233,
   "metadata": {},
   "outputs": [],
   "source": [
    "gpt3['Generation']=clean_individual_texts(gpt3)\n",
    "instructgpt['Generation'] = clean_individual_texts(instructgpt)"
   ]
  },
  {
   "cell_type": "code",
   "execution_count": 234,
   "metadata": {},
   "outputs": [],
   "source": [
    "human['Generation'] = clean_individual_texts(human)\n"
   ]
  },
  {
   "cell_type": "code",
   "execution_count": 236,
   "metadata": {},
   "outputs": [
    {
     "data": {
      "text/plain": [
       "'guys me and my gf ldr are on a break im going to her city should i celebrate her birthday like i did it last timewe took break cause she wanted space but we decided well talk and chat sometimes she told me shell meet me but i wanted to do something big for her birthday i dont know if i should do that also last time we went outside and went to my place to cut cake and all  should i kiss her and check if shes into romance or not'"
      ]
     },
     "execution_count": 236,
     "metadata": {},
     "output_type": "execute_result"
    }
   ],
   "source": [
    "human['Generation'][12]"
   ]
  },
  {
   "cell_type": "code",
   "execution_count": 194,
   "metadata": {},
   "outputs": [
    {
     "data": {
      "text/plain": [
       "'am i 100 to blame my fiancee left 2 weeks ago 3 days before she left we had sex i could tell something was off during and i looked her in the face and asked are you ok do you want to stop am i hurting you she said no keep going im fine after it was over she was upset and said i didnt tell you because i didnt want you to stop  if you are 100 to blame then you likely did something that caused your fiancee to become upset and leave if you are not 100 to blame then you likely looked out for your fiancee and asked if she was okay before continuingt want to do that  the fact that you asked if she was okay and she said no keep going suggests that you are not 100 to blame for what happened if she didnt want to have sex she should have said sot know you were going to do that i said im sorry i shouldnt have done that i was just going along with what you wanted she then said im outta here i shouldnt have done that  this is a difficult question to answer it sounds like you are both partly to blame if you had asked your fiancee if she was okay before you had sex it is possible that she would have said no if you had been more aware of how she was feeling you may have been able to avoid this situationt want to do that  in this situation it is tough to know who is 100 to blame it could be argued that the man is partially to blame because he did not stop when he should have however it is also possible that the woman did not want to have sex and was not honest with her partner in the end the responsibility falls on both parties and it is difficult to know who is really at fault'"
      ]
     },
     "execution_count": 194,
     "metadata": {},
     "output_type": "execute_result"
    }
   ],
   "source": [
    "gpt3['Generation'][12]"
   ]
  },
  {
   "cell_type": "code",
   "execution_count": 196,
   "metadata": {},
   "outputs": [
    {
     "data": {
      "text/plain": [
       "'feeling resentment towards a friend but still want to help them helpone solution might be to offer to do something for the friend that you really resent like helping them with a chore or picking up groceries for them this can help to show that you are still interested in helping them even if you dont feel resentful towards them  the best way to approach this is to try and understand why the person is feeling resentment if the resentment is rooted in a personal issue then it is likely that the friend is not able to take constructive criticism or feedback well try to be sensitive to this and offer your support in a way that does not involve attacking or criticizing the friend you could try giving them constructive feedback in a private conversation or reaching out to them to offer condolences or support  one possible solution would be to offer to help out with errands or chauffeuring or to provide constructive feedback on their work it may also be helpful to communicate your feelings indirectly by offering to help out with something unrelated that your friend is currently struggling with ultimately it is important to focus on maintaining a supportive relationship with your friend even when resentment is present'"
      ]
     },
     "execution_count": 196,
     "metadata": {},
     "output_type": "execute_result"
    }
   ],
   "source": [
    "gpt3['Generation'][10]"
   ]
  },
  {
   "cell_type": "code",
   "execution_count": 237,
   "metadata": {},
   "outputs": [],
   "source": [
    "from nltk import tokenize\n",
    "from nltk.tokenize import word_tokenize"
   ]
  },
  {
   "cell_type": "code",
   "execution_count": 238,
   "metadata": {},
   "outputs": [
    {
     "name": "stderr",
     "output_type": "stream",
     "text": [
      "[nltk_data] Downloading package punkt to /home/arsh/nltk_data...\n",
      "[nltk_data]   Package punkt is already up-to-date!\n"
     ]
    },
    {
     "data": {
      "text/plain": [
       "True"
      ]
     },
     "execution_count": 238,
     "metadata": {},
     "output_type": "execute_result"
    }
   ],
   "source": [
    "import nltk\n",
    "nltk.download('punkt')"
   ]
  },
  {
   "cell_type": "code",
   "execution_count": 239,
   "metadata": {},
   "outputs": [],
   "source": [
    "def stat(data):\n",
    "    word = []\n",
    "    sent = []\n",
    "    \n",
    "    for i in data:\n",
    "        word.append(len(word_tokenize(i)))\n",
    "        sent.append(len(tokenize.sent_tokenize(i)))\n",
    "        \n",
    "    final_list = [x for x in word if (x > np.mean(word) - 2 * np.std(word))]\n",
    "    new_word = [x for x in final_list if (x < np.mean(word) + 2 * np.std(word))]\n",
    "    \n",
    "    final_list = [x for x in sent if (x > np.mean(sent) - 2 * np.std(sent))]\n",
    "    new_sent = [x for x in final_list if (x < np.mean(sent) + 2 * np.std(sent))]\n",
    "        \n",
    "    return pd.DataFrame({'Avg_word': np.mean(new_word), \n",
    "                         'SD_word': np.std(new_word),\n",
    "                         'Avg_sent': np.mean(new_sent),\n",
    "                         'SD_sent': np.std(new_sent)}, index=[0])\n",
    "        "
   ]
  },
  {
   "cell_type": "code",
   "execution_count": 240,
   "metadata": {},
   "outputs": [
    {
     "name": "stderr",
     "output_type": "stream",
     "text": [
      "/home/arsh/anaconda3/lib/python3.9/site-packages/numpy/core/fromnumeric.py:3440: RuntimeWarning: Mean of empty slice.\n",
      "  return _methods._mean(a, axis=axis, dtype=dtype,\n",
      "/home/arsh/anaconda3/lib/python3.9/site-packages/numpy/core/_methods.py:189: RuntimeWarning: invalid value encountered in double_scalars\n",
      "  ret = ret.dtype.type(ret / rcount)\n",
      "/home/arsh/anaconda3/lib/python3.9/site-packages/numpy/core/_methods.py:262: RuntimeWarning: Degrees of freedom <= 0 for slice\n",
      "  ret = _var(a, axis=axis, dtype=dtype, out=out, ddof=ddof,\n",
      "/home/arsh/anaconda3/lib/python3.9/site-packages/numpy/core/_methods.py:222: RuntimeWarning: invalid value encountered in true_divide\n",
      "  arrmean = um.true_divide(arrmean, div, out=arrmean, casting='unsafe',\n",
      "/home/arsh/anaconda3/lib/python3.9/site-packages/numpy/core/_methods.py:254: RuntimeWarning: invalid value encountered in double_scalars\n",
      "  ret = ret.dtype.type(ret / rcount)\n"
     ]
    }
   ],
   "source": [
    "\n",
    "human_stat = stat(human['Generation'])\n"
   ]
  },
  {
   "cell_type": "code",
   "execution_count": 241,
   "metadata": {},
   "outputs": [],
   "source": [
    "human.to_csv(data_path + 'reddit_new_human.csv')\n",
    "gpt3.to_csv(data_path + 'reddit_new_gpt3.csv')\n",
    "instructgpt.to_csv(data_path + 'reddit_new_instructgpt.csv')"
   ]
  },
  {
   "cell_type": "markdown",
   "metadata": {},
   "source": [
    "# combined datasets "
   ]
  },
  {
   "cell_type": "code",
   "execution_count": 242,
   "metadata": {},
   "outputs": [],
   "source": [
    "generate = pd.concat([human,gpt3, instructgpt])"
   ]
  },
  {
   "cell_type": "code",
   "execution_count": 244,
   "metadata": {},
   "outputs": [
    {
     "data": {
      "text/plain": [
       "'religion was created by humans to make sense of the unknown and unexplainable it is a way to organize emotions and beliefs around a shared set of beliefs in order to create social order religion is not a fact it is a story  this is not a fact there are many religions that have existed for thousands of years that do not rely on humans to make sense of the unknown and unexplainable  this is a misconception religion predates humanity by millions of years religion has been used to make sense of the unknown and unexplainable since the beginning of time  false religion is an intrinsic part of human culture and society it has served as a means of communication organization and social cohesion for humanity for centuries  while there is some truth to this statement it ignores the role that religion has had in both helping people cope with difficult life experiences and uplifting them in times of happiness religion has also been a source of community and support for people across cultures and generations  many people would say that religion is necessary to make sense of the unknown and unexplainable religion has been around for awhile and it has been used to explain a lot of different things for example people might say that religion is used to explain things like why the world is round why evil exists and why there is a heaven and a hell religion can also be used to help people cope with difficult life situations'"
      ]
     },
     "execution_count": 244,
     "metadata": {},
     "output_type": "execute_result"
    }
   ],
   "source": [
    "list(generate['Generation'])[1050]"
   ]
  },
  {
   "cell_type": "code",
   "execution_count": 245,
   "metadata": {},
   "outputs": [
    {
     "data": {
      "text/plain": [
       "array(['human', 'gpt3', 'instructgpt'], dtype=object)"
      ]
     },
     "execution_count": 245,
     "metadata": {},
     "output_type": "execute_result"
    }
   ],
   "source": [
    "generate['label'].unique()"
   ]
  },
  {
   "cell_type": "code",
   "execution_count": 246,
   "metadata": {},
   "outputs": [
    {
     "data": {
      "text/html": [
       "<div>\n",
       "<style scoped>\n",
       "    .dataframe tbody tr th:only-of-type {\n",
       "        vertical-align: middle;\n",
       "    }\n",
       "\n",
       "    .dataframe tbody tr th {\n",
       "        vertical-align: top;\n",
       "    }\n",
       "\n",
       "    .dataframe thead th {\n",
       "        text-align: right;\n",
       "    }\n",
       "</style>\n",
       "<table border=\"1\" class=\"dataframe\">\n",
       "  <thead>\n",
       "    <tr style=\"text-align: right;\">\n",
       "      <th></th>\n",
       "      <th>Generation</th>\n",
       "      <th>label</th>\n",
       "    </tr>\n",
       "  </thead>\n",
       "  <tbody>\n",
       "    <tr>\n",
       "      <th>0</th>\n",
       "      <td>i know something im not supposed to and its br...</td>\n",
       "      <td>human</td>\n",
       "    </tr>\n",
       "    <tr>\n",
       "      <th>1</th>\n",
       "      <td>should i admit the truth in my interviewi rece...</td>\n",
       "      <td>human</td>\n",
       "    </tr>\n",
       "    <tr>\n",
       "      <th>2</th>\n",
       "      <td>high anxiety with possible brain tumormy hormo...</td>\n",
       "      <td>human</td>\n",
       "    </tr>\n",
       "    <tr>\n",
       "      <th>3</th>\n",
       "      <td>my girlfriend was in an attempted rapehello i ...</td>\n",
       "      <td>human</td>\n",
       "    </tr>\n",
       "    <tr>\n",
       "      <th>4</th>\n",
       "      <td>friendship advice needed  best friend is onlin...</td>\n",
       "      <td>human</td>\n",
       "    </tr>\n",
       "    <tr>\n",
       "      <th>...</th>\n",
       "      <td>...</td>\n",
       "      <td>...</td>\n",
       "    </tr>\n",
       "    <tr>\n",
       "      <th>556</th>\n",
       "      <td>is it okay to ask a guy out as a girlyes it is...</td>\n",
       "      <td>instructgpt</td>\n",
       "    </tr>\n",
       "    <tr>\n",
       "      <th>557</th>\n",
       "      <td>should i 26 m stay with my gf 26f of 5 yearswh...</td>\n",
       "      <td>instructgpt</td>\n",
       "    </tr>\n",
       "    <tr>\n",
       "      <th>558</th>\n",
       "      <td>does he even like meit is impossible to answer...</td>\n",
       "      <td>instructgpt</td>\n",
       "    </tr>\n",
       "    <tr>\n",
       "      <th>559</th>\n",
       "      <td>am i 26f being dramatic for being upset at my ...</td>\n",
       "      <td>instructgpt</td>\n",
       "    </tr>\n",
       "    <tr>\n",
       "      <th>560</th>\n",
       "      <td>am i 19f paranoid about 20m guy im datingno on...</td>\n",
       "      <td>instructgpt</td>\n",
       "    </tr>\n",
       "  </tbody>\n",
       "</table>\n",
       "<p>1876 rows × 2 columns</p>\n",
       "</div>"
      ],
      "text/plain": [
       "                                            Generation        label\n",
       "0    i know something im not supposed to and its br...        human\n",
       "1    should i admit the truth in my interviewi rece...        human\n",
       "2    high anxiety with possible brain tumormy hormo...        human\n",
       "3    my girlfriend was in an attempted rapehello i ...        human\n",
       "4    friendship advice needed  best friend is onlin...        human\n",
       "..                                                 ...          ...\n",
       "556  is it okay to ask a guy out as a girlyes it is...  instructgpt\n",
       "557  should i 26 m stay with my gf 26f of 5 yearswh...  instructgpt\n",
       "558  does he even like meit is impossible to answer...  instructgpt\n",
       "559  am i 26f being dramatic for being upset at my ...  instructgpt\n",
       "560  am i 19f paranoid about 20m guy im datingno on...  instructgpt\n",
       "\n",
       "[1876 rows x 2 columns]"
      ]
     },
     "execution_count": 246,
     "metadata": {},
     "output_type": "execute_result"
    }
   ],
   "source": [
    "generate"
   ]
  },
  {
   "cell_type": "code",
   "execution_count": 247,
   "metadata": {},
   "outputs": [],
   "source": [
    "import csv "
   ]
  },
  {
   "cell_type": "code",
   "execution_count": 248,
   "metadata": {},
   "outputs": [],
   "source": [
    "generation = pd.DataFrame({'text': generate['Generation'], 'class': generate['label']})"
   ]
  },
  {
   "cell_type": "code",
   "execution_count": 249,
   "metadata": {},
   "outputs": [],
   "source": [
    "generation.to_csv(data_path +'reddit_input.csv', index = False, header = True)"
   ]
  },
  {
   "cell_type": "code",
   "execution_count": 250,
   "metadata": {},
   "outputs": [
    {
     "data": {
      "text/html": [
       "<div>\n",
       "<style scoped>\n",
       "    .dataframe tbody tr th:only-of-type {\n",
       "        vertical-align: middle;\n",
       "    }\n",
       "\n",
       "    .dataframe tbody tr th {\n",
       "        vertical-align: top;\n",
       "    }\n",
       "\n",
       "    .dataframe thead th {\n",
       "        text-align: right;\n",
       "    }\n",
       "</style>\n",
       "<table border=\"1\" class=\"dataframe\">\n",
       "  <thead>\n",
       "    <tr style=\"text-align: right;\">\n",
       "      <th></th>\n",
       "      <th>Generation</th>\n",
       "      <th>label</th>\n",
       "    </tr>\n",
       "  </thead>\n",
       "  <tbody>\n",
       "    <tr>\n",
       "      <th>0</th>\n",
       "      <td>i know something im not supposed to and its br...</td>\n",
       "      <td>human</td>\n",
       "    </tr>\n",
       "    <tr>\n",
       "      <th>1</th>\n",
       "      <td>should i admit the truth in my interviewi rece...</td>\n",
       "      <td>human</td>\n",
       "    </tr>\n",
       "    <tr>\n",
       "      <th>2</th>\n",
       "      <td>high anxiety with possible brain tumormy hormo...</td>\n",
       "      <td>human</td>\n",
       "    </tr>\n",
       "    <tr>\n",
       "      <th>3</th>\n",
       "      <td>my girlfriend was in an attempted rapehello i ...</td>\n",
       "      <td>human</td>\n",
       "    </tr>\n",
       "    <tr>\n",
       "      <th>4</th>\n",
       "      <td>friendship advice needed  best friend is onlin...</td>\n",
       "      <td>human</td>\n",
       "    </tr>\n",
       "    <tr>\n",
       "      <th>...</th>\n",
       "      <td>...</td>\n",
       "      <td>...</td>\n",
       "    </tr>\n",
       "    <tr>\n",
       "      <th>556</th>\n",
       "      <td>is it okay to ask a guy out as a girlyes it is...</td>\n",
       "      <td>instructgpt</td>\n",
       "    </tr>\n",
       "    <tr>\n",
       "      <th>557</th>\n",
       "      <td>should i 26 m stay with my gf 26f of 5 yearswh...</td>\n",
       "      <td>instructgpt</td>\n",
       "    </tr>\n",
       "    <tr>\n",
       "      <th>558</th>\n",
       "      <td>does he even like meit is impossible to answer...</td>\n",
       "      <td>instructgpt</td>\n",
       "    </tr>\n",
       "    <tr>\n",
       "      <th>559</th>\n",
       "      <td>am i 26f being dramatic for being upset at my ...</td>\n",
       "      <td>instructgpt</td>\n",
       "    </tr>\n",
       "    <tr>\n",
       "      <th>560</th>\n",
       "      <td>am i 19f paranoid about 20m guy im datingno on...</td>\n",
       "      <td>instructgpt</td>\n",
       "    </tr>\n",
       "  </tbody>\n",
       "</table>\n",
       "<p>1876 rows × 2 columns</p>\n",
       "</div>"
      ],
      "text/plain": [
       "                                            Generation        label\n",
       "0    i know something im not supposed to and its br...        human\n",
       "1    should i admit the truth in my interviewi rece...        human\n",
       "2    high anxiety with possible brain tumormy hormo...        human\n",
       "3    my girlfriend was in an attempted rapehello i ...        human\n",
       "4    friendship advice needed  best friend is onlin...        human\n",
       "..                                                 ...          ...\n",
       "556  is it okay to ask a guy out as a girlyes it is...  instructgpt\n",
       "557  should i 26 m stay with my gf 26f of 5 yearswh...  instructgpt\n",
       "558  does he even like meit is impossible to answer...  instructgpt\n",
       "559  am i 26f being dramatic for being upset at my ...  instructgpt\n",
       "560  am i 19f paranoid about 20m guy im datingno on...  instructgpt\n",
       "\n",
       "[1876 rows x 2 columns]"
      ]
     },
     "execution_count": 250,
     "metadata": {},
     "output_type": "execute_result"
    }
   ],
   "source": [
    "generate"
   ]
  }
 ],
 "metadata": {
  "kernelspec": {
   "display_name": "Python 3",
   "language": "python",
   "name": "python3"
  },
  "language_info": {
   "codemirror_mode": {
    "name": "ipython",
    "version": 3
   },
   "file_extension": ".py",
   "mimetype": "text/x-python",
   "name": "python",
   "nbconvert_exporter": "python",
   "pygments_lexer": "ipython3",
   "version": "3.9.12"
  }
 },
 "nbformat": 4,
 "nbformat_minor": 2
}
